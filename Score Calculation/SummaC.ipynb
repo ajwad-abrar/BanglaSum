{
  "cells": [
    {
      "cell_type": "code",
      "execution_count": 1,
      "metadata": {
        "colab": {
          "base_uri": "https://localhost:8080/"
        },
        "id": "OMuhpxeENMqL",
        "outputId": "b3bb814f-1ed6-43fc-9415-a67401ad2c6f"
      },
      "outputs": [
        {
          "output_type": "stream",
          "name": "stdout",
          "text": [
            "Collecting summac\n",
            "  Downloading summac-0.0.4-py3-none-any.whl (30 kB)\n",
            "Requirement already satisfied: torch in /usr/local/lib/python3.10/dist-packages (from summac) (2.2.1+cu121)\n",
            "Requirement already satisfied: transformers>=4.24.0 in /usr/local/lib/python3.10/dist-packages (from summac) (4.38.2)\n",
            "Requirement already satisfied: nltk>=3.6.6 in /usr/local/lib/python3.10/dist-packages (from summac) (3.8.1)\n",
            "Collecting huggingface-hub<=0.17.0 (from summac)\n",
            "  Downloading huggingface_hub-0.17.0-py3-none-any.whl (294 kB)\n",
            "\u001b[2K     \u001b[90m━━━━━━━━━━━━━━━━━━━━━━━━━━━━━━━━━━━━━━━━\u001b[0m \u001b[32m294.8/294.8 kB\u001b[0m \u001b[31m2.8 MB/s\u001b[0m eta \u001b[36m0:00:00\u001b[0m\n",
            "\u001b[?25hRequirement already satisfied: sentencepiece in /usr/local/lib/python3.10/dist-packages (from summac) (0.1.99)\n",
            "Requirement already satisfied: protobuf in /usr/local/lib/python3.10/dist-packages (from summac) (3.20.3)\n",
            "Requirement already satisfied: filelock in /usr/local/lib/python3.10/dist-packages (from huggingface-hub<=0.17.0->summac) (3.13.3)\n",
            "Requirement already satisfied: fsspec in /usr/local/lib/python3.10/dist-packages (from huggingface-hub<=0.17.0->summac) (2023.6.0)\n",
            "Requirement already satisfied: requests in /usr/local/lib/python3.10/dist-packages (from huggingface-hub<=0.17.0->summac) (2.31.0)\n",
            "Requirement already satisfied: tqdm>=4.42.1 in /usr/local/lib/python3.10/dist-packages (from huggingface-hub<=0.17.0->summac) (4.66.2)\n",
            "Requirement already satisfied: pyyaml>=5.1 in /usr/local/lib/python3.10/dist-packages (from huggingface-hub<=0.17.0->summac) (6.0.1)\n",
            "Requirement already satisfied: typing-extensions>=3.7.4.3 in /usr/local/lib/python3.10/dist-packages (from huggingface-hub<=0.17.0->summac) (4.10.0)\n",
            "Requirement already satisfied: packaging>=20.9 in /usr/local/lib/python3.10/dist-packages (from huggingface-hub<=0.17.0->summac) (24.0)\n",
            "Requirement already satisfied: click in /usr/local/lib/python3.10/dist-packages (from nltk>=3.6.6->summac) (8.1.7)\n",
            "Requirement already satisfied: joblib in /usr/local/lib/python3.10/dist-packages (from nltk>=3.6.6->summac) (1.3.2)\n",
            "Requirement already satisfied: regex>=2021.8.3 in /usr/local/lib/python3.10/dist-packages (from nltk>=3.6.6->summac) (2023.12.25)\n",
            "INFO: pip is looking at multiple versions of transformers to determine which version is compatible with other requirements. This could take a while.\n",
            "Collecting transformers>=4.24.0 (from summac)\n",
            "  Downloading transformers-4.39.3-py3-none-any.whl (8.8 MB)\n",
            "\u001b[2K     \u001b[90m━━━━━━━━━━━━━━━━━━━━━━━━━━━━━━━━━━━━━━━━\u001b[0m \u001b[32m8.8/8.8 MB\u001b[0m \u001b[31m33.1 MB/s\u001b[0m eta \u001b[36m0:00:00\u001b[0m\n",
            "\u001b[?25h  Downloading transformers-4.39.2-py3-none-any.whl (8.8 MB)\n",
            "\u001b[2K     \u001b[90m━━━━━━━━━━━━━━━━━━━━━━━━━━━━━━━━━━━━━━━━\u001b[0m \u001b[32m8.8/8.8 MB\u001b[0m \u001b[31m37.8 MB/s\u001b[0m eta \u001b[36m0:00:00\u001b[0m\n",
            "\u001b[?25h  Downloading transformers-4.39.1-py3-none-any.whl (8.8 MB)\n",
            "\u001b[2K     \u001b[90m━━━━━━━━━━━━━━━━━━━━━━━━━━━━━━━━━━━━━━━━\u001b[0m \u001b[32m8.8/8.8 MB\u001b[0m \u001b[31m43.7 MB/s\u001b[0m eta \u001b[36m0:00:00\u001b[0m\n",
            "\u001b[?25h  Downloading transformers-4.39.0-py3-none-any.whl (8.8 MB)\n",
            "\u001b[2K     \u001b[90m━━━━━━━━━━━━━━━━━━━━━━━━━━━━━━━━━━━━━━━━\u001b[0m \u001b[32m8.8/8.8 MB\u001b[0m \u001b[31m34.3 MB/s\u001b[0m eta \u001b[36m0:00:00\u001b[0m\n",
            "\u001b[?25h  Downloading transformers-4.38.1-py3-none-any.whl (8.5 MB)\n",
            "\u001b[2K     \u001b[90m━━━━━━━━━━━━━━━━━━━━━━━━━━━━━━━━━━━━━━━━\u001b[0m \u001b[32m8.5/8.5 MB\u001b[0m \u001b[31m37.4 MB/s\u001b[0m eta \u001b[36m0:00:00\u001b[0m\n",
            "\u001b[?25h  Downloading transformers-4.38.0-py3-none-any.whl (8.5 MB)\n",
            "\u001b[2K     \u001b[90m━━━━━━━━━━━━━━━━━━━━━━━━━━━━━━━━━━━━━━━━\u001b[0m \u001b[32m8.5/8.5 MB\u001b[0m \u001b[31m50.0 MB/s\u001b[0m eta \u001b[36m0:00:00\u001b[0m\n",
            "\u001b[?25h  Downloading transformers-4.37.2-py3-none-any.whl (8.4 MB)\n",
            "\u001b[2K     \u001b[90m━━━━━━━━━━━━━━━━━━━━━━━━━━━━━━━━━━━━━━━━\u001b[0m \u001b[32m8.4/8.4 MB\u001b[0m \u001b[31m48.7 MB/s\u001b[0m eta \u001b[36m0:00:00\u001b[0m\n",
            "\u001b[?25hINFO: pip is looking at multiple versions of transformers to determine which version is compatible with other requirements. This could take a while.\n",
            "  Downloading transformers-4.37.1-py3-none-any.whl (8.4 MB)\n",
            "\u001b[2K     \u001b[90m━━━━━━━━━━━━━━━━━━━━━━━━━━━━━━━━━━━━━━━━\u001b[0m \u001b[32m8.4/8.4 MB\u001b[0m \u001b[31m42.0 MB/s\u001b[0m eta \u001b[36m0:00:00\u001b[0m\n",
            "\u001b[?25h  Downloading transformers-4.37.0-py3-none-any.whl (8.4 MB)\n",
            "\u001b[2K     \u001b[90m━━━━━━━━━━━━━━━━━━━━━━━━━━━━━━━━━━━━━━━━\u001b[0m \u001b[32m8.4/8.4 MB\u001b[0m \u001b[31m48.4 MB/s\u001b[0m eta \u001b[36m0:00:00\u001b[0m\n",
            "\u001b[?25h  Downloading transformers-4.36.2-py3-none-any.whl (8.2 MB)\n",
            "\u001b[2K     \u001b[90m━━━━━━━━━━━━━━━━━━━━━━━━━━━━━━━━━━━━━━━━\u001b[0m \u001b[32m8.2/8.2 MB\u001b[0m \u001b[31m24.6 MB/s\u001b[0m eta \u001b[36m0:00:00\u001b[0m\n",
            "\u001b[?25h  Downloading transformers-4.36.1-py3-none-any.whl (8.3 MB)\n",
            "\u001b[2K     \u001b[90m━━━━━━━━━━━━━━━━━━━━━━━━━━━━━━━━━━━━━━━━\u001b[0m \u001b[32m8.3/8.3 MB\u001b[0m \u001b[31m29.3 MB/s\u001b[0m eta \u001b[36m0:00:00\u001b[0m\n",
            "\u001b[?25h  Downloading transformers-4.36.0-py3-none-any.whl (8.2 MB)\n",
            "\u001b[2K     \u001b[90m━━━━━━━━━━━━━━━━━━━━━━━━━━━━━━━━━━━━━━━━\u001b[0m \u001b[32m8.2/8.2 MB\u001b[0m \u001b[31m41.3 MB/s\u001b[0m eta \u001b[36m0:00:00\u001b[0m\n",
            "\u001b[?25hINFO: This is taking longer than usual. You might need to provide the dependency resolver with stricter constraints to reduce runtime. See https://pip.pypa.io/warnings/backtracking for guidance. If you want to abort this run, press Ctrl + C.\n",
            "  Downloading transformers-4.35.2-py3-none-any.whl (7.9 MB)\n",
            "\u001b[2K     \u001b[90m━━━━━━━━━━━━━━━━━━━━━━━━━━━━━━━━━━━━━━━━\u001b[0m \u001b[32m7.9/7.9 MB\u001b[0m \u001b[31m37.5 MB/s\u001b[0m eta \u001b[36m0:00:00\u001b[0m\n",
            "\u001b[?25hRequirement already satisfied: numpy>=1.17 in /usr/local/lib/python3.10/dist-packages (from transformers>=4.24.0->summac) (1.25.2)\n",
            "Requirement already satisfied: tokenizers<0.19,>=0.14 in /usr/local/lib/python3.10/dist-packages (from transformers>=4.24.0->summac) (0.15.2)\n",
            "Requirement already satisfied: safetensors>=0.3.1 in /usr/local/lib/python3.10/dist-packages (from transformers>=4.24.0->summac) (0.4.2)\n",
            "Requirement already satisfied: sympy in /usr/local/lib/python3.10/dist-packages (from torch->summac) (1.12)\n",
            "Requirement already satisfied: networkx in /usr/local/lib/python3.10/dist-packages (from torch->summac) (3.2.1)\n",
            "Requirement already satisfied: jinja2 in /usr/local/lib/python3.10/dist-packages (from torch->summac) (3.1.3)\n",
            "Collecting nvidia-cuda-nvrtc-cu12==12.1.105 (from torch->summac)\n",
            "  Downloading nvidia_cuda_nvrtc_cu12-12.1.105-py3-none-manylinux1_x86_64.whl (23.7 MB)\n",
            "\u001b[2K     \u001b[90m━━━━━━━━━━━━━━━━━━━━━━━━━━━━━━━━━━━━━━━━\u001b[0m \u001b[32m23.7/23.7 MB\u001b[0m \u001b[31m36.2 MB/s\u001b[0m eta \u001b[36m0:00:00\u001b[0m\n",
            "\u001b[?25hCollecting nvidia-cuda-runtime-cu12==12.1.105 (from torch->summac)\n",
            "  Downloading nvidia_cuda_runtime_cu12-12.1.105-py3-none-manylinux1_x86_64.whl (823 kB)\n",
            "\u001b[2K     \u001b[90m━━━━━━━━━━━━━━━━━━━━━━━━━━━━━━━━━━━━━━━━\u001b[0m \u001b[32m823.6/823.6 kB\u001b[0m \u001b[31m47.6 MB/s\u001b[0m eta \u001b[36m0:00:00\u001b[0m\n",
            "\u001b[?25hCollecting nvidia-cuda-cupti-cu12==12.1.105 (from torch->summac)\n",
            "  Downloading nvidia_cuda_cupti_cu12-12.1.105-py3-none-manylinux1_x86_64.whl (14.1 MB)\n",
            "\u001b[2K     \u001b[90m━━━━━━━━━━━━━━━━━━━━━━━━━━━━━━━━━━━━━━━━\u001b[0m \u001b[32m14.1/14.1 MB\u001b[0m \u001b[31m36.0 MB/s\u001b[0m eta \u001b[36m0:00:00\u001b[0m\n",
            "\u001b[?25hCollecting nvidia-cudnn-cu12==8.9.2.26 (from torch->summac)\n",
            "  Downloading nvidia_cudnn_cu12-8.9.2.26-py3-none-manylinux1_x86_64.whl (731.7 MB)\n",
            "\u001b[2K     \u001b[90m━━━━━━━━━━━━━━━━━━━━━━━━━━━━━━━━━━━━━━━━\u001b[0m \u001b[32m731.7/731.7 MB\u001b[0m \u001b[31m1.0 MB/s\u001b[0m eta \u001b[36m0:00:00\u001b[0m\n",
            "\u001b[?25hCollecting nvidia-cublas-cu12==12.1.3.1 (from torch->summac)\n",
            "  Downloading nvidia_cublas_cu12-12.1.3.1-py3-none-manylinux1_x86_64.whl (410.6 MB)\n",
            "\u001b[2K     \u001b[90m━━━━━━━━━━━━━━━━━━━━━━━━━━━━━━━━━━━━━━━━\u001b[0m \u001b[32m410.6/410.6 MB\u001b[0m \u001b[31m1.2 MB/s\u001b[0m eta \u001b[36m0:00:00\u001b[0m\n",
            "\u001b[?25hCollecting nvidia-cufft-cu12==11.0.2.54 (from torch->summac)\n",
            "  Downloading nvidia_cufft_cu12-11.0.2.54-py3-none-manylinux1_x86_64.whl (121.6 MB)\n",
            "\u001b[2K     \u001b[90m━━━━━━━━━━━━━━━━━━━━━━━━━━━━━━━━━━━━━━━━\u001b[0m \u001b[32m121.6/121.6 MB\u001b[0m \u001b[31m2.7 MB/s\u001b[0m eta \u001b[36m0:00:00\u001b[0m\n",
            "\u001b[?25hCollecting nvidia-curand-cu12==10.3.2.106 (from torch->summac)\n",
            "  Downloading nvidia_curand_cu12-10.3.2.106-py3-none-manylinux1_x86_64.whl (56.5 MB)\n",
            "\u001b[2K     \u001b[90m━━━━━━━━━━━━━━━━━━━━━━━━━━━━━━━━━━━━━━━━\u001b[0m \u001b[32m56.5/56.5 MB\u001b[0m \u001b[31m3.4 MB/s\u001b[0m eta \u001b[36m0:00:00\u001b[0m\n",
            "\u001b[?25hCollecting nvidia-cusolver-cu12==11.4.5.107 (from torch->summac)\n",
            "  Downloading nvidia_cusolver_cu12-11.4.5.107-py3-none-manylinux1_x86_64.whl (124.2 MB)\n",
            "\u001b[2K     \u001b[90m━━━━━━━━━━━━━━━━━━━━━━━━━━━━━━━━━━━━━━━━\u001b[0m \u001b[32m124.2/124.2 MB\u001b[0m \u001b[31m3.0 MB/s\u001b[0m eta \u001b[36m0:00:00\u001b[0m\n",
            "\u001b[?25hCollecting nvidia-cusparse-cu12==12.1.0.106 (from torch->summac)\n",
            "  Downloading nvidia_cusparse_cu12-12.1.0.106-py3-none-manylinux1_x86_64.whl (196.0 MB)\n",
            "\u001b[2K     \u001b[90m━━━━━━━━━━━━━━━━━━━━━━━━━━━━━━━━━━━━━━━━\u001b[0m \u001b[32m196.0/196.0 MB\u001b[0m \u001b[31m1.7 MB/s\u001b[0m eta \u001b[36m0:00:00\u001b[0m\n",
            "\u001b[?25hCollecting nvidia-nccl-cu12==2.19.3 (from torch->summac)\n",
            "  Downloading nvidia_nccl_cu12-2.19.3-py3-none-manylinux1_x86_64.whl (166.0 MB)\n",
            "\u001b[2K     \u001b[90m━━━━━━━━━━━━━━━━━━━━━━━━━━━━━━━━━━━━━━━━\u001b[0m \u001b[32m166.0/166.0 MB\u001b[0m \u001b[31m1.9 MB/s\u001b[0m eta \u001b[36m0:00:00\u001b[0m\n",
            "\u001b[?25hCollecting nvidia-nvtx-cu12==12.1.105 (from torch->summac)\n",
            "  Downloading nvidia_nvtx_cu12-12.1.105-py3-none-manylinux1_x86_64.whl (99 kB)\n",
            "\u001b[2K     \u001b[90m━━━━━━━━━━━━━━━━━━━━━━━━━━━━━━━━━━━━━━━━\u001b[0m \u001b[32m99.1/99.1 kB\u001b[0m \u001b[31m1.6 MB/s\u001b[0m eta \u001b[36m0:00:00\u001b[0m\n",
            "\u001b[?25hRequirement already satisfied: triton==2.2.0 in /usr/local/lib/python3.10/dist-packages (from torch->summac) (2.2.0)\n",
            "Collecting nvidia-nvjitlink-cu12 (from nvidia-cusolver-cu12==11.4.5.107->torch->summac)\n",
            "  Downloading nvidia_nvjitlink_cu12-12.4.127-py3-none-manylinux2014_x86_64.whl (21.1 MB)\n",
            "\u001b[2K     \u001b[90m━━━━━━━━━━━━━━━━━━━━━━━━━━━━━━━━━━━━━━━━\u001b[0m \u001b[32m21.1/21.1 MB\u001b[0m \u001b[31m2.8 MB/s\u001b[0m eta \u001b[36m0:00:00\u001b[0m\n",
            "\u001b[?25hRequirement already satisfied: MarkupSafe>=2.0 in /usr/local/lib/python3.10/dist-packages (from jinja2->torch->summac) (2.1.5)\n",
            "Requirement already satisfied: charset-normalizer<4,>=2 in /usr/local/lib/python3.10/dist-packages (from requests->huggingface-hub<=0.17.0->summac) (3.3.2)\n",
            "Requirement already satisfied: idna<4,>=2.5 in /usr/local/lib/python3.10/dist-packages (from requests->huggingface-hub<=0.17.0->summac) (3.6)\n",
            "Requirement already satisfied: urllib3<3,>=1.21.1 in /usr/local/lib/python3.10/dist-packages (from requests->huggingface-hub<=0.17.0->summac) (2.0.7)\n",
            "Requirement already satisfied: certifi>=2017.4.17 in /usr/local/lib/python3.10/dist-packages (from requests->huggingface-hub<=0.17.0->summac) (2024.2.2)\n",
            "Requirement already satisfied: mpmath>=0.19 in /usr/local/lib/python3.10/dist-packages (from sympy->torch->summac) (1.3.0)\n",
            "Installing collected packages: nvidia-nvtx-cu12, nvidia-nvjitlink-cu12, nvidia-nccl-cu12, nvidia-curand-cu12, nvidia-cufft-cu12, nvidia-cuda-runtime-cu12, nvidia-cuda-nvrtc-cu12, nvidia-cuda-cupti-cu12, nvidia-cublas-cu12, nvidia-cusparse-cu12, nvidia-cudnn-cu12, huggingface-hub, nvidia-cusolver-cu12, transformers, summac\n",
            "  Attempting uninstall: huggingface-hub\n",
            "    Found existing installation: huggingface-hub 0.20.3\n",
            "    Uninstalling huggingface-hub-0.20.3:\n",
            "      Successfully uninstalled huggingface-hub-0.20.3\n",
            "  Attempting uninstall: transformers\n",
            "    Found existing installation: transformers 4.38.2\n",
            "    Uninstalling transformers-4.38.2:\n",
            "      Successfully uninstalled transformers-4.38.2\n",
            "Successfully installed huggingface-hub-0.17.0 nvidia-cublas-cu12-12.1.3.1 nvidia-cuda-cupti-cu12-12.1.105 nvidia-cuda-nvrtc-cu12-12.1.105 nvidia-cuda-runtime-cu12-12.1.105 nvidia-cudnn-cu12-8.9.2.26 nvidia-cufft-cu12-11.0.2.54 nvidia-curand-cu12-10.3.2.106 nvidia-cusolver-cu12-11.4.5.107 nvidia-cusparse-cu12-12.1.0.106 nvidia-nccl-cu12-2.19.3 nvidia-nvjitlink-cu12-12.4.127 nvidia-nvtx-cu12-12.1.105 summac-0.0.4 transformers-4.35.2\n"
          ]
        }
      ],
      "source": [
        "!pip install summac"
      ]
    },
    {
      "cell_type": "code",
      "execution_count": 2,
      "metadata": {
        "colab": {
          "base_uri": "https://localhost:8080/"
        },
        "id": "TxRlj86kRMaa",
        "outputId": "dbbd7d28-ff33-4478-ac73-863917dfe10e"
      },
      "outputs": [
        {
          "output_type": "stream",
          "name": "stderr",
          "text": [
            "[nltk_data] Downloading package punkt to /root/nltk_data...\n",
            "[nltk_data]   Unzipping tokenizers/punkt.zip.\n"
          ]
        },
        {
          "output_type": "execute_result",
          "data": {
            "text/plain": [
              "True"
            ]
          },
          "metadata": {},
          "execution_count": 2
        }
      ],
      "source": [
        "import nltk\n",
        "nltk.download('punkt')"
      ]
    },
    {
      "cell_type": "code",
      "execution_count": 8,
      "metadata": {
        "colab": {
          "base_uri": "https://localhost:8080/"
        },
        "id": "20i-2nKiM_aK",
        "outputId": "61d53d88-fed9-4548-f6ba-5ada4734fe22"
      },
      "outputs": [
        {
          "output_type": "stream",
          "name": "stdout",
          "text": [
            "<All keys matched successfully>\n",
            "[Summary 1] SummaCZS Score: 0.582; SummacConv score: 0.536\n",
            "[Summary 2] SummaCZS Score: 0.877; SummacConv score: 0.709\n"
          ]
        }
      ],
      "source": [
        "from summac.model_summac import SummaCZS, SummaCConv\n",
        "\n",
        "model_zs = SummaCZS(granularity=\"sentence\", model_name=\"vitc\", device=\"cpu\") # If you have a GPU: switch to: device=\"cuda\"\n",
        "model_conv = SummaCConv(models=[\"vitc\"], bins='percentile', granularity=\"sentence\", nli_labels=\"e\", device=\"cpu\", start_file=\"default\", agg=\"mean\")\n",
        "\n",
        "document = \"\"\"Scientists are studying Mars to learn about the Red Planet and find landing sites for future missions.\n",
        "One possible site, known as Arcadia Planitia, is covered instrange sinuous features.\n",
        "The shapes could be signs that the area is actually made of glaciers, which are large masses of slow-moving ice.\n",
        "Arcadia Planitia is in Mars' northern lowlands.\"\"\"\n",
        "\n",
        "summary1 = \"There are strange shape patterns on Arcadia Planitia. The shapes could indicate the area might be made of glaciers. This makes Arcadia Planitia ideal for future missions.\"\n",
        "score_zs1 = model_zs.score([document], [summary1])\n",
        "score_conv1 = model_conv.score([document], [summary1])\n",
        "print(\"[Summary 1] SummaCZS Score: %.3f; SummacConv score: %.3f\" % (score_zs1[\"scores\"][0], score_conv1[\"scores\"][0])) # [Summary 1] SummaCZS Score: 0.582; SummacConv score: 0.536\n",
        "\n",
        "summary2 = \"There are strange shape patterns on Arcadia Planitia. The shapes could indicate the area might be made of glaciers.\"\n",
        "score_zs2 = model_zs.score([document], [summary2])\n",
        "score_conv2 = model_conv.score([document], [summary2])\n",
        "print(\"[Summary 2] SummaCZS Score: %.3f; SummacConv score: %.3f\" % (score_zs2[\"scores\"][0], score_conv2[\"scores\"][0])) # [Summary 2] SummaCZS Score: 0.877; SummacConv score: 0.709"
      ]
    },
    {
      "cell_type": "code",
      "execution_count": null,
      "metadata": {
        "colab": {
          "base_uri": "https://localhost:8080/",
          "height": 415,
          "referenced_widgets": [
            "5cd62bdefeab4ce899812ec984a9bf9f",
            "0aa75af1fb9645eba11c86538d6361d2",
            "7d9bbd8965d34c85ac9133a1ed11ac57",
            "08e93b2a4f55467b91c6916a0f17fecc",
            "d36b066c08074c20bd564e6e7af5370b",
            "532677af3a6843349bdbe5b019386279",
            "9e05a8e90ce64872803af8a1e5ba7213",
            "373ce6f7aa844bf885fa15d34db14fb0",
            "63542c2b73694569a7d274b4a3519737",
            "01595dde72454fd1b905261a39611b13",
            "12394e0c5f034287a62a6d39e4b4b8ec",
            "f6c24e2ce8284c289502169b2934ba1e",
            "d642ca56d035445083eceb8b375e03f8",
            "c3881367881e4ecfa1a3963d4a2f4e68",
            "c097daf36b484a8bb6bf92483fa2eb77",
            "fa1bda7631fd46dcb2ed465c6da2e49e",
            "a29b61be888540dabc85cc47581530ea",
            "37c1be6e67fa4f19b884b1ff95f5f94b",
            "daa55cd7224d4c4a8bf93a58dda6ba57",
            "32625591c6d0405892a3e747e6f0d22f",
            "0a7a002257df47ad827ee107f07a09cd",
            "739b53e61e214656a6a761cd9a423b8c",
            "667bbd8ad3694ca7b52fd3bb71c0f794",
            "86115aa38cf44829b5c3fe1fb33824d3",
            "acdc9feeac2a497cb9881b51e4898b63",
            "cdee3f34068e40eebb5b7f3e3088e5e8",
            "c13dca82d72c4c11804c72b766c5748d",
            "727dfa15cd2a44089ccc55857716c695",
            "932fbe4eca54460f8b5daeabb34dcee3",
            "2aebb2cfd07641f7932e134e4f61b6ec",
            "7d85b038f77f4d8bad915e96ed700ab7",
            "ac629d778e574dd3af95f63abd0e4e3b",
            "59a026b6a8e04931b1884e30ac9f8440",
            "6d256fbbd9a14cbda19582582cd474e2",
            "9d1d28506f0c4935a715ca0853483845",
            "c8d34200cb14410cbf0183eb9039a91f",
            "4eb5e660847345978f558ee05a9b8555",
            "bde10655d7884963b5c6c3e46b8d152b",
            "ea3f19f46d7b4103bfaa1f05781282de",
            "9f3bceb5b82546598dfd05e7bb05a252",
            "694b157872064edaa50bab7d77bdc81e",
            "dc57c7641b704bd19a8928364d5f0180",
            "ab10f0dd33b847ffa01e912d77623940",
            "fb74d51133854cb9bce062690ea43612",
            "df8494f00cbf46cf860a938a2fc18d05",
            "dd93c0cead064ae68c6b0f6189cc12d8",
            "d940669101da43428d520c802e5641b6",
            "f81a43d515a24a15aa60038137b3e839",
            "04c2f1f316c241b883ecc16043a58018",
            "f3baceab28594228898075b15d805865",
            "d0d16b73dea7403882c4c19085cccb76",
            "30231c329c364dcbb0b52127db5fb75f",
            "7d1458fa7bba41dd9fa9e11dd8185e74",
            "87e4a5f1e69c46968d999141f7cde4c2",
            "acb95d35345f4d839af814dce47267e1"
          ]
        },
        "id": "5gc9OvVEVCZz",
        "outputId": "df5a1c00-0c2f-4559-be58-b8c7a915c30a"
      },
      "outputs": [
        {
          "name": "stdout",
          "output_type": "stream",
          "text": [
            "<All keys matched successfully>\n"
          ]
        },
        {
          "name": "stderr",
          "output_type": "stream",
          "text": [
            "\r  0%|          | 0/3 [00:00<?, ?it/s]"
          ]
        },
        {
          "data": {
            "application/vnd.jupyter.widget-view+json": {
              "model_id": "5cd62bdefeab4ce899812ec984a9bf9f",
              "version_major": 2,
              "version_minor": 0
            },
            "text/plain": [
              "Downloading tokenizer_config.json:   0%|          | 0.00/217 [00:00<?, ?B/s]"
            ]
          },
          "metadata": {},
          "output_type": "display_data"
        },
        {
          "data": {
            "application/vnd.jupyter.widget-view+json": {
              "model_id": "f6c24e2ce8284c289502169b2934ba1e",
              "version_major": 2,
              "version_minor": 0
            },
            "text/plain": [
              "Downloading config.json:   0%|          | 0.00/1.09k [00:00<?, ?B/s]"
            ]
          },
          "metadata": {},
          "output_type": "display_data"
        },
        {
          "data": {
            "application/vnd.jupyter.widget-view+json": {
              "model_id": "667bbd8ad3694ca7b52fd3bb71c0f794",
              "version_major": 2,
              "version_minor": 0
            },
            "text/plain": [
              "Downloading spiece.model:   0%|          | 0.00/760k [00:00<?, ?B/s]"
            ]
          },
          "metadata": {},
          "output_type": "display_data"
        },
        {
          "data": {
            "application/vnd.jupyter.widget-view+json": {
              "model_id": "6d256fbbd9a14cbda19582582cd474e2",
              "version_major": 2,
              "version_minor": 0
            },
            "text/plain": [
              "Downloading (…)cial_tokens_map.json:   0%|          | 0.00/156 [00:00<?, ?B/s]"
            ]
          },
          "metadata": {},
          "output_type": "display_data"
        },
        {
          "data": {
            "application/vnd.jupyter.widget-view+json": {
              "model_id": "df8494f00cbf46cf860a938a2fc18d05",
              "version_major": 2,
              "version_minor": 0
            },
            "text/plain": [
              "Downloading model.safetensors:   0%|          | 0.00/235M [00:00<?, ?B/s]"
            ]
          },
          "metadata": {},
          "output_type": "display_data"
        },
        {
          "name": "stderr",
          "output_type": "stream",
          "text": [
            "/usr/local/lib/python3.10/dist-packages/summac/model_summac.py:298: UserWarning: Creating a tensor from a list of numpy.ndarrays is extremely slow. Please consider converting the list to a single numpy.ndarray with numpy.array() before converting to a tensor. (Triggered internally at ../torch/csrc/utils/tensor_new.cpp:261.)\n",
            "  histograms = torch.FloatTensor(histograms).to(self.device)\n",
            "Processing predictions... (1/3):  33%|███▎      | 1/3 [00:24<00:48, 24.16s/it]"
          ]
        },
        {
          "name": "stdout",
          "output_type": "stream",
          "text": [
            "SummaCZS Score for prediction 1: 0.347\n",
            "SummaCConv Score for prediction 1: 0.222\n"
          ]
        },
        {
          "name": "stderr",
          "output_type": "stream",
          "text": [
            "Processing predictions... (2/3):  67%|██████▋   | 2/3 [00:48<00:23, 23.99s/it]"
          ]
        },
        {
          "name": "stdout",
          "output_type": "stream",
          "text": [
            "SummaCZS Score for prediction 2: 0.507\n",
            "SummaCConv Score for prediction 2: 0.218\n"
          ]
        },
        {
          "name": "stderr",
          "output_type": "stream",
          "text": [
            "Processing predictions... (3/3): 100%|██████████| 3/3 [01:11<00:00, 23.86s/it]"
          ]
        },
        {
          "name": "stdout",
          "output_type": "stream",
          "text": [
            "SummaCZS Score for prediction 3: 0.230\n",
            "SummaCConv Score for prediction 3: 0.214\n",
            "Average SummaCZS Score: 0.361; Average SummacConv score: 0.218\n"
          ]
        },
        {
          "name": "stderr",
          "output_type": "stream",
          "text": [
            "\n"
          ]
        }
      ],
      "source": [
        "from tqdm import tqdm\n",
        "import pandas as pd\n",
        "from summac.model_summac import SummaCZS, SummaCConv\n",
        "\n",
        "# Load the CSV file\n",
        "df = pd.read_csv(\"Bangla1.csv\")\n",
        "\n",
        "# Extract the predictions and references columns\n",
        "predictions = df[\"New\"].tolist()\n",
        "references = df[\"question\"].tolist()\n",
        "\n",
        "# Initialize the SummaC evaluators\n",
        "model_zs = SummaCZS(granularity=\"sentence\", model_name=\"vitc\", device=\"cpu\")  # If you have a GPU: switch to: device=\"cuda\"\n",
        "model_conv = SummaCConv(models=[\"vitc\"], bins='percentile', granularity=\"sentence\", nli_labels=\"e\", device=\"cpu\", start_file=\"default\", agg=\"mean\")\n",
        "\n",
        "# Compute the SummaC scores for each prediction-reference pair\n",
        "scores_zs = []\n",
        "scores_conv = []\n",
        "n_predictions = len(predictions)\n",
        "with tqdm(total=n_predictions) as pbar:\n",
        "    for i in range(n_predictions):\n",
        "        # Compute the SummaC scores for the current prediction-reference pair\n",
        "        score_zs = model_zs.score([predictions[i]], [references[i]])\n",
        "        score_conv = model_conv.score([predictions[i]], [references[i]])\n",
        "\n",
        "        # Print the immediate scores\n",
        "        print(f\"SummaCZS Score for prediction {i+1}: {score_zs['scores'][0]:.3f}\")\n",
        "        print(f\"SummaCConv Score for prediction {i+1}: {score_conv['scores'][0]:.3f}\")\n",
        "\n",
        "        # Append the scores to the list\n",
        "        scores_zs.append(score_zs[\"scores\"][0])\n",
        "        scores_conv.append(score_conv[\"scores\"][0])\n",
        "\n",
        "        # Update the progress bar\n",
        "        pbar.update(1)\n",
        "        pbar.set_description(\"Processing predictions... (%d/%d)\" % (i+1, n_predictions))\n",
        "\n",
        "# Compute the average scores\n",
        "avg_score_zs = sum(scores_zs) / len(scores_zs)\n",
        "avg_score_conv = sum(scores_conv) / len(scores_conv)\n",
        "\n",
        "# Print the average scores\n",
        "print(\"Average SummaCZS Score: %.3f; Average SummacConv score: %.3f\" % (avg_score_zs, avg_score_conv))\n"
      ]
    },
    {
      "cell_type": "markdown",
      "source": [
        "# Finetuned summary"
      ],
      "metadata": {
        "id": "fI0QVQswEwSJ"
      }
    },
    {
      "cell_type": "code",
      "execution_count": 13,
      "metadata": {
        "colab": {
          "base_uri": "https://localhost:8080/"
        },
        "id": "h8xRLw_Vtdwh",
        "outputId": "ea888627-de76-47d3-e86e-72350a180324"
      },
      "outputs": [
        {
          "output_type": "stream",
          "name": "stdout",
          "text": [
            "<All keys matched successfully>\n"
          ]
        },
        {
          "output_type": "stream",
          "name": "stderr",
          "text": [
            "Processing predictions... (2/200):   1%|          | 2/200 [00:03<04:57,  1.50s/it]"
          ]
        },
        {
          "output_type": "stream",
          "name": "stdout",
          "text": [
            "SummaCZS Score for prediction 1: 0.22496\n",
            "SummaCConv Score for prediction 1: 0.21373\n",
            "SummaCZS Score for prediction 2: 0.95194\n",
            "SummaCConv Score for prediction 2: 0.46412\n"
          ]
        },
        {
          "output_type": "stream",
          "name": "stderr",
          "text": [
            "Processing predictions... (6/200):   3%|▎         | 6/200 [00:03<01:23,  2.33it/s]"
          ]
        },
        {
          "output_type": "stream",
          "name": "stdout",
          "text": [
            "SummaCZS Score for prediction 3: 0.15512\n",
            "SummaCConv Score for prediction 3: 0.21373\n",
            "SummaCZS Score for prediction 4: 0.43821\n",
            "SummaCConv Score for prediction 4: 0.22153\n",
            "SummaCZS Score for prediction 5: -0.00125\n",
            "SummaCConv Score for prediction 5: 0.19352\n",
            "SummaCZS Score for prediction 6: 0.39056\n",
            "SummaCConv Score for prediction 6: 0.22153\n"
          ]
        },
        {
          "output_type": "stream",
          "name": "stderr",
          "text": [
            "Processing predictions... (11/200):   6%|▌         | 11/200 [00:04<00:29,  6.32it/s]"
          ]
        },
        {
          "output_type": "stream",
          "name": "stdout",
          "text": [
            "SummaCZS Score for prediction 7: 0.19171\n",
            "SummaCConv Score for prediction 7: 0.21373\n",
            "SummaCZS Score for prediction 8: 0.14845\n",
            "SummaCConv Score for prediction 8: 0.21373\n",
            "SummaCZS Score for prediction 9: 0.03333\n",
            "SummaCConv Score for prediction 9: 0.21373\n",
            "SummaCZS Score for prediction 10: 0.10664\n",
            "SummaCConv Score for prediction 10: 0.21373\n",
            "SummaCZS Score for prediction 11: 0.03172\n",
            "SummaCConv Score for prediction 11: 0.20179\n"
          ]
        },
        {
          "output_type": "stream",
          "name": "stderr",
          "text": [
            "Processing predictions... (15/200):   8%|▊         | 15/200 [00:04<00:17, 10.34it/s]"
          ]
        },
        {
          "output_type": "stream",
          "name": "stdout",
          "text": [
            "SummaCZS Score for prediction 12: 0.49770\n",
            "SummaCConv Score for prediction 12: 0.22153\n",
            "SummaCZS Score for prediction 13: -0.32184\n",
            "SummaCConv Score for prediction 13: 0.22025\n",
            "SummaCZS Score for prediction 14: -0.05742\n",
            "SummaCConv Score for prediction 14: 0.20011\n",
            "SummaCZS Score for prediction 15: -0.02484\n",
            "SummaCConv Score for prediction 15: 0.19352\n"
          ]
        },
        {
          "output_type": "stream",
          "name": "stderr",
          "text": [
            "Processing predictions... (20/200):  10%|█         | 20/200 [00:04<00:14, 12.71it/s]"
          ]
        },
        {
          "output_type": "stream",
          "name": "stdout",
          "text": [
            "SummaCZS Score for prediction 16: 0.85376\n",
            "SummaCConv Score for prediction 16: 0.22153\n",
            "SummaCZS Score for prediction 17: 0.06302\n",
            "SummaCConv Score for prediction 17: 0.22025\n",
            "SummaCZS Score for prediction 18: 0.03317\n",
            "SummaCConv Score for prediction 18: 0.20179\n",
            "SummaCZS Score for prediction 19: 0.20969\n",
            "SummaCConv Score for prediction 19: 0.21373\n",
            "SummaCZS Score for prediction 20: -0.03455\n",
            "SummaCConv Score for prediction 20: 0.19352\n"
          ]
        },
        {
          "output_type": "stream",
          "name": "stderr",
          "text": [
            "Processing predictions... (25/200):  12%|█▎        | 25/200 [00:04<00:11, 15.56it/s]"
          ]
        },
        {
          "output_type": "stream",
          "name": "stdout",
          "text": [
            "SummaCZS Score for prediction 21: 0.01111\n",
            "SummaCConv Score for prediction 21: 0.22025\n",
            "SummaCZS Score for prediction 22: 0.96621\n",
            "SummaCConv Score for prediction 22: 0.55624\n",
            "SummaCZS Score for prediction 23: 0.96005\n",
            "SummaCConv Score for prediction 23: 0.52609\n",
            "SummaCZS Score for prediction 24: 0.90145\n",
            "SummaCConv Score for prediction 24: 0.26973\n",
            "SummaCZS Score for prediction 25: 0.18098\n",
            "SummaCConv Score for prediction 25: 0.21373\n"
          ]
        },
        {
          "output_type": "stream",
          "name": "stderr",
          "text": [
            "Processing predictions... (29/200):  14%|█▍        | 29/200 [00:05<00:10, 16.92it/s]"
          ]
        },
        {
          "output_type": "stream",
          "name": "stdout",
          "text": [
            "SummaCZS Score for prediction 26: -0.64532\n",
            "SummaCConv Score for prediction 26: 0.20278\n",
            "SummaCZS Score for prediction 27: 0.66783\n",
            "SummaCConv Score for prediction 27: 0.22153\n",
            "SummaCZS Score for prediction 28: 0.96628\n",
            "SummaCConv Score for prediction 28: 0.55624\n",
            "SummaCZS Score for prediction 29: 0.31396\n",
            "SummaCConv Score for prediction 29: 0.22153\n"
          ]
        },
        {
          "output_type": "stream",
          "name": "stderr",
          "text": [
            "Processing predictions... (33/200):  16%|█▋        | 33/200 [00:05<00:09, 18.43it/s]"
          ]
        },
        {
          "output_type": "stream",
          "name": "stdout",
          "text": [
            "SummaCZS Score for prediction 30: 0.14444\n",
            "SummaCConv Score for prediction 30: 0.21373\n",
            "SummaCZS Score for prediction 31: 0.88673\n",
            "SummaCConv Score for prediction 31: 0.22153\n",
            "SummaCZS Score for prediction 32: 0.97877\n",
            "SummaCConv Score for prediction 32: 0.59967\n",
            "SummaCZS Score for prediction 33: -0.68924\n",
            "SummaCConv Score for prediction 33: 0.20179\n"
          ]
        },
        {
          "output_type": "stream",
          "name": "stderr",
          "text": [
            "Processing predictions... (37/200):  18%|█▊        | 37/200 [00:05<00:09, 17.86it/s]"
          ]
        },
        {
          "output_type": "stream",
          "name": "stdout",
          "text": [
            "SummaCZS Score for prediction 34: 0.66945\n",
            "SummaCConv Score for prediction 34: 0.22153\n",
            "SummaCZS Score for prediction 35: 0.66156\n",
            "SummaCConv Score for prediction 35: 0.22153\n",
            "SummaCZS Score for prediction 36: 0.05470\n",
            "SummaCConv Score for prediction 36: 0.20179\n",
            "SummaCZS Score for prediction 37: 0.89728\n",
            "SummaCConv Score for prediction 37: 0.26973\n"
          ]
        },
        {
          "output_type": "stream",
          "name": "stderr",
          "text": [
            "Processing predictions... (41/200):  20%|██        | 41/200 [00:05<00:09, 17.21it/s]"
          ]
        },
        {
          "output_type": "stream",
          "name": "stdout",
          "text": [
            "SummaCZS Score for prediction 38: 0.58316\n",
            "SummaCConv Score for prediction 38: 0.22153\n",
            "SummaCZS Score for prediction 39: 0.79972\n",
            "SummaCConv Score for prediction 39: 0.22153\n",
            "SummaCZS Score for prediction 40: 0.88233\n",
            "SummaCConv Score for prediction 40: 0.22153\n",
            "SummaCZS Score for prediction 41: 0.38422\n",
            "SummaCConv Score for prediction 41: 0.22153\n"
          ]
        },
        {
          "output_type": "stream",
          "name": "stderr",
          "text": [
            "Processing predictions... (45/200):  22%|██▎       | 45/200 [00:06<00:08, 18.00it/s]"
          ]
        },
        {
          "output_type": "stream",
          "name": "stdout",
          "text": [
            "SummaCZS Score for prediction 42: 0.28815\n",
            "SummaCConv Score for prediction 42: 0.21373\n",
            "SummaCZS Score for prediction 43: 0.12398\n",
            "SummaCConv Score for prediction 43: 0.21373\n",
            "SummaCZS Score for prediction 44: -0.28693\n",
            "SummaCConv Score for prediction 44: 0.20477\n",
            "SummaCZS Score for prediction 45: 0.08813\n",
            "SummaCConv Score for prediction 45: 0.21373\n"
          ]
        },
        {
          "output_type": "stream",
          "name": "stderr",
          "text": [
            "Processing predictions... (49/200):  24%|██▍       | 49/200 [00:06<00:08, 18.16it/s]"
          ]
        },
        {
          "output_type": "stream",
          "name": "stdout",
          "text": [
            "SummaCZS Score for prediction 46: 0.23801\n",
            "SummaCConv Score for prediction 46: 0.21373\n",
            "SummaCZS Score for prediction 47: 0.45724\n",
            "SummaCConv Score for prediction 47: 0.22153\n",
            "SummaCZS Score for prediction 48: 0.05521\n",
            "SummaCConv Score for prediction 48: 0.22025\n",
            "SummaCZS Score for prediction 49: 0.62779\n",
            "SummaCConv Score for prediction 49: 0.22153\n"
          ]
        },
        {
          "output_type": "stream",
          "name": "stderr",
          "text": [
            "Processing predictions... (53/200):  26%|██▋       | 53/200 [00:06<00:08, 18.37it/s]"
          ]
        },
        {
          "output_type": "stream",
          "name": "stdout",
          "text": [
            "SummaCZS Score for prediction 50: -0.00588\n",
            "SummaCConv Score for prediction 50: 0.20278\n",
            "SummaCZS Score for prediction 51: 0.06250\n",
            "SummaCConv Score for prediction 51: 0.21373\n",
            "SummaCZS Score for prediction 52: 0.19659\n",
            "SummaCConv Score for prediction 52: 0.21373\n",
            "SummaCZS Score for prediction 53: 0.93288\n",
            "SummaCConv Score for prediction 53: 0.40564\n"
          ]
        },
        {
          "output_type": "stream",
          "name": "stderr",
          "text": [
            "Processing predictions... (57/200):  28%|██▊       | 57/200 [00:06<00:07, 18.73it/s]"
          ]
        },
        {
          "output_type": "stream",
          "name": "stdout",
          "text": [
            "SummaCZS Score for prediction 54: 0.08594\n",
            "SummaCConv Score for prediction 54: 0.21373\n",
            "SummaCZS Score for prediction 55: -0.01022\n",
            "SummaCConv Score for prediction 55: 0.20477\n",
            "SummaCZS Score for prediction 56: -0.14392\n",
            "SummaCConv Score for prediction 56: 0.21373\n",
            "SummaCZS Score for prediction 57: 0.05011\n",
            "SummaCConv Score for prediction 57: 0.22025\n"
          ]
        },
        {
          "output_type": "stream",
          "name": "stderr",
          "text": [
            "Processing predictions... (62/200):  31%|███       | 62/200 [00:06<00:07, 18.73it/s]"
          ]
        },
        {
          "output_type": "stream",
          "name": "stdout",
          "text": [
            "SummaCZS Score for prediction 58: 0.67316\n",
            "SummaCConv Score for prediction 58: 0.22153\n",
            "SummaCZS Score for prediction 59: 0.69412\n",
            "SummaCConv Score for prediction 59: 0.22153\n",
            "SummaCZS Score for prediction 60: 0.11616\n",
            "SummaCConv Score for prediction 60: 0.22025\n",
            "SummaCZS Score for prediction 61: -0.83440\n",
            "SummaCConv Score for prediction 61: 0.20278\n",
            "SummaCZS Score for prediction 62: 0.20450\n",
            "SummaCConv Score for prediction 62: 0.21373\n"
          ]
        },
        {
          "output_type": "stream",
          "name": "stderr",
          "text": [
            "Processing predictions... (66/200):  33%|███▎      | 66/200 [00:07<00:07, 18.36it/s]"
          ]
        },
        {
          "output_type": "stream",
          "name": "stdout",
          "text": [
            "SummaCZS Score for prediction 63: 0.49988\n",
            "SummaCConv Score for prediction 63: 0.22153\n",
            "SummaCZS Score for prediction 64: 0.91029\n",
            "SummaCConv Score for prediction 64: 0.35291\n",
            "SummaCZS Score for prediction 65: 0.41896\n",
            "SummaCConv Score for prediction 65: 0.22153\n",
            "SummaCZS Score for prediction 66: 0.20016\n",
            "SummaCConv Score for prediction 66: 0.21373\n"
          ]
        },
        {
          "output_type": "stream",
          "name": "stderr",
          "text": [
            "Processing predictions... (71/200):  36%|███▌      | 71/200 [00:07<00:06, 20.27it/s]"
          ]
        },
        {
          "output_type": "stream",
          "name": "stdout",
          "text": [
            "SummaCZS Score for prediction 67: 0.04060\n",
            "SummaCConv Score for prediction 67: 0.20179\n",
            "SummaCZS Score for prediction 68: 0.09537\n",
            "SummaCConv Score for prediction 68: 0.22025\n",
            "SummaCZS Score for prediction 69: -0.33615\n",
            "SummaCConv Score for prediction 69: 0.20179\n",
            "SummaCZS Score for prediction 70: 0.79205\n",
            "SummaCConv Score for prediction 70: 0.22153\n",
            "SummaCZS Score for prediction 71: 0.01111\n",
            "SummaCConv Score for prediction 71: 0.20179\n"
          ]
        },
        {
          "output_type": "stream",
          "name": "stderr",
          "text": [
            "Processing predictions... (75/200):  38%|███▊      | 75/200 [00:07<00:06, 19.27it/s]"
          ]
        },
        {
          "output_type": "stream",
          "name": "stdout",
          "text": [
            "SummaCZS Score for prediction 72: 0.15985\n",
            "SummaCConv Score for prediction 72: 0.21373\n",
            "SummaCZS Score for prediction 73: 0.14014\n",
            "SummaCConv Score for prediction 73: 0.22153\n",
            "SummaCZS Score for prediction 74: 0.60349\n",
            "SummaCConv Score for prediction 74: 0.22153\n",
            "SummaCZS Score for prediction 75: 0.77911\n",
            "SummaCConv Score for prediction 75: 0.22153\n"
          ]
        },
        {
          "output_type": "stream",
          "name": "stderr",
          "text": [
            "Processing predictions... (78/200):  39%|███▉      | 78/200 [00:07<00:06, 19.01it/s]"
          ]
        },
        {
          "output_type": "stream",
          "name": "stdout",
          "text": [
            "SummaCZS Score for prediction 76: 0.09363\n",
            "SummaCConv Score for prediction 76: 0.21373\n",
            "SummaCZS Score for prediction 77: 0.19354\n",
            "SummaCConv Score for prediction 77: 0.21373\n",
            "SummaCZS Score for prediction 78: 0.13623\n",
            "SummaCConv Score for prediction 78: 0.21373\n"
          ]
        },
        {
          "output_type": "stream",
          "name": "stderr",
          "text": [
            "Processing predictions... (82/200):  41%|████      | 82/200 [00:08<00:07, 16.66it/s]"
          ]
        },
        {
          "output_type": "stream",
          "name": "stdout",
          "text": [
            "SummaCZS Score for prediction 79: 0.83914\n",
            "SummaCConv Score for prediction 79: 0.22153\n",
            "SummaCZS Score for prediction 80: 0.24231\n",
            "SummaCConv Score for prediction 80: 0.21373\n",
            "SummaCZS Score for prediction 81: 0.03746\n",
            "SummaCConv Score for prediction 81: 0.20179\n",
            "SummaCZS Score for prediction 82: 0.23572\n",
            "SummaCConv Score for prediction 82: 0.21373\n"
          ]
        },
        {
          "output_type": "stream",
          "name": "stderr",
          "text": [
            "Processing predictions... (86/200):  43%|████▎     | 86/200 [00:08<00:06, 16.68it/s]"
          ]
        },
        {
          "output_type": "stream",
          "name": "stdout",
          "text": [
            "SummaCZS Score for prediction 83: 0.87711\n",
            "SummaCConv Score for prediction 83: 0.22153\n",
            "SummaCZS Score for prediction 84: 0.26559\n",
            "SummaCConv Score for prediction 84: 0.21373\n",
            "SummaCZS Score for prediction 85: 0.13510\n",
            "SummaCConv Score for prediction 85: 0.21373\n",
            "SummaCZS Score for prediction 86: 0.34058\n",
            "SummaCConv Score for prediction 86: 0.21373\n"
          ]
        },
        {
          "output_type": "stream",
          "name": "stderr",
          "text": [
            "Processing predictions... (91/200):  46%|████▌     | 91/200 [00:08<00:05, 18.82it/s]"
          ]
        },
        {
          "output_type": "stream",
          "name": "stdout",
          "text": [
            "SummaCZS Score for prediction 87: 0.52539\n",
            "SummaCConv Score for prediction 87: 0.22153\n",
            "SummaCZS Score for prediction 88: 0.04199\n",
            "SummaCConv Score for prediction 88: 0.20179\n",
            "SummaCZS Score for prediction 89: -0.29242\n",
            "SummaCConv Score for prediction 89: 0.20179\n",
            "SummaCZS Score for prediction 90: 0.50378\n",
            "SummaCConv Score for prediction 90: 0.22153\n",
            "SummaCZS Score for prediction 91: 0.28827\n",
            "SummaCConv Score for prediction 91: 0.21373\n"
          ]
        },
        {
          "output_type": "stream",
          "name": "stderr",
          "text": [
            "Processing predictions... (95/200):  48%|████▊     | 95/200 [00:08<00:05, 19.38it/s]"
          ]
        },
        {
          "output_type": "stream",
          "name": "stdout",
          "text": [
            "SummaCZS Score for prediction 92: -0.03243\n",
            "SummaCConv Score for prediction 92: 0.20278\n",
            "SummaCZS Score for prediction 93: 0.14563\n",
            "SummaCConv Score for prediction 93: 0.21373\n",
            "SummaCZS Score for prediction 94: 0.32567\n",
            "SummaCConv Score for prediction 94: 0.21373\n",
            "SummaCZS Score for prediction 95: 0.61752\n",
            "SummaCConv Score for prediction 95: 0.22153\n"
          ]
        },
        {
          "output_type": "stream",
          "name": "stderr",
          "text": [
            "Processing predictions... (99/200):  50%|████▉     | 99/200 [00:08<00:05, 18.92it/s]"
          ]
        },
        {
          "output_type": "stream",
          "name": "stdout",
          "text": [
            "SummaCZS Score for prediction 96: 0.57578\n",
            "SummaCConv Score for prediction 96: 0.22153\n",
            "SummaCZS Score for prediction 97: 0.02734\n",
            "SummaCConv Score for prediction 97: 0.21373\n",
            "SummaCZS Score for prediction 98: 0.51495\n",
            "SummaCConv Score for prediction 98: 0.22153\n",
            "SummaCZS Score for prediction 99: 0.00593\n",
            "SummaCConv Score for prediction 99: 0.20278\n"
          ]
        },
        {
          "output_type": "stream",
          "name": "stderr",
          "text": [
            "Processing predictions... (103/200):  52%|█████▏    | 103/200 [00:09<00:05, 18.78it/s]"
          ]
        },
        {
          "output_type": "stream",
          "name": "stdout",
          "text": [
            "SummaCZS Score for prediction 100: 0.78795\n",
            "SummaCConv Score for prediction 100: 0.22153\n",
            "SummaCZS Score for prediction 101: 0.02222\n",
            "SummaCConv Score for prediction 101: 0.22025\n",
            "SummaCZS Score for prediction 102: 0.15918\n",
            "SummaCConv Score for prediction 102: 0.21373\n",
            "SummaCZS Score for prediction 103: 0.93257\n",
            "SummaCConv Score for prediction 103: 0.40564\n"
          ]
        },
        {
          "output_type": "stream",
          "name": "stderr",
          "text": [
            "Processing predictions... (108/200):  54%|█████▍    | 108/200 [00:09<00:04, 19.90it/s]"
          ]
        },
        {
          "output_type": "stream",
          "name": "stdout",
          "text": [
            "SummaCZS Score for prediction 104: -0.00919\n",
            "SummaCConv Score for prediction 104: 0.19352\n",
            "SummaCZS Score for prediction 105: 0.70465\n",
            "SummaCConv Score for prediction 105: 0.22153\n",
            "SummaCZS Score for prediction 106: 0.11868\n",
            "SummaCConv Score for prediction 106: 0.21373\n",
            "SummaCZS Score for prediction 107: 0.26881\n",
            "SummaCConv Score for prediction 107: 0.21373\n",
            "SummaCZS Score for prediction 108: 0.38376\n",
            "SummaCConv Score for prediction 108: 0.22153\n"
          ]
        },
        {
          "output_type": "stream",
          "name": "stderr",
          "text": [
            "Processing predictions... (112/200):  56%|█████▌    | 112/200 [00:09<00:05, 16.57it/s]"
          ]
        },
        {
          "output_type": "stream",
          "name": "stdout",
          "text": [
            "SummaCZS Score for prediction 109: 0.65062\n",
            "SummaCConv Score for prediction 109: 0.22153\n",
            "SummaCZS Score for prediction 110: -0.01265\n",
            "SummaCConv Score for prediction 110: 0.20278\n",
            "SummaCZS Score for prediction 111: -0.00095\n",
            "SummaCConv Score for prediction 111: 0.20011\n",
            "SummaCZS Score for prediction 112: 0.94244\n",
            "SummaCConv Score for prediction 112: 0.40564\n"
          ]
        },
        {
          "output_type": "stream",
          "name": "stderr",
          "text": [
            "Processing predictions... (117/200):  58%|█████▊    | 117/200 [00:09<00:04, 18.61it/s]"
          ]
        },
        {
          "output_type": "stream",
          "name": "stdout",
          "text": [
            "SummaCZS Score for prediction 113: 0.54430\n",
            "SummaCConv Score for prediction 113: 0.22153\n",
            "SummaCZS Score for prediction 114: -0.05487\n",
            "SummaCConv Score for prediction 114: 0.22025\n",
            "SummaCZS Score for prediction 115: 0.09479\n",
            "SummaCConv Score for prediction 115: 0.21373\n",
            "SummaCZS Score for prediction 116: -0.12524\n",
            "SummaCConv Score for prediction 116: 0.20179\n",
            "SummaCZS Score for prediction 117: 0.97408\n",
            "SummaCConv Score for prediction 117: 0.60186\n"
          ]
        },
        {
          "output_type": "stream",
          "name": "stderr",
          "text": [
            "Processing predictions... (121/200):  60%|██████    | 121/200 [00:10<00:04, 19.17it/s]"
          ]
        },
        {
          "output_type": "stream",
          "name": "stdout",
          "text": [
            "SummaCZS Score for prediction 118: 0.01656\n",
            "SummaCConv Score for prediction 118: 0.20477\n",
            "SummaCZS Score for prediction 119: 0.37904\n",
            "SummaCConv Score for prediction 119: 0.22153\n",
            "SummaCZS Score for prediction 120: 0.15894\n",
            "SummaCConv Score for prediction 120: 0.21373\n",
            "SummaCZS Score for prediction 121: 0.21214\n",
            "SummaCConv Score for prediction 121: 0.21373\n"
          ]
        },
        {
          "output_type": "stream",
          "name": "stderr",
          "text": [
            "Processing predictions... (126/200):  63%|██████▎   | 126/200 [00:10<00:03, 19.56it/s]"
          ]
        },
        {
          "output_type": "stream",
          "name": "stdout",
          "text": [
            "SummaCZS Score for prediction 122: 0.08275\n",
            "SummaCConv Score for prediction 122: 0.22025\n",
            "SummaCZS Score for prediction 123: 0.76335\n",
            "SummaCConv Score for prediction 123: 0.22153\n",
            "SummaCZS Score for prediction 124: 0.23907\n",
            "SummaCConv Score for prediction 124: 0.21373\n",
            "SummaCZS Score for prediction 125: 0.24704\n",
            "SummaCConv Score for prediction 125: 0.21373\n",
            "SummaCZS Score for prediction 126: 0.11725\n",
            "SummaCConv Score for prediction 126: 0.21373\n"
          ]
        },
        {
          "output_type": "stream",
          "name": "stderr",
          "text": [
            "Processing predictions... (131/200):  66%|██████▌   | 131/200 [00:10<00:03, 19.98it/s]"
          ]
        },
        {
          "output_type": "stream",
          "name": "stdout",
          "text": [
            "SummaCZS Score for prediction 127: 0.09290\n",
            "SummaCConv Score for prediction 127: 0.21373\n",
            "SummaCZS Score for prediction 128: 0.06088\n",
            "SummaCConv Score for prediction 128: 0.22025\n",
            "SummaCZS Score for prediction 129: 0.02204\n",
            "SummaCConv Score for prediction 129: 0.20477\n",
            "SummaCZS Score for prediction 130: 0.00235\n",
            "SummaCConv Score for prediction 130: 0.19352\n",
            "SummaCZS Score for prediction 131: 0.51443\n",
            "SummaCConv Score for prediction 131: 0.22153\n"
          ]
        },
        {
          "output_type": "stream",
          "name": "stderr",
          "text": [
            "Processing predictions... (135/200):  68%|██████▊   | 135/200 [00:10<00:03, 20.23it/s]"
          ]
        },
        {
          "output_type": "stream",
          "name": "stdout",
          "text": [
            "SummaCZS Score for prediction 132: -0.01807\n",
            "SummaCConv Score for prediction 132: 0.22025\n",
            "SummaCZS Score for prediction 133: -0.08028\n",
            "SummaCConv Score for prediction 133: 0.20278\n",
            "SummaCZS Score for prediction 134: 0.05896\n",
            "SummaCConv Score for prediction 134: 0.21373\n",
            "SummaCZS Score for prediction 135: 0.65195\n",
            "SummaCConv Score for prediction 135: 0.22153\n"
          ]
        },
        {
          "output_type": "stream",
          "name": "stderr",
          "text": [
            "Processing predictions... (139/200):  70%|██████▉   | 139/200 [00:11<00:03, 19.16it/s]"
          ]
        },
        {
          "output_type": "stream",
          "name": "stdout",
          "text": [
            "SummaCZS Score for prediction 136: 0.62506\n",
            "SummaCConv Score for prediction 136: 0.22153\n",
            "SummaCZS Score for prediction 137: -0.02417\n",
            "SummaCConv Score for prediction 137: 0.21373\n",
            "SummaCZS Score for prediction 138: 0.03442\n",
            "SummaCConv Score for prediction 138: 0.22025\n",
            "SummaCZS Score for prediction 139: -0.91025\n",
            "SummaCConv Score for prediction 139: 0.20011\n"
          ]
        },
        {
          "output_type": "stream",
          "name": "stderr",
          "text": [
            "Processing predictions... (143/200):  72%|███████▏  | 143/200 [00:11<00:03, 18.39it/s]"
          ]
        },
        {
          "output_type": "stream",
          "name": "stdout",
          "text": [
            "SummaCZS Score for prediction 140: 0.13800\n",
            "SummaCConv Score for prediction 140: 0.21373\n",
            "SummaCZS Score for prediction 141: 0.67801\n",
            "SummaCConv Score for prediction 141: 0.22153\n",
            "SummaCZS Score for prediction 142: 0.50674\n",
            "SummaCConv Score for prediction 142: 0.22153\n",
            "SummaCZS Score for prediction 143: 0.44659\n",
            "SummaCConv Score for prediction 143: 0.22153\n"
          ]
        },
        {
          "output_type": "stream",
          "name": "stderr",
          "text": [
            "Processing predictions... (147/200):  74%|███████▎  | 147/200 [00:11<00:02, 18.80it/s]"
          ]
        },
        {
          "output_type": "stream",
          "name": "stdout",
          "text": [
            "SummaCZS Score for prediction 144: 0.13635\n",
            "SummaCConv Score for prediction 144: 0.21373\n",
            "SummaCZS Score for prediction 145: -0.25748\n",
            "SummaCConv Score for prediction 145: 0.20179\n",
            "SummaCZS Score for prediction 146: -0.00269\n",
            "SummaCConv Score for prediction 146: 0.20278\n",
            "SummaCZS Score for prediction 147: 0.25081\n",
            "SummaCConv Score for prediction 147: 0.21373\n"
          ]
        },
        {
          "output_type": "stream",
          "name": "stderr",
          "text": [
            "Processing predictions... (152/200):  76%|███████▌  | 152/200 [00:11<00:02, 19.60it/s]"
          ]
        },
        {
          "output_type": "stream",
          "name": "stdout",
          "text": [
            "SummaCZS Score for prediction 148: 0.47925\n",
            "SummaCConv Score for prediction 148: 0.22153\n",
            "SummaCZS Score for prediction 149: 0.68463\n",
            "SummaCConv Score for prediction 149: 0.22153\n",
            "SummaCZS Score for prediction 150: -0.19214\n",
            "SummaCConv Score for prediction 150: 0.21373\n",
            "SummaCZS Score for prediction 151: 0.57523\n",
            "SummaCConv Score for prediction 151: 0.22153\n",
            "SummaCZS Score for prediction 152: 0.75775\n",
            "SummaCConv Score for prediction 152: 0.22153\n"
          ]
        },
        {
          "output_type": "stream",
          "name": "stderr",
          "text": [
            "Processing predictions... (157/200):  78%|███████▊  | 157/200 [00:12<00:02, 20.23it/s]"
          ]
        },
        {
          "output_type": "stream",
          "name": "stdout",
          "text": [
            "SummaCZS Score for prediction 153: 0.88036\n",
            "SummaCConv Score for prediction 153: 0.22153\n",
            "SummaCZS Score for prediction 154: 0.93760\n",
            "SummaCConv Score for prediction 154: 0.40564\n",
            "SummaCZS Score for prediction 155: 0.01727\n",
            "SummaCConv Score for prediction 155: 0.22025\n",
            "SummaCZS Score for prediction 156: -0.02727\n",
            "SummaCConv Score for prediction 156: 0.20011\n",
            "SummaCZS Score for prediction 157: 0.55048\n",
            "SummaCConv Score for prediction 157: 0.22153\n"
          ]
        },
        {
          "output_type": "stream",
          "name": "stderr",
          "text": [
            "Processing predictions... (161/200):  80%|████████  | 161/200 [00:12<00:01, 20.11it/s]"
          ]
        },
        {
          "output_type": "stream",
          "name": "stdout",
          "text": [
            "SummaCZS Score for prediction 158: 0.09267\n",
            "SummaCConv Score for prediction 158: 0.22025\n",
            "SummaCZS Score for prediction 159: 0.98065\n",
            "SummaCConv Score for prediction 159: 0.59967\n",
            "SummaCZS Score for prediction 160: 0.15466\n",
            "SummaCConv Score for prediction 160: 0.21373\n",
            "SummaCZS Score for prediction 161: 0.21635\n",
            "SummaCConv Score for prediction 161: 0.21373\n"
          ]
        },
        {
          "output_type": "stream",
          "name": "stderr",
          "text": [
            "Processing predictions... (165/200):  82%|████████▎ | 165/200 [00:12<00:01, 20.10it/s]"
          ]
        },
        {
          "output_type": "stream",
          "name": "stdout",
          "text": [
            "SummaCZS Score for prediction 162: 0.06897\n",
            "SummaCConv Score for prediction 162: 0.22025\n",
            "SummaCZS Score for prediction 163: 0.64957\n",
            "SummaCConv Score for prediction 163: 0.22153\n",
            "SummaCZS Score for prediction 164: 0.02808\n",
            "SummaCConv Score for prediction 164: 0.20179\n",
            "SummaCZS Score for prediction 165: 0.86838\n",
            "SummaCConv Score for prediction 165: 0.22153\n"
          ]
        },
        {
          "output_type": "stream",
          "name": "stderr",
          "text": [
            "Processing predictions... (169/200):  84%|████████▍ | 169/200 [00:12<00:01, 19.57it/s]"
          ]
        },
        {
          "output_type": "stream",
          "name": "stdout",
          "text": [
            "SummaCZS Score for prediction 166: 0.44962\n",
            "SummaCConv Score for prediction 166: 0.22153\n",
            "SummaCZS Score for prediction 167: 0.61688\n",
            "SummaCConv Score for prediction 167: 0.22153\n",
            "SummaCZS Score for prediction 168: 0.09809\n",
            "SummaCConv Score for prediction 168: 0.22025\n",
            "SummaCZS Score for prediction 169: 0.59924\n",
            "SummaCConv Score for prediction 169: 0.22153\n"
          ]
        },
        {
          "output_type": "stream",
          "name": "stderr",
          "text": [
            "Processing predictions... (174/200):  87%|████████▋ | 174/200 [00:12<00:01, 19.63it/s]"
          ]
        },
        {
          "output_type": "stream",
          "name": "stdout",
          "text": [
            "SummaCZS Score for prediction 170: 0.94875\n",
            "SummaCConv Score for prediction 170: 0.34963\n",
            "SummaCZS Score for prediction 171: 0.98665\n",
            "SummaCConv Score for prediction 171: 0.76738\n",
            "SummaCZS Score for prediction 172: -0.41382\n",
            "SummaCConv Score for prediction 172: 0.20179\n",
            "SummaCZS Score for prediction 173: -0.01825\n",
            "SummaCConv Score for prediction 173: 0.20179\n",
            "SummaCZS Score for prediction 174: 0.78944\n",
            "SummaCConv Score for prediction 174: 0.22153\n"
          ]
        },
        {
          "output_type": "stream",
          "name": "stderr",
          "text": [
            "Processing predictions... (178/200):  89%|████████▉ | 178/200 [00:13<00:01, 20.16it/s]"
          ]
        },
        {
          "output_type": "stream",
          "name": "stdout",
          "text": [
            "SummaCZS Score for prediction 175: -0.13879\n",
            "SummaCConv Score for prediction 175: 0.20179\n",
            "SummaCZS Score for prediction 176: 0.92772\n",
            "SummaCConv Score for prediction 176: 0.35291\n",
            "SummaCZS Score for prediction 177: 0.10083\n",
            "SummaCConv Score for prediction 177: 0.21373\n",
            "SummaCZS Score for prediction 178: 0.83226\n",
            "SummaCConv Score for prediction 178: 0.22153\n"
          ]
        },
        {
          "output_type": "stream",
          "name": "stderr",
          "text": [
            "Processing predictions... (182/200):  91%|█████████ | 182/200 [00:13<00:00, 18.01it/s]"
          ]
        },
        {
          "output_type": "stream",
          "name": "stdout",
          "text": [
            "SummaCZS Score for prediction 179: 0.64330\n",
            "SummaCConv Score for prediction 179: 0.22153\n",
            "SummaCZS Score for prediction 180: 0.91833\n",
            "SummaCConv Score for prediction 180: 0.31634\n",
            "SummaCZS Score for prediction 181: -0.07977\n",
            "SummaCConv Score for prediction 181: 0.22025\n",
            "SummaCZS Score for prediction 182: 0.70939\n",
            "SummaCConv Score for prediction 182: 0.22153\n"
          ]
        },
        {
          "output_type": "stream",
          "name": "stderr",
          "text": [
            "Processing predictions... (187/200):  94%|█████████▎| 187/200 [00:13<00:00, 19.47it/s]"
          ]
        },
        {
          "output_type": "stream",
          "name": "stdout",
          "text": [
            "SummaCZS Score for prediction 183: 0.89845\n",
            "SummaCConv Score for prediction 183: 0.26973\n",
            "SummaCZS Score for prediction 184: 0.01079\n",
            "SummaCConv Score for prediction 184: 0.20278\n",
            "SummaCZS Score for prediction 185: 0.28040\n",
            "SummaCConv Score for prediction 185: 0.22153\n",
            "SummaCZS Score for prediction 186: 0.59824\n",
            "SummaCConv Score for prediction 186: 0.22153\n",
            "SummaCZS Score for prediction 187: 0.31958\n",
            "SummaCConv Score for prediction 187: 0.22153\n"
          ]
        },
        {
          "output_type": "stream",
          "name": "stderr",
          "text": [
            "Processing predictions... (191/200):  96%|█████████▌| 191/200 [00:13<00:00, 18.82it/s]"
          ]
        },
        {
          "output_type": "stream",
          "name": "stdout",
          "text": [
            "SummaCZS Score for prediction 188: -0.03625\n",
            "SummaCConv Score for prediction 188: 0.22025\n",
            "SummaCZS Score for prediction 189: 0.07039\n",
            "SummaCConv Score for prediction 189: 0.22025\n",
            "SummaCZS Score for prediction 190: 0.07303\n",
            "SummaCConv Score for prediction 190: 0.22025\n",
            "SummaCZS Score for prediction 191: 0.66101\n",
            "SummaCConv Score for prediction 191: 0.22153\n"
          ]
        },
        {
          "output_type": "stream",
          "name": "stderr",
          "text": [
            "Processing predictions... (195/200):  98%|█████████▊| 195/200 [00:14<00:00, 17.09it/s]"
          ]
        },
        {
          "output_type": "stream",
          "name": "stdout",
          "text": [
            "SummaCZS Score for prediction 192: -0.68756\n",
            "SummaCConv Score for prediction 192: 0.20179\n",
            "SummaCZS Score for prediction 193: 0.93267\n",
            "SummaCConv Score for prediction 193: 0.35291\n",
            "SummaCZS Score for prediction 194: 0.47754\n",
            "SummaCConv Score for prediction 194: 0.22153\n",
            "SummaCZS Score for prediction 195: 0.12064\n",
            "SummaCConv Score for prediction 195: 0.21373\n"
          ]
        },
        {
          "output_type": "stream",
          "name": "stderr",
          "text": [
            "Processing predictions... (198/200):  99%|█████████▉| 198/200 [00:14<00:00, 16.49it/s]"
          ]
        },
        {
          "output_type": "stream",
          "name": "stdout",
          "text": [
            "SummaCZS Score for prediction 196: 0.00873\n",
            "SummaCConv Score for prediction 196: 0.19352\n",
            "SummaCZS Score for prediction 197: 0.05626\n",
            "SummaCConv Score for prediction 197: 0.20179\n",
            "SummaCZS Score for prediction 198: 0.00239\n",
            "SummaCConv Score for prediction 198: 0.20011\n"
          ]
        },
        {
          "output_type": "stream",
          "name": "stderr",
          "text": [
            "Processing predictions... (200/200): 100%|██████████| 200/200 [00:14<00:00, 13.90it/s]"
          ]
        },
        {
          "output_type": "stream",
          "name": "stdout",
          "text": [
            "SummaCZS Score for prediction 199: 0.08325\n",
            "SummaCConv Score for prediction 199: 0.21373\n",
            "SummaCZS Score for prediction 200: 0.96443\n",
            "SummaCConv Score for prediction 200: 0.55624\n",
            "Average SummaCZS Score: 0.30544; Average SummacConv score: 0.23866\n"
          ]
        },
        {
          "output_type": "stream",
          "name": "stderr",
          "text": [
            "\n"
          ]
        }
      ],
      "source": [
        "from tqdm import tqdm\n",
        "import pandas as pd\n",
        "from summac.model_summac import SummaCZS, SummaCConv\n",
        "\n",
        "# Load the CSV file\n",
        "df = pd.read_csv(\"finetuned-summaries-1.csv\")\n",
        "\n",
        "# Extract the predictions and references columns\n",
        "predictions = df[\"Predicted_Summary\"].tolist()\n",
        "references = df[\"Reference_Text\"].tolist()\n",
        "\n",
        "# Initialize the SummaC evaluators\n",
        "model_zs = SummaCZS(granularity=\"document\", model_name=\"vitc\", device=\"cuda\")  # If you have a GPU: switch to: device=\"cuda\"\n",
        "model_conv = SummaCConv(models=[\"vitc\"], bins='percentile', granularity=\"document\", nli_labels=\"e\", device=\"cuda\", start_file=\"default\", agg=\"mean\")\n",
        "\n",
        "# Compute the SummaC scores for each prediction-reference pair\n",
        "scores_zs = []\n",
        "scores_conv = []\n",
        "n_predictions = len(predictions)\n",
        "with tqdm(total=n_predictions) as pbar:\n",
        "    for i in range(n_predictions):\n",
        "        # Compute the SummaC scores for the current prediction-reference pair\n",
        "        score_zs = model_zs.score( [references[i]], [predictions[i]])\n",
        "        score_conv = model_conv.score([references[i]], [predictions[i]])\n",
        "\n",
        "        # Print the immediate scores\n",
        "        print(f\"SummaCZS Score for prediction {i+1}: {score_zs['scores'][0]:.5f}\")\n",
        "        print(f\"SummaCConv Score for prediction {i+1}: {score_conv['scores'][0]:.5f}\")\n",
        "\n",
        "        # Append the scores to the list\n",
        "        scores_zs.append(score_zs[\"scores\"][0])\n",
        "        scores_conv.append(score_conv[\"scores\"][0])\n",
        "\n",
        "        # Update the progress bar\n",
        "        pbar.update(1)\n",
        "        pbar.set_description(\"Processing predictions... (%d/%d)\" % (i+1, n_predictions))\n",
        "\n",
        "# Compute the average scores\n",
        "avg_score_zs = sum(scores_zs) / len(scores_zs)\n",
        "avg_score_conv = sum(scores_conv) / len(scores_conv)\n",
        "\n",
        "# Print the average scores\n",
        "print(\"Average SummaCZS Score: %.5f; Average SummacConv score: %.5f\" % (avg_score_zs, avg_score_conv))\n"
      ]
    },
    {
      "cell_type": "markdown",
      "source": [
        "# Without finetuning"
      ],
      "metadata": {
        "id": "AHQItOcvE5Uc"
      }
    },
    {
      "cell_type": "code",
      "source": [
        "from tqdm import tqdm\n",
        "import pandas as pd\n",
        "from summac.model_summac import SummaCZS, SummaCConv\n",
        "\n",
        "# Load the CSV file\n",
        "df = pd.read_csv(\"zero-shot-summaries-1.csv\")\n",
        "\n",
        "# Extract the predictions and references columns\n",
        "predictions = df[\"ExtractedSummary\"].tolist()\n",
        "references = df[\"CHQ\"].tolist()\n",
        "\n",
        "# Initialize the SummaC evaluators\n",
        "model_zs = SummaCZS(granularity=\"sentence\", model_name=\"vitc\", device=\"cuda\")  # If you have a GPU: switch to: device=\"cuda\"\n",
        "model_conv = SummaCConv(models=[\"vitc\"], bins='percentile', granularity=\"document\", nli_labels=\"e\", device=\"cuda\", start_file=\"default\", agg=\"mean\")\n",
        "\n",
        "# Compute the SummaC scores for each prediction-reference pair\n",
        "scores_zs = []\n",
        "scores_conv = []\n",
        "n_predictions = len(predictions)\n",
        "with tqdm(total=n_predictions) as pbar:\n",
        "    for i in range(n_predictions):\n",
        "        # Compute the SummaC scores for the current prediction-reference pair\n",
        "        score_zs = model_zs.score( [references[i]], [predictions[i]])\n",
        "        score_conv = model_conv.score([references[i]], [predictions[i]])\n",
        "\n",
        "        # Print the immediate scores\n",
        "        print(f\"SummaCZS Score for prediction {i+1}: {score_zs['scores'][0]:.5f}\")\n",
        "        print(f\"SummaCConv Score for prediction {i+1}: {score_conv['scores'][0]:.5f}\")\n",
        "\n",
        "        # Append the scores to the list\n",
        "        scores_zs.append(score_zs[\"scores\"][0])\n",
        "        scores_conv.append(score_conv[\"scores\"][0])\n",
        "\n",
        "        # Update the progress bar\n",
        "        pbar.update(1)\n",
        "        pbar.set_description(\"Processing predictions... (%d/%d)\" % (i+1, n_predictions))\n",
        "\n",
        "# Compute the average scores\n",
        "avg_score_zs = sum(scores_zs) / len(scores_zs)\n",
        "avg_score_conv = sum(scores_conv) / len(scores_conv)\n",
        "\n",
        "# Print the average scores\n",
        "print(\"Average SummaCZS Score: %.5f; Average SummacConv score: %.5f\" % (avg_score_zs, avg_score_conv))\n"
      ],
      "metadata": {
        "colab": {
          "base_uri": "https://localhost:8080/"
        },
        "id": "zr3L0Y77DAxO",
        "outputId": "d0d024f0-c63c-4d12-8e82-7e8fee4dbd29"
      },
      "execution_count": 15,
      "outputs": [
        {
          "output_type": "stream",
          "name": "stdout",
          "text": [
            "<All keys matched successfully>\n"
          ]
        },
        {
          "output_type": "stream",
          "name": "stderr",
          "text": [
            "Processing predictions... (3/343):   1%|          | 3/343 [00:03<04:55,  1.15it/s]"
          ]
        },
        {
          "output_type": "stream",
          "name": "stdout",
          "text": [
            "SummaCZS Score for prediction 1: 0.72388\n",
            "SummaCConv Score for prediction 1: 0.55624\n",
            "SummaCZS Score for prediction 2: 0.67346\n",
            "SummaCConv Score for prediction 2: 0.22153\n",
            "SummaCZS Score for prediction 3: 0.96925\n",
            "SummaCConv Score for prediction 3: 0.46412\n"
          ]
        },
        {
          "output_type": "stream",
          "name": "stderr",
          "text": [
            "Processing predictions... (6/343):   2%|▏         | 6/343 [00:03<02:36,  2.16it/s]"
          ]
        },
        {
          "output_type": "stream",
          "name": "stdout",
          "text": [
            "SummaCZS Score for prediction 4: -0.01434\n",
            "SummaCConv Score for prediction 4: 0.21373\n",
            "SummaCZS Score for prediction 5: 0.96162\n",
            "SummaCConv Score for prediction 5: 0.76738\n",
            "SummaCZS Score for prediction 6: -0.32751\n",
            "SummaCConv Score for prediction 6: 0.22153\n"
          ]
        },
        {
          "output_type": "stream",
          "name": "stderr",
          "text": [
            "Processing predictions... (9/343):   3%|▎         | 9/343 [00:03<01:17,  4.32it/s]"
          ]
        },
        {
          "output_type": "stream",
          "name": "stdout",
          "text": [
            "SummaCZS Score for prediction 7: -0.18790\n",
            "SummaCConv Score for prediction 7: 0.19352\n",
            "SummaCZS Score for prediction 8: -0.17771\n",
            "SummaCConv Score for prediction 8: 0.31634\n",
            "SummaCZS Score for prediction 9: 0.81635\n",
            "SummaCConv Score for prediction 9: 0.22153\n"
          ]
        },
        {
          "output_type": "stream",
          "name": "stderr",
          "text": [
            "Processing predictions... (12/343):   3%|▎         | 12/343 [00:04<00:58,  5.62it/s]"
          ]
        },
        {
          "output_type": "stream",
          "name": "stdout",
          "text": [
            "SummaCZS Score for prediction 10: 0.97895\n",
            "SummaCConv Score for prediction 10: 0.60186\n",
            "SummaCZS Score for prediction 11: -0.05539\n",
            "SummaCConv Score for prediction 11: 0.21373\n",
            "SummaCZS Score for prediction 12: 0.72534\n",
            "SummaCConv Score for prediction 12: 0.76738\n"
          ]
        },
        {
          "output_type": "stream",
          "name": "stderr",
          "text": [
            "Processing predictions... (15/343):   4%|▍         | 15/343 [00:04<00:41,  7.91it/s]"
          ]
        },
        {
          "output_type": "stream",
          "name": "stdout",
          "text": [
            "SummaCZS Score for prediction 13: -0.11032\n",
            "SummaCConv Score for prediction 13: 0.22153\n",
            "SummaCZS Score for prediction 14: 0.43945\n",
            "SummaCConv Score for prediction 14: 0.59232\n",
            "SummaCZS Score for prediction 15: 0.20832\n",
            "SummaCConv Score for prediction 15: 0.31634\n"
          ]
        },
        {
          "output_type": "stream",
          "name": "stderr",
          "text": [
            "Processing predictions... (17/343):   5%|▍         | 17/343 [00:04<00:36,  8.98it/s]"
          ]
        },
        {
          "output_type": "stream",
          "name": "stdout",
          "text": [
            "SummaCZS Score for prediction 16: 0.35156\n",
            "SummaCConv Score for prediction 16: 0.22153\n",
            "SummaCZS Score for prediction 17: 0.50488\n",
            "SummaCConv Score for prediction 17: 0.59967\n"
          ]
        },
        {
          "output_type": "stream",
          "name": "stderr",
          "text": [
            "Processing predictions... (19/343):   6%|▌         | 19/343 [00:04<00:42,  7.60it/s]"
          ]
        },
        {
          "output_type": "stream",
          "name": "stdout",
          "text": [
            "SummaCZS Score for prediction 18: -0.20605\n",
            "SummaCConv Score for prediction 18: 0.20477\n",
            "SummaCZS Score for prediction 19: -0.38541\n",
            "SummaCConv Score for prediction 19: 0.22153\n"
          ]
        },
        {
          "output_type": "stream",
          "name": "stderr",
          "text": [
            "Processing predictions... (21/343):   6%|▌         | 21/343 [00:05<00:43,  7.33it/s]"
          ]
        },
        {
          "output_type": "stream",
          "name": "stdout",
          "text": [
            "SummaCZS Score for prediction 20: 0.97527\n",
            "SummaCConv Score for prediction 20: 0.60186\n",
            "SummaCZS Score for prediction 21: 0.89142\n",
            "SummaCConv Score for prediction 21: 0.46412\n"
          ]
        },
        {
          "output_type": "stream",
          "name": "stderr",
          "text": [
            "Processing predictions... (24/343):   7%|▋         | 24/343 [00:05<00:37,  8.41it/s]"
          ]
        },
        {
          "output_type": "stream",
          "name": "stdout",
          "text": [
            "SummaCZS Score for prediction 22: 0.47510\n",
            "SummaCConv Score for prediction 22: 0.86952\n",
            "SummaCZS Score for prediction 23: -0.29028\n",
            "SummaCConv Score for prediction 23: 0.21373\n",
            "SummaCZS Score for prediction 24: -0.52945\n",
            "SummaCConv Score for prediction 24: 0.22153\n"
          ]
        },
        {
          "output_type": "stream",
          "name": "stderr",
          "text": [
            "Processing predictions... (27/343):   8%|▊         | 27/343 [00:05<00:31,  9.94it/s]"
          ]
        },
        {
          "output_type": "stream",
          "name": "stdout",
          "text": [
            "SummaCZS Score for prediction 25: 0.81580\n",
            "SummaCConv Score for prediction 25: 0.55624\n",
            "SummaCZS Score for prediction 26: 0.15234\n",
            "SummaCConv Score for prediction 26: 0.59232\n",
            "SummaCZS Score for prediction 27: -0.10483\n",
            "SummaCConv Score for prediction 27: 0.35291\n"
          ]
        },
        {
          "output_type": "stream",
          "name": "stderr",
          "text": [
            "Processing predictions... (30/343):   9%|▊         | 30/343 [00:05<00:25, 12.06it/s]"
          ]
        },
        {
          "output_type": "stream",
          "name": "stdout",
          "text": [
            "SummaCZS Score for prediction 28: -0.05679\n",
            "SummaCConv Score for prediction 28: 0.22153\n",
            "SummaCZS Score for prediction 29: 0.02226\n",
            "SummaCConv Score for prediction 29: 0.76738\n",
            "SummaCZS Score for prediction 30: 0.96506\n",
            "SummaCConv Score for prediction 30: 0.76738\n"
          ]
        },
        {
          "output_type": "stream",
          "name": "stderr",
          "text": [
            "Processing predictions... (32/343):   9%|▉         | 32/343 [00:06<00:31,  9.82it/s]"
          ]
        },
        {
          "output_type": "stream",
          "name": "stdout",
          "text": [
            "SummaCZS Score for prediction 31: 0.83911\n",
            "SummaCConv Score for prediction 31: 0.22153\n",
            "SummaCZS Score for prediction 32: 0.75665\n",
            "SummaCConv Score for prediction 32: 0.91948\n"
          ]
        },
        {
          "output_type": "stream",
          "name": "stderr",
          "text": [
            "Processing predictions... (35/343):  10%|█         | 35/343 [00:06<00:31,  9.63it/s]"
          ]
        },
        {
          "output_type": "stream",
          "name": "stdout",
          "text": [
            "SummaCZS Score for prediction 33: 0.85788\n",
            "SummaCConv Score for prediction 33: 0.59967\n",
            "SummaCZS Score for prediction 34: -0.83736\n",
            "SummaCConv Score for prediction 34: 0.22153\n",
            "SummaCZS Score for prediction 35: -0.06165\n",
            "SummaCConv Score for prediction 35: 0.22153\n"
          ]
        },
        {
          "output_type": "stream",
          "name": "stderr",
          "text": [
            "Processing predictions... (38/343):  11%|█         | 38/343 [00:06<00:27, 11.20it/s]"
          ]
        },
        {
          "output_type": "stream",
          "name": "stdout",
          "text": [
            "SummaCZS Score for prediction 36: 0.80481\n",
            "SummaCConv Score for prediction 36: 0.76738\n",
            "SummaCZS Score for prediction 37: -0.39231\n",
            "SummaCConv Score for prediction 37: 0.20179\n",
            "SummaCZS Score for prediction 38: 0.00012\n",
            "SummaCConv Score for prediction 38: 0.22025\n"
          ]
        },
        {
          "output_type": "stream",
          "name": "stderr",
          "text": [
            "Processing predictions... (41/343):  12%|█▏        | 41/343 [00:06<00:25, 11.97it/s]"
          ]
        },
        {
          "output_type": "stream",
          "name": "stdout",
          "text": [
            "SummaCZS Score for prediction 39: 0.97473\n",
            "SummaCConv Score for prediction 39: 0.60186\n",
            "SummaCZS Score for prediction 40: 0.02451\n",
            "SummaCConv Score for prediction 40: 0.55624\n",
            "SummaCZS Score for prediction 41: -0.13684\n",
            "SummaCConv Score for prediction 41: 0.40564\n"
          ]
        },
        {
          "output_type": "stream",
          "name": "stderr",
          "text": [
            "Processing predictions... (44/343):  13%|█▎        | 44/343 [00:07<00:23, 12.49it/s]"
          ]
        },
        {
          "output_type": "stream",
          "name": "stdout",
          "text": [
            "SummaCZS Score for prediction 42: 0.00000\n",
            "SummaCConv Score for prediction 42: 0.21373\n",
            "SummaCZS Score for prediction 43: -0.07178\n",
            "SummaCConv Score for prediction 43: 0.59232\n",
            "SummaCZS Score for prediction 44: 0.93033\n",
            "SummaCConv Score for prediction 44: 0.60186\n"
          ]
        },
        {
          "output_type": "stream",
          "name": "stderr",
          "text": [
            "Processing predictions... (47/343):  14%|█▎        | 47/343 [00:07<00:22, 12.93it/s]"
          ]
        },
        {
          "output_type": "stream",
          "name": "stdout",
          "text": [
            "SummaCZS Score for prediction 45: 0.91254\n",
            "SummaCConv Score for prediction 45: 0.59967\n",
            "SummaCZS Score for prediction 46: 0.41333\n",
            "SummaCConv Score for prediction 46: 0.22153\n",
            "SummaCZS Score for prediction 47: 0.11652\n",
            "SummaCConv Score for prediction 47: 0.55624\n"
          ]
        },
        {
          "output_type": "stream",
          "name": "stderr",
          "text": [
            "Processing predictions... (50/343):  15%|█▍        | 50/343 [00:07<00:22, 13.14it/s]"
          ]
        },
        {
          "output_type": "stream",
          "name": "stdout",
          "text": [
            "SummaCZS Score for prediction 48: -0.05273\n",
            "SummaCConv Score for prediction 48: 0.22153\n",
            "SummaCZS Score for prediction 49: 0.96214\n",
            "SummaCConv Score for prediction 49: 0.60186\n",
            "SummaCZS Score for prediction 50: 0.91188\n",
            "SummaCConv Score for prediction 50: 0.76738\n"
          ]
        },
        {
          "output_type": "stream",
          "name": "stderr",
          "text": [
            "Processing predictions... (52/343):  15%|█▌        | 52/343 [00:07<00:25, 11.64it/s]"
          ]
        },
        {
          "output_type": "stream",
          "name": "stdout",
          "text": [
            "SummaCZS Score for prediction 51: 0.40527\n",
            "SummaCConv Score for prediction 51: 0.59232\n",
            "SummaCZS Score for prediction 52: -0.24677\n",
            "SummaCConv Score for prediction 52: 0.22153\n"
          ]
        },
        {
          "output_type": "stream",
          "name": "stderr",
          "text": [
            "Processing predictions... (55/343):  16%|█▌        | 55/343 [00:08<00:25, 11.18it/s]"
          ]
        },
        {
          "output_type": "stream",
          "name": "stdout",
          "text": [
            "SummaCZS Score for prediction 53: 0.96083\n",
            "SummaCConv Score for prediction 53: 0.46412\n",
            "SummaCZS Score for prediction 54: 0.94015\n",
            "SummaCConv Score for prediction 54: 0.40564\n",
            "SummaCZS Score for prediction 55: 0.20209\n",
            "SummaCConv Score for prediction 55: 0.21373\n"
          ]
        },
        {
          "output_type": "stream",
          "name": "stderr",
          "text": [
            "Processing predictions... (57/343):  17%|█▋        | 57/343 [00:08<00:23, 12.07it/s]"
          ]
        },
        {
          "output_type": "stream",
          "name": "stdout",
          "text": [
            "SummaCZS Score for prediction 56: 0.16339\n",
            "SummaCConv Score for prediction 56: 0.21373\n",
            "SummaCZS Score for prediction 57: 0.69153\n",
            "SummaCConv Score for prediction 57: 0.31634\n"
          ]
        },
        {
          "output_type": "stream",
          "name": "stderr",
          "text": [
            "Processing predictions... (61/343):  18%|█▊        | 61/343 [00:08<00:27, 10.39it/s]"
          ]
        },
        {
          "output_type": "stream",
          "name": "stdout",
          "text": [
            "SummaCZS Score for prediction 58: -0.25566\n",
            "SummaCConv Score for prediction 58: 0.59967\n",
            "SummaCZS Score for prediction 59: 0.00253\n",
            "SummaCConv Score for prediction 59: 0.22025\n",
            "SummaCZS Score for prediction 60: 0.02699\n",
            "SummaCConv Score for prediction 60: 0.76738\n",
            "SummaCZS Score for prediction 61: -0.70891\n",
            "SummaCConv Score for prediction 61: 0.40564\n"
          ]
        },
        {
          "output_type": "stream",
          "name": "stderr",
          "text": [
            "Processing predictions... (64/343):  19%|█▊        | 64/343 [00:08<00:23, 11.82it/s]"
          ]
        },
        {
          "output_type": "stream",
          "name": "stdout",
          "text": [
            "SummaCZS Score for prediction 62: -0.00490\n",
            "SummaCConv Score for prediction 62: 0.22153\n",
            "SummaCZS Score for prediction 63: 0.67401\n",
            "SummaCConv Score for prediction 63: 0.52609\n",
            "SummaCZS Score for prediction 64: 0.55392\n",
            "SummaCConv Score for prediction 64: 0.22153\n"
          ]
        },
        {
          "output_type": "stream",
          "name": "stderr",
          "text": [
            "Processing predictions... (67/343):  20%|█▉        | 67/343 [00:09<00:23, 11.97it/s]"
          ]
        },
        {
          "output_type": "stream",
          "name": "stdout",
          "text": [
            "SummaCZS Score for prediction 65: 0.90295\n",
            "SummaCConv Score for prediction 65: 0.60186\n",
            "SummaCZS Score for prediction 66: 0.92050\n",
            "SummaCConv Score for prediction 66: 0.40564\n",
            "SummaCZS Score for prediction 67: 0.56104\n",
            "SummaCConv Score for prediction 67: 0.59232\n"
          ]
        },
        {
          "output_type": "stream",
          "name": "stderr",
          "text": [
            "Processing predictions... (70/343):  20%|██        | 70/343 [00:09<00:19, 13.93it/s]"
          ]
        },
        {
          "output_type": "stream",
          "name": "stdout",
          "text": [
            "SummaCZS Score for prediction 68: -0.39343\n",
            "SummaCConv Score for prediction 68: 0.20477\n",
            "SummaCZS Score for prediction 69: 0.60547\n",
            "SummaCConv Score for prediction 69: 0.52609\n",
            "SummaCZS Score for prediction 70: 0.28941\n",
            "SummaCConv Score for prediction 70: 0.21373\n"
          ]
        },
        {
          "output_type": "stream",
          "name": "stderr",
          "text": [
            "\rProcessing predictions... (71/343):  21%|██        | 71/343 [00:09<00:19, 13.93it/s]"
          ]
        },
        {
          "output_type": "stream",
          "name": "stdout",
          "text": [
            "SummaCZS Score for prediction 71: 0.93692\n",
            "SummaCConv Score for prediction 71: 0.91948\n"
          ]
        },
        {
          "output_type": "stream",
          "name": "stderr",
          "text": [
            "Processing predictions... (74/343):  22%|██▏       | 74/343 [00:09<00:29,  9.27it/s]"
          ]
        },
        {
          "output_type": "stream",
          "name": "stdout",
          "text": [
            "SummaCZS Score for prediction 72: 0.17282\n",
            "SummaCConv Score for prediction 72: 0.55624\n",
            "SummaCZS Score for prediction 73: -0.09634\n",
            "SummaCConv Score for prediction 73: 0.59967\n",
            "SummaCZS Score for prediction 74: 0.00185\n",
            "SummaCConv Score for prediction 74: 0.60186\n"
          ]
        },
        {
          "output_type": "stream",
          "name": "stderr",
          "text": [
            "Processing predictions... (78/343):  23%|██▎       | 78/343 [00:10<00:21, 12.35it/s]"
          ]
        },
        {
          "output_type": "stream",
          "name": "stdout",
          "text": [
            "SummaCZS Score for prediction 75: 0.03220\n",
            "SummaCConv Score for prediction 75: 0.76738\n",
            "SummaCZS Score for prediction 76: -0.77771\n",
            "SummaCConv Score for prediction 76: 0.22153\n",
            "SummaCZS Score for prediction 77: 0.84412\n",
            "SummaCConv Score for prediction 77: 0.22153\n",
            "SummaCZS Score for prediction 78: -0.20218\n",
            "SummaCConv Score for prediction 78: 0.20477\n"
          ]
        },
        {
          "output_type": "stream",
          "name": "stderr",
          "text": [
            "Processing predictions... (82/343):  24%|██▍       | 82/343 [00:10<00:19, 13.49it/s]"
          ]
        },
        {
          "output_type": "stream",
          "name": "stdout",
          "text": [
            "SummaCZS Score for prediction 79: -0.16711\n",
            "SummaCConv Score for prediction 79: 0.22153\n",
            "SummaCZS Score for prediction 80: 0.97713\n",
            "SummaCConv Score for prediction 80: 0.60186\n",
            "SummaCZS Score for prediction 81: 0.12930\n",
            "SummaCConv Score for prediction 81: 0.76738\n",
            "SummaCZS Score for prediction 82: -0.19824\n",
            "SummaCConv Score for prediction 82: 0.22025\n"
          ]
        },
        {
          "output_type": "stream",
          "name": "stderr",
          "text": [
            "Processing predictions... (85/343):  25%|██▌       | 86/343 [00:10<00:17, 14.38it/s]"
          ]
        },
        {
          "output_type": "stream",
          "name": "stdout",
          "text": [
            "SummaCZS Score for prediction 83: 0.98244\n",
            "SummaCConv Score for prediction 83: 0.59967\n",
            "SummaCZS Score for prediction 84: 0.22168\n",
            "SummaCConv Score for prediction 84: 0.22153\n",
            "SummaCZS Score for prediction 85: -0.11012\n",
            "SummaCConv Score for prediction 85: 0.55624\n",
            "SummaCZS Score for prediction 86: 0.38367\n",
            "SummaCConv Score for prediction 86: 0.22153\n"
          ]
        },
        {
          "output_type": "stream",
          "name": "stderr",
          "text": [
            "Processing predictions... (88/343):  26%|██▌       | 88/343 [00:10<00:22, 11.42it/s]"
          ]
        },
        {
          "output_type": "stream",
          "name": "stdout",
          "text": [
            "SummaCZS Score for prediction 87: 0.89615\n",
            "SummaCConv Score for prediction 87: 0.22153\n",
            "SummaCZS Score for prediction 88: 0.50829\n",
            "SummaCConv Score for prediction 88: 0.86952\n"
          ]
        },
        {
          "output_type": "stream",
          "name": "stderr",
          "text": [
            "Processing predictions... (92/343):  27%|██▋       | 92/343 [00:11<00:17, 14.08it/s]"
          ]
        },
        {
          "output_type": "stream",
          "name": "stdout",
          "text": [
            "SummaCZS Score for prediction 89: -0.00367\n",
            "SummaCConv Score for prediction 89: 0.22153\n",
            "SummaCZS Score for prediction 90: 0.33308\n",
            "SummaCConv Score for prediction 90: 0.21373\n",
            "SummaCZS Score for prediction 91: -0.02475\n",
            "SummaCConv Score for prediction 91: 0.40564\n",
            "SummaCZS Score for prediction 92: 0.60962\n",
            "SummaCConv Score for prediction 92: 0.59232\n"
          ]
        },
        {
          "output_type": "stream",
          "name": "stderr",
          "text": [
            "Processing predictions... (95/343):  28%|██▊       | 95/343 [00:11<00:19, 12.43it/s]"
          ]
        },
        {
          "output_type": "stream",
          "name": "stdout",
          "text": [
            "SummaCZS Score for prediction 93: 0.48954\n",
            "SummaCConv Score for prediction 93: 0.60186\n",
            "SummaCZS Score for prediction 94: 0.91766\n",
            "SummaCConv Score for prediction 94: 0.86952\n",
            "SummaCZS Score for prediction 95: -0.19007\n",
            "SummaCConv Score for prediction 95: 0.22153\n"
          ]
        },
        {
          "output_type": "stream",
          "name": "stderr",
          "text": [
            "Processing predictions... (99/343):  29%|██▉       | 99/343 [00:11<00:19, 12.35it/s]"
          ]
        },
        {
          "output_type": "stream",
          "name": "stdout",
          "text": [
            "SummaCZS Score for prediction 96: 0.02677\n",
            "SummaCConv Score for prediction 96: 0.59967\n",
            "SummaCZS Score for prediction 97: 0.94452\n",
            "SummaCConv Score for prediction 97: 0.59967\n",
            "SummaCZS Score for prediction 98: 0.96576\n",
            "SummaCConv Score for prediction 98: 0.59967\n",
            "SummaCZS Score for prediction 99: -0.26639\n",
            "SummaCConv Score for prediction 99: 0.21373\n"
          ]
        },
        {
          "output_type": "stream",
          "name": "stderr",
          "text": [
            "Processing predictions... (102/343):  30%|██▉       | 102/343 [00:12<00:22, 10.87it/s]"
          ]
        },
        {
          "output_type": "stream",
          "name": "stdout",
          "text": [
            "SummaCZS Score for prediction 100: 0.47184\n",
            "SummaCConv Score for prediction 100: 0.59967\n",
            "SummaCZS Score for prediction 101: -0.04858\n",
            "SummaCConv Score for prediction 101: 0.59232\n",
            "SummaCZS Score for prediction 102: -0.01707\n",
            "SummaCConv Score for prediction 102: 0.60186\n"
          ]
        },
        {
          "output_type": "stream",
          "name": "stderr",
          "text": [
            "Processing predictions... (104/343):  30%|███       | 104/343 [00:12<00:24,  9.87it/s]"
          ]
        },
        {
          "output_type": "stream",
          "name": "stdout",
          "text": [
            "SummaCZS Score for prediction 103: -0.05794\n",
            "SummaCConv Score for prediction 103: 0.21373\n",
            "SummaCZS Score for prediction 104: 0.80726\n",
            "SummaCConv Score for prediction 104: 0.86952\n"
          ]
        },
        {
          "output_type": "stream",
          "name": "stderr",
          "text": [
            "Processing predictions... (108/343):  31%|███▏      | 108/343 [00:12<00:21, 10.90it/s]"
          ]
        },
        {
          "output_type": "stream",
          "name": "stdout",
          "text": [
            "SummaCZS Score for prediction 105: -0.60792\n",
            "SummaCConv Score for prediction 105: 0.60186\n",
            "SummaCZS Score for prediction 106: -0.54175\n",
            "SummaCConv Score for prediction 106: 0.22153\n",
            "SummaCZS Score for prediction 107: -0.04614\n",
            "SummaCConv Score for prediction 107: 0.22153\n",
            "SummaCZS Score for prediction 108: 0.13428\n",
            "SummaCConv Score for prediction 108: 0.76738\n"
          ]
        },
        {
          "output_type": "stream",
          "name": "stderr",
          "text": [
            "Processing predictions... (112/343):  33%|███▎      | 112/343 [00:13<00:18, 12.59it/s]"
          ]
        },
        {
          "output_type": "stream",
          "name": "stdout",
          "text": [
            "SummaCZS Score for prediction 109: 0.96469\n",
            "SummaCConv Score for prediction 109: 0.86952\n",
            "SummaCZS Score for prediction 110: -0.05798\n",
            "SummaCConv Score for prediction 110: 0.20179\n",
            "SummaCZS Score for prediction 111: -0.32248\n",
            "SummaCConv Score for prediction 111: 0.21373\n",
            "SummaCZS Score for prediction 112: 0.97414\n",
            "SummaCConv Score for prediction 112: 0.86952\n"
          ]
        },
        {
          "output_type": "stream",
          "name": "stderr",
          "text": [
            "Processing predictions... (116/343):  34%|███▍      | 116/343 [00:13<00:15, 14.28it/s]"
          ]
        },
        {
          "output_type": "stream",
          "name": "stdout",
          "text": [
            "SummaCZS Score for prediction 113: 0.14209\n",
            "SummaCConv Score for prediction 113: 0.59232\n",
            "SummaCZS Score for prediction 114: 0.85376\n",
            "SummaCConv Score for prediction 114: 0.76738\n",
            "SummaCZS Score for prediction 115: 0.49292\n",
            "SummaCConv Score for prediction 115: 0.31634\n",
            "SummaCZS Score for prediction 116: 0.63425\n",
            "SummaCConv Score for prediction 116: 0.60186\n"
          ]
        },
        {
          "output_type": "stream",
          "name": "stderr",
          "text": [
            "Processing predictions... (119/343):  35%|███▍      | 120/343 [00:13<00:15, 14.24it/s]"
          ]
        },
        {
          "output_type": "stream",
          "name": "stdout",
          "text": [
            "SummaCZS Score for prediction 117: -0.41495\n",
            "SummaCConv Score for prediction 117: 0.46412\n",
            "SummaCZS Score for prediction 118: -0.19420\n",
            "SummaCConv Score for prediction 118: 0.34963\n",
            "SummaCZS Score for prediction 119: 0.95374\n",
            "SummaCConv Score for prediction 119: 0.59967\n",
            "SummaCZS Score for prediction 120: -0.22595\n",
            "SummaCConv Score for prediction 120: 0.59232\n"
          ]
        },
        {
          "output_type": "stream",
          "name": "stderr",
          "text": [
            "Processing predictions... (124/343):  36%|███▌      | 124/343 [00:13<00:13, 16.13it/s]"
          ]
        },
        {
          "output_type": "stream",
          "name": "stdout",
          "text": [
            "SummaCZS Score for prediction 121: 0.89728\n",
            "SummaCConv Score for prediction 121: 0.22153\n",
            "SummaCZS Score for prediction 122: -0.54678\n",
            "SummaCConv Score for prediction 122: 0.21373\n",
            "SummaCZS Score for prediction 123: 0.97256\n",
            "SummaCConv Score for prediction 123: 0.76738\n",
            "SummaCZS Score for prediction 124: 0.93569\n",
            "SummaCConv Score for prediction 124: 0.35291\n"
          ]
        },
        {
          "output_type": "stream",
          "name": "stderr",
          "text": [
            "Processing predictions... (128/343):  37%|███▋      | 128/343 [00:14<00:14, 15.26it/s]"
          ]
        },
        {
          "output_type": "stream",
          "name": "stdout",
          "text": [
            "SummaCZS Score for prediction 125: -0.71156\n",
            "SummaCConv Score for prediction 125: 0.22025\n",
            "SummaCZS Score for prediction 126: 0.88091\n",
            "SummaCConv Score for prediction 126: 0.22153\n",
            "SummaCZS Score for prediction 127: 0.69050\n",
            "SummaCConv Score for prediction 127: 0.35291\n",
            "SummaCZS Score for prediction 128: 0.85437\n",
            "SummaCConv Score for prediction 128: 0.60186\n"
          ]
        },
        {
          "output_type": "stream",
          "name": "stderr",
          "text": [
            "Processing predictions... (132/343):  38%|███▊      | 132/343 [00:14<00:13, 15.93it/s]"
          ]
        },
        {
          "output_type": "stream",
          "name": "stdout",
          "text": [
            "SummaCZS Score for prediction 129: 0.45605\n",
            "SummaCConv Score for prediction 129: 0.31634\n",
            "SummaCZS Score for prediction 130: -0.28619\n",
            "SummaCConv Score for prediction 130: 0.22153\n",
            "SummaCZS Score for prediction 131: 0.94748\n",
            "SummaCConv Score for prediction 131: 0.52609\n",
            "SummaCZS Score for prediction 132: -0.36074\n",
            "SummaCConv Score for prediction 132: 0.46412\n"
          ]
        },
        {
          "output_type": "stream",
          "name": "stderr",
          "text": [
            "Processing predictions... (135/343):  39%|███▉      | 135/343 [00:14<00:12, 16.27it/s]"
          ]
        },
        {
          "output_type": "stream",
          "name": "stdout",
          "text": [
            "SummaCZS Score for prediction 133: -0.06511\n",
            "SummaCConv Score for prediction 133: 0.22153\n",
            "SummaCZS Score for prediction 134: -0.00183\n",
            "SummaCConv Score for prediction 134: 0.22153\n",
            "SummaCZS Score for prediction 135: -0.30385\n",
            "SummaCConv Score for prediction 135: 0.22153\n"
          ]
        },
        {
          "output_type": "stream",
          "name": "stderr",
          "text": [
            "Processing predictions... (138/343):  40%|████      | 138/343 [00:14<00:14, 13.96it/s]"
          ]
        },
        {
          "output_type": "stream",
          "name": "stdout",
          "text": [
            "SummaCZS Score for prediction 136: 0.96748\n",
            "SummaCConv Score for prediction 136: 0.60186\n",
            "SummaCZS Score for prediction 137: -0.18887\n",
            "SummaCConv Score for prediction 137: 0.46412\n",
            "SummaCZS Score for prediction 138: 0.79651\n",
            "SummaCConv Score for prediction 138: 0.59232\n"
          ]
        },
        {
          "output_type": "stream",
          "name": "stderr",
          "text": [
            "Processing predictions... (140/343):  41%|████      | 140/343 [00:14<00:13, 14.96it/s]"
          ]
        },
        {
          "output_type": "stream",
          "name": "stdout",
          "text": [
            "SummaCZS Score for prediction 139: 0.86279\n",
            "SummaCConv Score for prediction 139: 0.60186\n",
            "SummaCZS Score for prediction 140: 0.99232\n",
            "SummaCConv Score for prediction 140: 0.86952\n"
          ]
        },
        {
          "output_type": "stream",
          "name": "stderr",
          "text": [
            "Processing predictions... (144/343):  42%|████▏     | 144/343 [00:15<00:14, 13.62it/s]"
          ]
        },
        {
          "output_type": "stream",
          "name": "stdout",
          "text": [
            "SummaCZS Score for prediction 141: 0.09937\n",
            "SummaCConv Score for prediction 141: 0.46412\n",
            "SummaCZS Score for prediction 142: 0.95221\n",
            "SummaCConv Score for prediction 142: 0.60186\n",
            "SummaCZS Score for prediction 143: 0.09393\n",
            "SummaCConv Score for prediction 143: 0.60186\n",
            "SummaCZS Score for prediction 144: 0.58228\n",
            "SummaCConv Score for prediction 144: 0.76738\n"
          ]
        },
        {
          "output_type": "stream",
          "name": "stderr",
          "text": [
            "Processing predictions... (147/343):  43%|████▎     | 147/343 [00:15<00:13, 14.24it/s]"
          ]
        },
        {
          "output_type": "stream",
          "name": "stdout",
          "text": [
            "SummaCZS Score for prediction 145: -0.04326\n",
            "SummaCConv Score for prediction 145: 0.22153\n",
            "SummaCZS Score for prediction 146: -0.03638\n",
            "SummaCConv Score for prediction 146: 0.34963\n",
            "SummaCZS Score for prediction 147: 0.72217\n",
            "SummaCConv Score for prediction 147: 0.55624\n"
          ]
        },
        {
          "output_type": "stream",
          "name": "stderr",
          "text": [
            "Processing predictions... (150/343):  44%|████▎     | 150/343 [00:15<00:12, 15.20it/s]"
          ]
        },
        {
          "output_type": "stream",
          "name": "stdout",
          "text": [
            "SummaCZS Score for prediction 148: -0.08124\n",
            "SummaCConv Score for prediction 148: 0.21373\n",
            "SummaCZS Score for prediction 149: 0.67261\n",
            "SummaCConv Score for prediction 149: 0.59967\n",
            "SummaCZS Score for prediction 150: 0.79431\n",
            "SummaCConv Score for prediction 150: 0.60186\n"
          ]
        },
        {
          "output_type": "stream",
          "name": "stderr",
          "text": [
            "Processing predictions... (152/343):  44%|████▍     | 152/343 [00:15<00:16, 11.24it/s]"
          ]
        },
        {
          "output_type": "stream",
          "name": "stdout",
          "text": [
            "SummaCZS Score for prediction 151: 0.26770\n",
            "SummaCConv Score for prediction 151: 0.26973\n",
            "SummaCZS Score for prediction 152: 0.34717\n",
            "SummaCConv Score for prediction 152: 0.60186\n"
          ]
        },
        {
          "output_type": "stream",
          "name": "stderr",
          "text": [
            "Processing predictions... (155/343):  45%|████▌     | 155/343 [00:16<00:16, 11.44it/s]"
          ]
        },
        {
          "output_type": "stream",
          "name": "stdout",
          "text": [
            "SummaCZS Score for prediction 153: 0.90564\n",
            "SummaCConv Score for prediction 153: 0.59232\n",
            "SummaCZS Score for prediction 154: -0.02170\n",
            "SummaCConv Score for prediction 154: 0.76738\n",
            "SummaCZS Score for prediction 155: -0.17982\n",
            "SummaCConv Score for prediction 155: 0.21373\n"
          ]
        },
        {
          "output_type": "stream",
          "name": "stderr",
          "text": [
            "Processing predictions... (158/343):  46%|████▌     | 158/343 [00:16<00:14, 12.67it/s]"
          ]
        },
        {
          "output_type": "stream",
          "name": "stdout",
          "text": [
            "SummaCZS Score for prediction 156: 0.33179\n",
            "SummaCConv Score for prediction 156: 0.31634\n",
            "SummaCZS Score for prediction 157: 0.91913\n",
            "SummaCConv Score for prediction 157: 0.60186\n",
            "SummaCZS Score for prediction 158: -0.04871\n",
            "SummaCConv Score for prediction 158: 0.21373\n"
          ]
        },
        {
          "output_type": "stream",
          "name": "stderr",
          "text": [
            "\rProcessing predictions... (159/343):  46%|████▋     | 159/343 [00:16<00:14, 12.67it/s]"
          ]
        },
        {
          "output_type": "stream",
          "name": "stdout",
          "text": [
            "SummaCZS Score for prediction 159: -0.00064\n",
            "SummaCConv Score for prediction 159: 0.22153\n"
          ]
        },
        {
          "output_type": "stream",
          "name": "stderr",
          "text": [
            "Processing predictions... (162/343):  47%|████▋     | 162/343 [00:16<00:16, 10.70it/s]"
          ]
        },
        {
          "output_type": "stream",
          "name": "stdout",
          "text": [
            "SummaCZS Score for prediction 160: 0.89718\n",
            "SummaCConv Score for prediction 160: 0.60186\n",
            "SummaCZS Score for prediction 161: -0.10515\n",
            "SummaCConv Score for prediction 161: 0.31634\n",
            "SummaCZS Score for prediction 162: -0.08169\n",
            "SummaCConv Score for prediction 162: 0.22153\n"
          ]
        },
        {
          "output_type": "stream",
          "name": "stderr",
          "text": [
            "Processing predictions... (165/343):  48%|████▊     | 165/343 [00:17<00:17, 10.15it/s]"
          ]
        },
        {
          "output_type": "stream",
          "name": "stdout",
          "text": [
            "SummaCZS Score for prediction 163: -0.25146\n",
            "SummaCConv Score for prediction 163: 0.22153\n",
            "SummaCZS Score for prediction 164: -0.08295\n",
            "SummaCConv Score for prediction 164: 0.86952\n",
            "SummaCZS Score for prediction 165: 0.55542\n",
            "SummaCConv Score for prediction 165: 0.52609\n"
          ]
        },
        {
          "output_type": "stream",
          "name": "stderr",
          "text": [
            "Processing predictions... (169/343):  49%|████▉     | 169/343 [00:17<00:14, 12.37it/s]"
          ]
        },
        {
          "output_type": "stream",
          "name": "stdout",
          "text": [
            "SummaCZS Score for prediction 166: -0.03937\n",
            "SummaCConv Score for prediction 166: 0.22153\n",
            "SummaCZS Score for prediction 167: 0.38623\n",
            "SummaCConv Score for prediction 167: 0.55624\n",
            "SummaCZS Score for prediction 168: 0.16371\n",
            "SummaCConv Score for prediction 168: 0.59232\n",
            "SummaCZS Score for prediction 169: 0.75153\n",
            "SummaCConv Score for prediction 169: 0.22153\n"
          ]
        },
        {
          "output_type": "stream",
          "name": "stderr",
          "text": [
            "Processing predictions... (172/343):  50%|█████     | 172/343 [00:17<00:14, 11.82it/s]"
          ]
        },
        {
          "output_type": "stream",
          "name": "stdout",
          "text": [
            "SummaCZS Score for prediction 170: 0.11578\n",
            "SummaCConv Score for prediction 170: 0.22153\n",
            "SummaCZS Score for prediction 171: 0.01570\n",
            "SummaCConv Score for prediction 171: 0.34963\n",
            "SummaCZS Score for prediction 172: -0.34442\n",
            "SummaCConv Score for prediction 172: 0.22153\n"
          ]
        },
        {
          "output_type": "stream",
          "name": "stderr",
          "text": [
            "Processing predictions... (175/343):  51%|█████▏    | 176/343 [00:18<00:15, 10.61it/s]"
          ]
        },
        {
          "output_type": "stream",
          "name": "stdout",
          "text": [
            "SummaCZS Score for prediction 173: -0.26245\n",
            "SummaCConv Score for prediction 173: 0.22153\n",
            "SummaCZS Score for prediction 174: 0.24658\n",
            "SummaCConv Score for prediction 174: 0.26973\n",
            "SummaCZS Score for prediction 175: -0.09540\n",
            "SummaCConv Score for prediction 175: 0.60186\n",
            "SummaCZS Score for prediction 176: 0.96640\n",
            "SummaCConv Score for prediction 176: 0.86952\n"
          ]
        },
        {
          "output_type": "stream",
          "name": "stderr",
          "text": [
            "Processing predictions... (179/343):  52%|█████▏    | 179/343 [00:18<00:14, 11.34it/s]"
          ]
        },
        {
          "output_type": "stream",
          "name": "stdout",
          "text": [
            "SummaCZS Score for prediction 177: 0.29443\n",
            "SummaCConv Score for prediction 177: 0.46412\n",
            "SummaCZS Score for prediction 178: -0.06001\n",
            "SummaCConv Score for prediction 178: 0.52609\n",
            "SummaCZS Score for prediction 179: 0.00731\n",
            "SummaCConv Score for prediction 179: 0.35291\n"
          ]
        },
        {
          "output_type": "stream",
          "name": "stderr",
          "text": [
            "Processing predictions... (181/343):  53%|█████▎    | 181/343 [00:18<00:14, 11.43it/s]"
          ]
        },
        {
          "output_type": "stream",
          "name": "stdout",
          "text": [
            "SummaCZS Score for prediction 180: -0.34326\n",
            "SummaCConv Score for prediction 180: 0.22153\n",
            "SummaCZS Score for prediction 181: 0.02899\n",
            "SummaCConv Score for prediction 181: 0.59967\n"
          ]
        },
        {
          "output_type": "stream",
          "name": "stderr",
          "text": [
            "Processing predictions... (184/343):  54%|█████▎    | 184/343 [00:19<00:22,  6.98it/s]"
          ]
        },
        {
          "output_type": "stream",
          "name": "stdout",
          "text": [
            "SummaCZS Score for prediction 182: 0.09275\n",
            "SummaCConv Score for prediction 182: 0.86952\n",
            "SummaCZS Score for prediction 183: 0.19189\n",
            "SummaCConv Score for prediction 183: 0.76738\n",
            "SummaCZS Score for prediction 184: 0.59979\n",
            "SummaCConv Score for prediction 184: 0.46412\n"
          ]
        },
        {
          "output_type": "stream",
          "name": "stderr",
          "text": [
            "\rProcessing predictions... (185/343):  54%|█████▍    | 185/343 [00:19<00:22,  6.98it/s]"
          ]
        },
        {
          "output_type": "stream",
          "name": "stdout",
          "text": [
            "SummaCZS Score for prediction 185: 0.85726\n",
            "SummaCConv Score for prediction 185: 0.86952\n"
          ]
        },
        {
          "output_type": "stream",
          "name": "stderr",
          "text": [
            "Processing predictions... (187/343):  55%|█████▍    | 187/343 [00:19<00:23,  6.73it/s]"
          ]
        },
        {
          "output_type": "stream",
          "name": "stdout",
          "text": [
            "SummaCZS Score for prediction 186: 0.29297\n",
            "SummaCConv Score for prediction 186: 0.59967\n",
            "SummaCZS Score for prediction 187: 0.64624\n",
            "SummaCConv Score for prediction 187: 0.60186\n"
          ]
        },
        {
          "output_type": "stream",
          "name": "stderr",
          "text": [
            "Processing predictions... (189/343):  55%|█████▌    | 189/343 [00:19<00:19,  7.71it/s]"
          ]
        },
        {
          "output_type": "stream",
          "name": "stdout",
          "text": [
            "SummaCZS Score for prediction 188: 0.38770\n",
            "SummaCConv Score for prediction 188: 0.22153\n",
            "SummaCZS Score for prediction 189: -0.07709\n",
            "SummaCConv Score for prediction 189: 0.22153\n"
          ]
        },
        {
          "output_type": "stream",
          "name": "stderr",
          "text": [
            "Processing predictions... (193/343):  56%|█████▋    | 193/343 [00:20<00:16,  9.32it/s]"
          ]
        },
        {
          "output_type": "stream",
          "name": "stdout",
          "text": [
            "SummaCZS Score for prediction 190: 0.45435\n",
            "SummaCConv Score for prediction 190: 0.59967\n",
            "SummaCZS Score for prediction 191: 0.00000\n",
            "SummaCConv Score for prediction 191: 0.22153\n",
            "SummaCZS Score for prediction 192: -0.19238\n",
            "SummaCConv Score for prediction 192: 0.55624\n",
            "SummaCZS Score for prediction 193: -0.04651\n",
            "SummaCConv Score for prediction 193: 0.21373\n"
          ]
        },
        {
          "output_type": "stream",
          "name": "stderr",
          "text": [
            "Processing predictions... (195/343):  57%|█████▋    | 195/343 [00:21<00:32,  4.61it/s]"
          ]
        },
        {
          "output_type": "stream",
          "name": "stdout",
          "text": [
            "SummaCZS Score for prediction 194: 0.40041\n",
            "SummaCConv Score for prediction 194: 0.86952\n",
            "SummaCZS Score for prediction 195: 0.00863\n",
            "SummaCConv Score for prediction 195: 0.40564\n"
          ]
        },
        {
          "output_type": "stream",
          "name": "stderr",
          "text": [
            "Processing predictions... (197/343):  57%|█████▋    | 197/343 [00:21<00:25,  5.83it/s]"
          ]
        },
        {
          "output_type": "stream",
          "name": "stdout",
          "text": [
            "SummaCZS Score for prediction 196: -0.24219\n",
            "SummaCConv Score for prediction 196: 0.22153\n",
            "SummaCZS Score for prediction 197: 0.73926\n",
            "SummaCConv Score for prediction 197: 0.60186\n"
          ]
        },
        {
          "output_type": "stream",
          "name": "stderr",
          "text": [
            "Processing predictions... (200/343):  58%|█████▊    | 200/343 [00:22<00:28,  5.01it/s]"
          ]
        },
        {
          "output_type": "stream",
          "name": "stdout",
          "text": [
            "SummaCZS Score for prediction 198: 0.25953\n",
            "SummaCConv Score for prediction 198: 0.59967\n",
            "SummaCZS Score for prediction 199: -0.03967\n",
            "SummaCConv Score for prediction 199: 0.35291\n",
            "SummaCZS Score for prediction 200: -0.05685\n",
            "SummaCConv Score for prediction 200: 0.36450\n"
          ]
        },
        {
          "output_type": "stream",
          "name": "stderr",
          "text": [
            "Processing predictions... (203/343):  59%|█████▉    | 203/343 [00:22<00:22,  6.25it/s]"
          ]
        },
        {
          "output_type": "stream",
          "name": "stdout",
          "text": [
            "SummaCZS Score for prediction 201: -0.18402\n",
            "SummaCConv Score for prediction 201: 0.20179\n",
            "SummaCZS Score for prediction 202: 0.45215\n",
            "SummaCConv Score for prediction 202: 0.60186\n",
            "SummaCZS Score for prediction 203: 0.94968\n",
            "SummaCConv Score for prediction 203: 0.40564\n"
          ]
        },
        {
          "output_type": "stream",
          "name": "stderr",
          "text": [
            "Processing predictions... (206/343):  60%|██████    | 206/343 [00:22<00:19,  7.17it/s]"
          ]
        },
        {
          "output_type": "stream",
          "name": "stdout",
          "text": [
            "SummaCZS Score for prediction 204: 0.47510\n",
            "SummaCConv Score for prediction 204: 0.60186\n",
            "SummaCZS Score for prediction 205: -0.29639\n",
            "SummaCConv Score for prediction 205: 0.22153\n",
            "SummaCZS Score for prediction 206: -0.07280\n",
            "SummaCConv Score for prediction 206: 0.60186\n"
          ]
        },
        {
          "output_type": "stream",
          "name": "stderr",
          "text": [
            "Processing predictions... (209/343):  61%|██████    | 209/343 [00:23<00:16,  8.36it/s]"
          ]
        },
        {
          "output_type": "stream",
          "name": "stdout",
          "text": [
            "SummaCZS Score for prediction 207: -0.02441\n",
            "SummaCConv Score for prediction 207: 0.46412\n",
            "SummaCZS Score for prediction 208: -0.46964\n",
            "SummaCConv Score for prediction 208: 0.31634\n",
            "SummaCZS Score for prediction 209: 0.69598\n",
            "SummaCConv Score for prediction 209: 0.22153\n"
          ]
        },
        {
          "output_type": "stream",
          "name": "stderr",
          "text": [
            "Processing predictions... (213/343):  62%|██████▏   | 213/343 [00:23<00:11, 11.31it/s]"
          ]
        },
        {
          "output_type": "stream",
          "name": "stdout",
          "text": [
            "SummaCZS Score for prediction 210: 0.48584\n",
            "SummaCConv Score for prediction 210: 0.86952\n",
            "SummaCZS Score for prediction 211: 0.10254\n",
            "SummaCConv Score for prediction 211: 0.22153\n",
            "SummaCZS Score for prediction 212: 0.84460\n",
            "SummaCConv Score for prediction 212: 0.59967\n",
            "SummaCZS Score for prediction 213: 0.17938\n",
            "SummaCConv Score for prediction 213: 0.22153\n"
          ]
        },
        {
          "output_type": "stream",
          "name": "stderr",
          "text": [
            "Processing predictions... (216/343):  63%|██████▎   | 216/343 [00:23<00:10, 11.75it/s]"
          ]
        },
        {
          "output_type": "stream",
          "name": "stdout",
          "text": [
            "SummaCZS Score for prediction 214: 0.98209\n",
            "SummaCConv Score for prediction 214: 0.60186\n",
            "SummaCZS Score for prediction 215: -0.29166\n",
            "SummaCConv Score for prediction 215: 0.60186\n",
            "SummaCZS Score for prediction 216: -0.90828\n",
            "SummaCConv Score for prediction 216: 0.20179\n"
          ]
        },
        {
          "output_type": "stream",
          "name": "stderr",
          "text": [
            "Processing predictions... (220/343):  64%|██████▍   | 220/343 [00:23<00:09, 13.63it/s]"
          ]
        },
        {
          "output_type": "stream",
          "name": "stdout",
          "text": [
            "SummaCZS Score for prediction 217: 0.90045\n",
            "SummaCConv Score for prediction 217: 0.59232\n",
            "SummaCZS Score for prediction 218: 0.31909\n",
            "SummaCConv Score for prediction 218: 0.22153\n",
            "SummaCZS Score for prediction 219: 0.96205\n",
            "SummaCConv Score for prediction 219: 0.59232\n",
            "SummaCZS Score for prediction 220: 0.85843\n",
            "SummaCConv Score for prediction 220: 0.22153\n"
          ]
        },
        {
          "output_type": "stream",
          "name": "stderr",
          "text": [
            "Processing predictions... (223/343):  65%|██████▌   | 223/343 [00:24<00:08, 13.89it/s]"
          ]
        },
        {
          "output_type": "stream",
          "name": "stdout",
          "text": [
            "SummaCZS Score for prediction 221: -0.31392\n",
            "SummaCConv Score for prediction 221: 0.22153\n",
            "SummaCZS Score for prediction 222: 0.86450\n",
            "SummaCConv Score for prediction 222: 0.22153\n",
            "SummaCZS Score for prediction 223: -0.05683\n",
            "SummaCConv Score for prediction 223: 0.22153\n"
          ]
        },
        {
          "output_type": "stream",
          "name": "stderr",
          "text": [
            "Processing predictions... (225/343):  66%|██████▌   | 225/343 [00:24<00:09, 11.99it/s]"
          ]
        },
        {
          "output_type": "stream",
          "name": "stdout",
          "text": [
            "SummaCZS Score for prediction 224: 0.80566\n",
            "SummaCConv Score for prediction 224: 0.60186\n",
            "SummaCZS Score for prediction 225: -0.22970\n",
            "SummaCConv Score for prediction 225: 0.22153\n"
          ]
        },
        {
          "output_type": "stream",
          "name": "stderr",
          "text": [
            "Processing predictions... (228/343):  66%|██████▋   | 228/343 [00:24<00:09, 11.89it/s]"
          ]
        },
        {
          "output_type": "stream",
          "name": "stdout",
          "text": [
            "SummaCZS Score for prediction 226: 0.16302\n",
            "SummaCConv Score for prediction 226: 0.22153\n",
            "SummaCZS Score for prediction 227: 0.05600\n",
            "SummaCConv Score for prediction 227: 0.35291\n",
            "SummaCZS Score for prediction 228: 0.92059\n",
            "SummaCConv Score for prediction 228: 0.60186\n"
          ]
        },
        {
          "output_type": "stream",
          "name": "stderr",
          "text": [
            "Processing predictions... (231/343):  67%|██████▋   | 231/343 [00:24<00:09, 11.96it/s]"
          ]
        },
        {
          "output_type": "stream",
          "name": "stdout",
          "text": [
            "SummaCZS Score for prediction 229: -0.05035\n",
            "SummaCConv Score for prediction 229: 0.26973\n",
            "SummaCZS Score for prediction 230: 0.67163\n",
            "SummaCConv Score for prediction 230: 0.55624\n",
            "SummaCZS Score for prediction 231: 0.50586\n",
            "SummaCConv Score for prediction 231: 0.59967\n"
          ]
        },
        {
          "output_type": "stream",
          "name": "stderr",
          "text": [
            "Processing predictions... (234/343):  68%|██████▊   | 234/343 [00:25<00:08, 12.63it/s]"
          ]
        },
        {
          "output_type": "stream",
          "name": "stdout",
          "text": [
            "SummaCZS Score for prediction 232: 0.91089\n",
            "SummaCConv Score for prediction 232: 0.55624\n",
            "SummaCZS Score for prediction 233: 0.61914\n",
            "SummaCConv Score for prediction 233: 0.52609\n",
            "SummaCZS Score for prediction 234: -0.06415\n",
            "SummaCConv Score for prediction 234: 0.22153\n"
          ]
        },
        {
          "output_type": "stream",
          "name": "stderr",
          "text": [
            "Processing predictions... (235/343):  69%|██████▊   | 235/343 [00:25<00:08, 12.40it/s]"
          ]
        },
        {
          "output_type": "stream",
          "name": "stdout",
          "text": [
            "SummaCZS Score for prediction 235: 0.91673\n",
            "SummaCConv Score for prediction 235: 0.91948\n"
          ]
        },
        {
          "output_type": "stream",
          "name": "stderr",
          "text": [
            "Processing predictions... (238/343):  69%|██████▉   | 238/343 [00:25<00:11,  8.89it/s]"
          ]
        },
        {
          "output_type": "stream",
          "name": "stdout",
          "text": [
            "SummaCZS Score for prediction 236: -0.63705\n",
            "SummaCConv Score for prediction 236: 0.22153\n",
            "SummaCZS Score for prediction 237: 0.87268\n",
            "SummaCConv Score for prediction 237: 0.76738\n",
            "SummaCZS Score for prediction 238: 0.11386\n",
            "SummaCConv Score for prediction 238: 0.22153\n"
          ]
        },
        {
          "output_type": "stream",
          "name": "stderr",
          "text": [
            "Processing predictions... (242/343):  71%|███████   | 242/343 [00:25<00:09, 10.61it/s]"
          ]
        },
        {
          "output_type": "stream",
          "name": "stdout",
          "text": [
            "SummaCZS Score for prediction 239: -0.11653\n",
            "SummaCConv Score for prediction 239: 0.76738\n",
            "SummaCZS Score for prediction 240: 0.86932\n",
            "SummaCConv Score for prediction 240: 0.55624\n",
            "SummaCZS Score for prediction 241: 0.98448\n",
            "SummaCConv Score for prediction 241: 0.76738\n",
            "SummaCZS Score for prediction 242: 0.98467\n",
            "SummaCConv Score for prediction 242: 0.76738\n"
          ]
        },
        {
          "output_type": "stream",
          "name": "stderr",
          "text": [
            "Processing predictions... (245/343):  71%|███████▏  | 245/343 [00:26<00:08, 11.65it/s]"
          ]
        },
        {
          "output_type": "stream",
          "name": "stdout",
          "text": [
            "SummaCZS Score for prediction 243: -0.02937\n",
            "SummaCConv Score for prediction 243: 0.86952\n",
            "SummaCZS Score for prediction 244: 0.94073\n",
            "SummaCConv Score for prediction 244: 0.34963\n",
            "SummaCZS Score for prediction 245: 0.33255\n",
            "SummaCConv Score for prediction 245: 0.21373\n"
          ]
        },
        {
          "output_type": "stream",
          "name": "stderr",
          "text": [
            "Processing predictions... (248/343):  72%|███████▏  | 248/343 [00:26<00:07, 12.36it/s]"
          ]
        },
        {
          "output_type": "stream",
          "name": "stdout",
          "text": [
            "SummaCZS Score for prediction 246: 0.84863\n",
            "SummaCConv Score for prediction 246: 0.76738\n",
            "SummaCZS Score for prediction 247: -0.04089\n",
            "SummaCConv Score for prediction 247: 0.91948\n",
            "SummaCZS Score for prediction 248: 0.10205\n",
            "SummaCConv Score for prediction 248: 0.59232\n"
          ]
        },
        {
          "output_type": "stream",
          "name": "stderr",
          "text": [
            "Processing predictions... (251/343):  73%|███████▎  | 251/343 [00:26<00:09,  9.30it/s]"
          ]
        },
        {
          "output_type": "stream",
          "name": "stdout",
          "text": [
            "SummaCZS Score for prediction 249: -0.40306\n",
            "SummaCConv Score for prediction 249: 0.76738\n",
            "SummaCZS Score for prediction 250: -0.29122\n",
            "SummaCConv Score for prediction 250: 0.22025\n",
            "SummaCZS Score for prediction 251: -0.07695\n",
            "SummaCConv Score for prediction 251: 0.76738\n"
          ]
        },
        {
          "output_type": "stream",
          "name": "stderr",
          "text": [
            "Processing predictions... (253/343):  74%|███████▍  | 253/343 [00:27<00:08, 10.37it/s]"
          ]
        },
        {
          "output_type": "stream",
          "name": "stdout",
          "text": [
            "SummaCZS Score for prediction 252: 0.85815\n",
            "SummaCConv Score for prediction 252: 0.76738\n",
            "SummaCZS Score for prediction 253: 0.20972\n",
            "SummaCConv Score for prediction 253: 0.22153\n"
          ]
        },
        {
          "output_type": "stream",
          "name": "stderr",
          "text": [
            "Processing predictions... (256/343):  75%|███████▍  | 256/343 [00:27<00:08,  9.88it/s]"
          ]
        },
        {
          "output_type": "stream",
          "name": "stdout",
          "text": [
            "SummaCZS Score for prediction 254: 0.74695\n",
            "SummaCConv Score for prediction 254: 0.91948\n",
            "SummaCZS Score for prediction 255: 0.61816\n",
            "SummaCConv Score for prediction 255: 0.52609\n",
            "SummaCZS Score for prediction 256: 0.38164\n",
            "SummaCConv Score for prediction 256: 0.91948\n"
          ]
        },
        {
          "output_type": "stream",
          "name": "stderr",
          "text": [
            "Processing predictions... (259/343):  76%|███████▌  | 259/343 [00:27<00:07, 11.31it/s]"
          ]
        },
        {
          "output_type": "stream",
          "name": "stdout",
          "text": [
            "SummaCZS Score for prediction 257: 0.90692\n",
            "SummaCConv Score for prediction 257: 0.59232\n",
            "SummaCZS Score for prediction 258: -0.00217\n",
            "SummaCConv Score for prediction 258: 0.86952\n",
            "SummaCZS Score for prediction 259: -0.62982\n",
            "SummaCConv Score for prediction 259: 0.20179\n"
          ]
        },
        {
          "output_type": "stream",
          "name": "stderr",
          "text": [
            "Processing predictions... (263/343):  77%|███████▋  | 263/343 [00:28<00:10,  7.46it/s]"
          ]
        },
        {
          "output_type": "stream",
          "name": "stdout",
          "text": [
            "SummaCZS Score for prediction 260: -0.00168\n",
            "SummaCConv Score for prediction 260: 0.60186\n",
            "SummaCZS Score for prediction 261: 0.22656\n",
            "SummaCConv Score for prediction 261: 0.55624\n",
            "SummaCZS Score for prediction 262: 0.07056\n",
            "SummaCConv Score for prediction 262: 0.22153\n",
            "SummaCZS Score for prediction 263: -0.00053\n",
            "SummaCConv Score for prediction 263: 0.34963\n"
          ]
        },
        {
          "output_type": "stream",
          "name": "stderr",
          "text": [
            "Processing predictions... (266/343):  78%|███████▊  | 266/343 [00:28<00:08,  8.89it/s]"
          ]
        },
        {
          "output_type": "stream",
          "name": "stdout",
          "text": [
            "SummaCZS Score for prediction 264: -0.02106\n",
            "SummaCConv Score for prediction 264: 0.40564\n",
            "SummaCZS Score for prediction 265: 0.96890\n",
            "SummaCConv Score for prediction 265: 0.86952\n",
            "SummaCZS Score for prediction 266: 0.92548\n",
            "SummaCConv Score for prediction 266: 0.59967\n"
          ]
        },
        {
          "output_type": "stream",
          "name": "stderr",
          "text": [
            "Processing predictions... (269/343):  78%|███████▊  | 269/343 [00:28<00:07, 10.40it/s]"
          ]
        },
        {
          "output_type": "stream",
          "name": "stdout",
          "text": [
            "SummaCZS Score for prediction 267: 0.50721\n",
            "SummaCConv Score for prediction 267: 0.59967\n",
            "SummaCZS Score for prediction 268: -0.03162\n",
            "SummaCConv Score for prediction 268: 0.21373\n",
            "SummaCZS Score for prediction 269: 0.13402\n",
            "SummaCConv Score for prediction 269: 0.59967\n"
          ]
        },
        {
          "output_type": "stream",
          "name": "stderr",
          "text": [
            "Processing predictions... (273/343):  80%|███████▉  | 273/343 [00:29<00:05, 12.30it/s]"
          ]
        },
        {
          "output_type": "stream",
          "name": "stdout",
          "text": [
            "SummaCZS Score for prediction 270: 0.78967\n",
            "SummaCConv Score for prediction 270: 0.59967\n",
            "SummaCZS Score for prediction 271: 0.64502\n",
            "SummaCConv Score for prediction 271: 0.55624\n",
            "SummaCZS Score for prediction 272: -0.12343\n",
            "SummaCConv Score for prediction 272: 0.86952\n",
            "SummaCZS Score for prediction 273: 0.80615\n",
            "SummaCConv Score for prediction 273: 0.59967\n"
          ]
        },
        {
          "output_type": "stream",
          "name": "stderr",
          "text": [
            "Processing predictions... (275/343):  80%|████████  | 275/343 [00:29<00:07,  9.57it/s]"
          ]
        },
        {
          "output_type": "stream",
          "name": "stdout",
          "text": [
            "SummaCZS Score for prediction 274: -0.17375\n",
            "SummaCConv Score for prediction 274: 0.31634\n",
            "SummaCZS Score for prediction 275: -0.04541\n",
            "SummaCConv Score for prediction 275: 0.20278\n"
          ]
        },
        {
          "output_type": "stream",
          "name": "stderr",
          "text": [
            "Processing predictions... (278/343):  81%|████████▏ | 279/343 [00:29<00:05, 11.75it/s]"
          ]
        },
        {
          "output_type": "stream",
          "name": "stdout",
          "text": [
            "SummaCZS Score for prediction 276: -0.05597\n",
            "SummaCConv Score for prediction 276: 0.22153\n",
            "SummaCZS Score for prediction 277: -0.06860\n",
            "SummaCConv Score for prediction 277: 0.22153\n",
            "SummaCZS Score for prediction 278: 0.00218\n",
            "SummaCConv Score for prediction 278: 0.22153\n",
            "SummaCZS Score for prediction 279: -0.85474\n",
            "SummaCConv Score for prediction 279: 0.21373\n"
          ]
        },
        {
          "output_type": "stream",
          "name": "stderr",
          "text": [
            "Processing predictions... (283/343):  83%|████████▎ | 283/343 [00:29<00:04, 14.18it/s]"
          ]
        },
        {
          "output_type": "stream",
          "name": "stdout",
          "text": [
            "SummaCZS Score for prediction 280: -0.23637\n",
            "SummaCConv Score for prediction 280: 0.60186\n",
            "SummaCZS Score for prediction 281: 0.33264\n",
            "SummaCConv Score for prediction 281: 0.22153\n",
            "SummaCZS Score for prediction 282: 0.91962\n",
            "SummaCConv Score for prediction 282: 0.76738\n",
            "SummaCZS Score for prediction 283: 0.06702\n",
            "SummaCConv Score for prediction 283: 0.22153\n"
          ]
        },
        {
          "output_type": "stream",
          "name": "stderr",
          "text": [
            "Processing predictions... (286/343):  83%|████████▎ | 286/343 [00:30<00:04, 13.69it/s]"
          ]
        },
        {
          "output_type": "stream",
          "name": "stdout",
          "text": [
            "SummaCZS Score for prediction 284: 0.23438\n",
            "SummaCConv Score for prediction 284: 0.22153\n",
            "SummaCZS Score for prediction 285: 0.79492\n",
            "SummaCConv Score for prediction 285: 0.76738\n",
            "SummaCZS Score for prediction 286: 0.00574\n",
            "SummaCConv Score for prediction 286: 0.35291\n"
          ]
        },
        {
          "output_type": "stream",
          "name": "stderr",
          "text": [
            "Processing predictions... (288/343):  84%|████████▍ | 288/343 [00:30<00:04, 13.67it/s]"
          ]
        },
        {
          "output_type": "stream",
          "name": "stdout",
          "text": [
            "SummaCZS Score for prediction 287: 0.95895\n",
            "SummaCConv Score for prediction 287: 0.76738\n",
            "SummaCZS Score for prediction 288: 0.01334\n",
            "SummaCConv Score for prediction 288: 0.22025\n"
          ]
        },
        {
          "output_type": "stream",
          "name": "stderr",
          "text": [
            "Processing predictions... (291/343):  85%|████████▍ | 291/343 [00:30<00:04, 11.97it/s]"
          ]
        },
        {
          "output_type": "stream",
          "name": "stdout",
          "text": [
            "SummaCZS Score for prediction 289: 0.82117\n",
            "SummaCConv Score for prediction 289: 0.76738\n",
            "SummaCZS Score for prediction 290: -0.02715\n",
            "SummaCConv Score for prediction 290: 0.22153\n",
            "SummaCZS Score for prediction 291: 0.67114\n",
            "SummaCConv Score for prediction 291: 0.60186\n"
          ]
        },
        {
          "output_type": "stream",
          "name": "stderr",
          "text": [
            "Processing predictions... (294/343):  86%|████████▌ | 294/343 [00:30<00:04, 12.09it/s]"
          ]
        },
        {
          "output_type": "stream",
          "name": "stdout",
          "text": [
            "SummaCZS Score for prediction 292: 0.80139\n",
            "SummaCConv Score for prediction 292: 0.55624\n",
            "SummaCZS Score for prediction 293: 0.10596\n",
            "SummaCConv Score for prediction 293: 0.34963\n",
            "SummaCZS Score for prediction 294: 0.93764\n",
            "SummaCConv Score for prediction 294: 0.40564\n"
          ]
        },
        {
          "output_type": "stream",
          "name": "stderr",
          "text": [
            "Processing predictions... (297/343):  87%|████████▋ | 297/343 [00:31<00:04, 10.58it/s]"
          ]
        },
        {
          "output_type": "stream",
          "name": "stdout",
          "text": [
            "SummaCZS Score for prediction 295: 0.15132\n",
            "SummaCConv Score for prediction 295: 0.91948\n",
            "SummaCZS Score for prediction 296: 0.27969\n",
            "SummaCConv Score for prediction 296: 0.22153\n",
            "SummaCZS Score for prediction 297: 0.00000\n",
            "SummaCConv Score for prediction 297: 0.22153\n"
          ]
        },
        {
          "output_type": "stream",
          "name": "stderr",
          "text": [
            "Processing predictions... (299/343):  87%|████████▋ | 299/343 [00:31<00:04, 10.39it/s]"
          ]
        },
        {
          "output_type": "stream",
          "name": "stdout",
          "text": [
            "SummaCZS Score for prediction 298: 0.90388\n",
            "SummaCConv Score for prediction 298: 0.86952\n",
            "SummaCZS Score for prediction 299: 0.61084\n",
            "SummaCConv Score for prediction 299: 0.22153\n"
          ]
        },
        {
          "output_type": "stream",
          "name": "stderr",
          "text": [
            "Processing predictions... (302/343):  88%|████████▊ | 302/343 [00:31<00:04,  8.89it/s]"
          ]
        },
        {
          "output_type": "stream",
          "name": "stdout",
          "text": [
            "SummaCZS Score for prediction 300: 0.41112\n",
            "SummaCConv Score for prediction 300: 0.86952\n",
            "SummaCZS Score for prediction 301: -0.51746\n",
            "SummaCConv Score for prediction 301: 0.40564\n",
            "SummaCZS Score for prediction 302: 0.93267\n",
            "SummaCConv Score for prediction 302: 0.40564\n"
          ]
        },
        {
          "output_type": "stream",
          "name": "stderr",
          "text": [
            "Processing predictions... (304/343):  89%|████████▊ | 304/343 [00:32<00:04,  9.70it/s]"
          ]
        },
        {
          "output_type": "stream",
          "name": "stdout",
          "text": [
            "SummaCZS Score for prediction 303: 0.70303\n",
            "SummaCConv Score for prediction 303: 0.22153\n",
            "SummaCZS Score for prediction 304: -0.13212\n",
            "SummaCConv Score for prediction 304: 0.22153\n"
          ]
        },
        {
          "output_type": "stream",
          "name": "stderr",
          "text": [
            "Processing predictions... (306/343):  89%|████████▉ | 306/343 [00:32<00:04,  9.17it/s]"
          ]
        },
        {
          "output_type": "stream",
          "name": "stdout",
          "text": [
            "SummaCZS Score for prediction 305: -0.00594\n",
            "SummaCConv Score for prediction 305: 0.40564\n",
            "SummaCZS Score for prediction 306: 0.88019\n",
            "SummaCConv Score for prediction 306: 0.31634\n"
          ]
        },
        {
          "output_type": "stream",
          "name": "stderr",
          "text": [
            "Processing predictions... (308/343):  90%|████████▉ | 308/343 [00:32<00:03,  8.78it/s]"
          ]
        },
        {
          "output_type": "stream",
          "name": "stdout",
          "text": [
            "SummaCZS Score for prediction 307: 0.19775\n",
            "SummaCConv Score for prediction 307: 0.22153\n",
            "SummaCZS Score for prediction 308: -0.59796\n",
            "SummaCConv Score for prediction 308: 0.59967\n"
          ]
        },
        {
          "output_type": "stream",
          "name": "stderr",
          "text": [
            "Processing predictions... (310/343):  90%|█████████ | 310/343 [00:32<00:04,  8.21it/s]"
          ]
        },
        {
          "output_type": "stream",
          "name": "stdout",
          "text": [
            "SummaCZS Score for prediction 309: 0.72729\n",
            "SummaCConv Score for prediction 309: 0.86952\n",
            "SummaCZS Score for prediction 310: 0.39445\n",
            "SummaCConv Score for prediction 310: 0.86952\n"
          ]
        },
        {
          "output_type": "stream",
          "name": "stderr",
          "text": [
            "Processing predictions... (313/343):  91%|█████████▏| 313/343 [00:33<00:02, 10.74it/s]"
          ]
        },
        {
          "output_type": "stream",
          "name": "stdout",
          "text": [
            "SummaCZS Score for prediction 311: 0.52848\n",
            "SummaCConv Score for prediction 311: 0.86952\n",
            "SummaCZS Score for prediction 312: 0.93085\n",
            "SummaCConv Score for prediction 312: 0.55624\n",
            "SummaCZS Score for prediction 313: -0.01849\n",
            "SummaCConv Score for prediction 313: 0.31634\n"
          ]
        },
        {
          "output_type": "stream",
          "name": "stderr",
          "text": [
            "Processing predictions... (316/343):  92%|█████████▏| 316/343 [00:33<00:03,  7.45it/s]"
          ]
        },
        {
          "output_type": "stream",
          "name": "stdout",
          "text": [
            "SummaCZS Score for prediction 314: 0.14162\n",
            "SummaCConv Score for prediction 314: 0.60186\n",
            "SummaCZS Score for prediction 315: 0.76514\n",
            "SummaCConv Score for prediction 315: 0.40564\n",
            "SummaCZS Score for prediction 316: 0.96804\n",
            "SummaCConv Score for prediction 316: 0.46412\n"
          ]
        },
        {
          "output_type": "stream",
          "name": "stderr",
          "text": [
            "Processing predictions... (318/343):  93%|█████████▎| 318/343 [00:33<00:02,  8.72it/s]"
          ]
        },
        {
          "output_type": "stream",
          "name": "stdout",
          "text": [
            "SummaCZS Score for prediction 317: -0.00919\n",
            "SummaCConv Score for prediction 317: 0.34963\n",
            "SummaCZS Score for prediction 318: -0.02221\n",
            "SummaCConv Score for prediction 318: 0.76738\n"
          ]
        },
        {
          "output_type": "stream",
          "name": "stderr",
          "text": [
            "Processing predictions... (321/343):  94%|█████████▎| 321/343 [00:34<00:02,  9.22it/s]"
          ]
        },
        {
          "output_type": "stream",
          "name": "stdout",
          "text": [
            "SummaCZS Score for prediction 319: 0.88916\n",
            "SummaCConv Score for prediction 319: 0.55624\n",
            "SummaCZS Score for prediction 320: -0.97784\n",
            "SummaCConv Score for prediction 320: 0.59967\n",
            "SummaCZS Score for prediction 321: -0.22424\n",
            "SummaCConv Score for prediction 321: 0.21373\n"
          ]
        },
        {
          "output_type": "stream",
          "name": "stderr",
          "text": [
            "Processing predictions... (323/343):  94%|█████████▍| 323/343 [00:34<00:02,  9.08it/s]"
          ]
        },
        {
          "output_type": "stream",
          "name": "stdout",
          "text": [
            "SummaCZS Score for prediction 322: 0.28133\n",
            "SummaCConv Score for prediction 322: 0.21373\n",
            "SummaCZS Score for prediction 323: -0.49298\n",
            "SummaCConv Score for prediction 323: 0.52609\n"
          ]
        },
        {
          "output_type": "stream",
          "name": "stderr",
          "text": [
            "Processing predictions... (327/343):  95%|█████████▌| 327/343 [00:34<00:01,  9.80it/s]"
          ]
        },
        {
          "output_type": "stream",
          "name": "stdout",
          "text": [
            "SummaCZS Score for prediction 324: 0.56734\n",
            "SummaCConv Score for prediction 324: 0.52609\n",
            "SummaCZS Score for prediction 325: 0.40283\n",
            "SummaCConv Score for prediction 325: 0.22153\n",
            "SummaCZS Score for prediction 326: -0.27835\n",
            "SummaCConv Score for prediction 326: 0.86952\n",
            "SummaCZS Score for prediction 327: 0.96770\n",
            "SummaCConv Score for prediction 327: 0.52609\n"
          ]
        },
        {
          "output_type": "stream",
          "name": "stderr",
          "text": [
            "Processing predictions... (331/343):  97%|█████████▋| 331/343 [00:34<00:00, 12.47it/s]"
          ]
        },
        {
          "output_type": "stream",
          "name": "stdout",
          "text": [
            "SummaCZS Score for prediction 328: 0.08728\n",
            "SummaCConv Score for prediction 328: 0.52609\n",
            "SummaCZS Score for prediction 329: -0.03241\n",
            "SummaCConv Score for prediction 329: 0.22153\n",
            "SummaCZS Score for prediction 330: 0.93090\n",
            "SummaCConv Score for prediction 330: 0.26973\n",
            "SummaCZS Score for prediction 331: 0.25244\n",
            "SummaCConv Score for prediction 331: 0.22153\n"
          ]
        },
        {
          "output_type": "stream",
          "name": "stderr",
          "text": [
            "Processing predictions... (333/343):  97%|█████████▋| 333/343 [00:36<00:02,  4.59it/s]"
          ]
        },
        {
          "output_type": "stream",
          "name": "stdout",
          "text": [
            "SummaCZS Score for prediction 332: 0.16514\n",
            "SummaCConv Score for prediction 332: 0.86952\n",
            "SummaCZS Score for prediction 333: -0.86269\n",
            "SummaCConv Score for prediction 333: 0.60186\n"
          ]
        },
        {
          "output_type": "stream",
          "name": "stderr",
          "text": [
            "Processing predictions... (336/343):  98%|█████████▊| 336/343 [00:36<00:01,  5.92it/s]"
          ]
        },
        {
          "output_type": "stream",
          "name": "stdout",
          "text": [
            "SummaCZS Score for prediction 334: 0.82214\n",
            "SummaCConv Score for prediction 334: 0.59232\n",
            "SummaCZS Score for prediction 335: -0.01080\n",
            "SummaCConv Score for prediction 335: 0.22025\n",
            "SummaCZS Score for prediction 336: -0.06845\n",
            "SummaCConv Score for prediction 336: 0.59967\n"
          ]
        },
        {
          "output_type": "stream",
          "name": "stderr",
          "text": [
            "Processing predictions... (339/343):  99%|█████████▉| 339/343 [00:36<00:00,  7.47it/s]"
          ]
        },
        {
          "output_type": "stream",
          "name": "stdout",
          "text": [
            "SummaCZS Score for prediction 337: -0.02375\n",
            "SummaCConv Score for prediction 337: 0.86952\n",
            "SummaCZS Score for prediction 338: 0.48438\n",
            "SummaCConv Score for prediction 338: 0.76738\n",
            "SummaCZS Score for prediction 339: 0.43598\n",
            "SummaCConv Score for prediction 339: 0.22153\n"
          ]
        },
        {
          "output_type": "stream",
          "name": "stderr",
          "text": [
            "Processing predictions... (342/343): 100%|█████████▉| 342/343 [00:36<00:00,  8.68it/s]"
          ]
        },
        {
          "output_type": "stream",
          "name": "stdout",
          "text": [
            "SummaCZS Score for prediction 340: -0.48254\n",
            "SummaCConv Score for prediction 340: 0.22153\n",
            "SummaCZS Score for prediction 341: 0.95959\n",
            "SummaCConv Score for prediction 341: 0.76738\n",
            "SummaCZS Score for prediction 342: -0.40774\n",
            "SummaCConv Score for prediction 342: 0.22153\n"
          ]
        },
        {
          "output_type": "stream",
          "name": "stderr",
          "text": [
            "Processing predictions... (343/343): 100%|██████████| 343/343 [00:36<00:00,  9.27it/s]"
          ]
        },
        {
          "output_type": "stream",
          "name": "stdout",
          "text": [
            "SummaCZS Score for prediction 343: -0.00743\n",
            "SummaCConv Score for prediction 343: 0.36450\n",
            "Average SummaCZS Score: 0.28194; Average SummacConv score: 0.46748\n"
          ]
        },
        {
          "output_type": "stream",
          "name": "stderr",
          "text": [
            "\n"
          ]
        }
      ]
    }
  ],
  "metadata": {
    "accelerator": "GPU",
    "colab": {
      "gpuType": "T4",
      "provenance": []
    },
    "kernelspec": {
      "display_name": "Python 3",
      "name": "python3"
    },
    "language_info": {
      "name": "python"
    },
    "widgets": {
      "application/vnd.jupyter.widget-state+json": {
        "01595dde72454fd1b905261a39611b13": {
          "model_module": "@jupyter-widgets/base",
          "model_module_version": "1.2.0",
          "model_name": "LayoutModel",
          "state": {
            "_model_module": "@jupyter-widgets/base",
            "_model_module_version": "1.2.0",
            "_model_name": "LayoutModel",
            "_view_count": null,
            "_view_module": "@jupyter-widgets/base",
            "_view_module_version": "1.2.0",
            "_view_name": "LayoutView",
            "align_content": null,
            "align_items": null,
            "align_self": null,
            "border": null,
            "bottom": null,
            "display": null,
            "flex": null,
            "flex_flow": null,
            "grid_area": null,
            "grid_auto_columns": null,
            "grid_auto_flow": null,
            "grid_auto_rows": null,
            "grid_column": null,
            "grid_gap": null,
            "grid_row": null,
            "grid_template_areas": null,
            "grid_template_columns": null,
            "grid_template_rows": null,
            "height": null,
            "justify_content": null,
            "justify_items": null,
            "left": null,
            "margin": null,
            "max_height": null,
            "max_width": null,
            "min_height": null,
            "min_width": null,
            "object_fit": null,
            "object_position": null,
            "order": null,
            "overflow": null,
            "overflow_x": null,
            "overflow_y": null,
            "padding": null,
            "right": null,
            "top": null,
            "visibility": null,
            "width": null
          }
        },
        "04c2f1f316c241b883ecc16043a58018": {
          "model_module": "@jupyter-widgets/base",
          "model_module_version": "1.2.0",
          "model_name": "LayoutModel",
          "state": {
            "_model_module": "@jupyter-widgets/base",
            "_model_module_version": "1.2.0",
            "_model_name": "LayoutModel",
            "_view_count": null,
            "_view_module": "@jupyter-widgets/base",
            "_view_module_version": "1.2.0",
            "_view_name": "LayoutView",
            "align_content": null,
            "align_items": null,
            "align_self": null,
            "border": null,
            "bottom": null,
            "display": null,
            "flex": null,
            "flex_flow": null,
            "grid_area": null,
            "grid_auto_columns": null,
            "grid_auto_flow": null,
            "grid_auto_rows": null,
            "grid_column": null,
            "grid_gap": null,
            "grid_row": null,
            "grid_template_areas": null,
            "grid_template_columns": null,
            "grid_template_rows": null,
            "height": null,
            "justify_content": null,
            "justify_items": null,
            "left": null,
            "margin": null,
            "max_height": null,
            "max_width": null,
            "min_height": null,
            "min_width": null,
            "object_fit": null,
            "object_position": null,
            "order": null,
            "overflow": null,
            "overflow_x": null,
            "overflow_y": null,
            "padding": null,
            "right": null,
            "top": null,
            "visibility": null,
            "width": null
          }
        },
        "08e93b2a4f55467b91c6916a0f17fecc": {
          "model_module": "@jupyter-widgets/controls",
          "model_module_version": "1.5.0",
          "model_name": "HTMLModel",
          "state": {
            "_dom_classes": [],
            "_model_module": "@jupyter-widgets/controls",
            "_model_module_version": "1.5.0",
            "_model_name": "HTMLModel",
            "_view_count": null,
            "_view_module": "@jupyter-widgets/controls",
            "_view_module_version": "1.5.0",
            "_view_name": "HTMLView",
            "description": "",
            "description_tooltip": null,
            "layout": "IPY_MODEL_01595dde72454fd1b905261a39611b13",
            "placeholder": "​",
            "style": "IPY_MODEL_12394e0c5f034287a62a6d39e4b4b8ec",
            "value": " 217/217 [00:00&lt;00:00, 12.5kB/s]"
          }
        },
        "0a7a002257df47ad827ee107f07a09cd": {
          "model_module": "@jupyter-widgets/base",
          "model_module_version": "1.2.0",
          "model_name": "LayoutModel",
          "state": {
            "_model_module": "@jupyter-widgets/base",
            "_model_module_version": "1.2.0",
            "_model_name": "LayoutModel",
            "_view_count": null,
            "_view_module": "@jupyter-widgets/base",
            "_view_module_version": "1.2.0",
            "_view_name": "LayoutView",
            "align_content": null,
            "align_items": null,
            "align_self": null,
            "border": null,
            "bottom": null,
            "display": null,
            "flex": null,
            "flex_flow": null,
            "grid_area": null,
            "grid_auto_columns": null,
            "grid_auto_flow": null,
            "grid_auto_rows": null,
            "grid_column": null,
            "grid_gap": null,
            "grid_row": null,
            "grid_template_areas": null,
            "grid_template_columns": null,
            "grid_template_rows": null,
            "height": null,
            "justify_content": null,
            "justify_items": null,
            "left": null,
            "margin": null,
            "max_height": null,
            "max_width": null,
            "min_height": null,
            "min_width": null,
            "object_fit": null,
            "object_position": null,
            "order": null,
            "overflow": null,
            "overflow_x": null,
            "overflow_y": null,
            "padding": null,
            "right": null,
            "top": null,
            "visibility": null,
            "width": null
          }
        },
        "0aa75af1fb9645eba11c86538d6361d2": {
          "model_module": "@jupyter-widgets/controls",
          "model_module_version": "1.5.0",
          "model_name": "HTMLModel",
          "state": {
            "_dom_classes": [],
            "_model_module": "@jupyter-widgets/controls",
            "_model_module_version": "1.5.0",
            "_model_name": "HTMLModel",
            "_view_count": null,
            "_view_module": "@jupyter-widgets/controls",
            "_view_module_version": "1.5.0",
            "_view_name": "HTMLView",
            "description": "",
            "description_tooltip": null,
            "layout": "IPY_MODEL_532677af3a6843349bdbe5b019386279",
            "placeholder": "​",
            "style": "IPY_MODEL_9e05a8e90ce64872803af8a1e5ba7213",
            "value": "Downloading tokenizer_config.json: 100%"
          }
        },
        "12394e0c5f034287a62a6d39e4b4b8ec": {
          "model_module": "@jupyter-widgets/controls",
          "model_module_version": "1.5.0",
          "model_name": "DescriptionStyleModel",
          "state": {
            "_model_module": "@jupyter-widgets/controls",
            "_model_module_version": "1.5.0",
            "_model_name": "DescriptionStyleModel",
            "_view_count": null,
            "_view_module": "@jupyter-widgets/base",
            "_view_module_version": "1.2.0",
            "_view_name": "StyleView",
            "description_width": ""
          }
        },
        "2aebb2cfd07641f7932e134e4f61b6ec": {
          "model_module": "@jupyter-widgets/base",
          "model_module_version": "1.2.0",
          "model_name": "LayoutModel",
          "state": {
            "_model_module": "@jupyter-widgets/base",
            "_model_module_version": "1.2.0",
            "_model_name": "LayoutModel",
            "_view_count": null,
            "_view_module": "@jupyter-widgets/base",
            "_view_module_version": "1.2.0",
            "_view_name": "LayoutView",
            "align_content": null,
            "align_items": null,
            "align_self": null,
            "border": null,
            "bottom": null,
            "display": null,
            "flex": null,
            "flex_flow": null,
            "grid_area": null,
            "grid_auto_columns": null,
            "grid_auto_flow": null,
            "grid_auto_rows": null,
            "grid_column": null,
            "grid_gap": null,
            "grid_row": null,
            "grid_template_areas": null,
            "grid_template_columns": null,
            "grid_template_rows": null,
            "height": null,
            "justify_content": null,
            "justify_items": null,
            "left": null,
            "margin": null,
            "max_height": null,
            "max_width": null,
            "min_height": null,
            "min_width": null,
            "object_fit": null,
            "object_position": null,
            "order": null,
            "overflow": null,
            "overflow_x": null,
            "overflow_y": null,
            "padding": null,
            "right": null,
            "top": null,
            "visibility": null,
            "width": null
          }
        },
        "30231c329c364dcbb0b52127db5fb75f": {
          "model_module": "@jupyter-widgets/base",
          "model_module_version": "1.2.0",
          "model_name": "LayoutModel",
          "state": {
            "_model_module": "@jupyter-widgets/base",
            "_model_module_version": "1.2.0",
            "_model_name": "LayoutModel",
            "_view_count": null,
            "_view_module": "@jupyter-widgets/base",
            "_view_module_version": "1.2.0",
            "_view_name": "LayoutView",
            "align_content": null,
            "align_items": null,
            "align_self": null,
            "border": null,
            "bottom": null,
            "display": null,
            "flex": null,
            "flex_flow": null,
            "grid_area": null,
            "grid_auto_columns": null,
            "grid_auto_flow": null,
            "grid_auto_rows": null,
            "grid_column": null,
            "grid_gap": null,
            "grid_row": null,
            "grid_template_areas": null,
            "grid_template_columns": null,
            "grid_template_rows": null,
            "height": null,
            "justify_content": null,
            "justify_items": null,
            "left": null,
            "margin": null,
            "max_height": null,
            "max_width": null,
            "min_height": null,
            "min_width": null,
            "object_fit": null,
            "object_position": null,
            "order": null,
            "overflow": null,
            "overflow_x": null,
            "overflow_y": null,
            "padding": null,
            "right": null,
            "top": null,
            "visibility": null,
            "width": null
          }
        },
        "32625591c6d0405892a3e747e6f0d22f": {
          "model_module": "@jupyter-widgets/controls",
          "model_module_version": "1.5.0",
          "model_name": "ProgressStyleModel",
          "state": {
            "_model_module": "@jupyter-widgets/controls",
            "_model_module_version": "1.5.0",
            "_model_name": "ProgressStyleModel",
            "_view_count": null,
            "_view_module": "@jupyter-widgets/base",
            "_view_module_version": "1.2.0",
            "_view_name": "StyleView",
            "bar_color": null,
            "description_width": ""
          }
        },
        "373ce6f7aa844bf885fa15d34db14fb0": {
          "model_module": "@jupyter-widgets/base",
          "model_module_version": "1.2.0",
          "model_name": "LayoutModel",
          "state": {
            "_model_module": "@jupyter-widgets/base",
            "_model_module_version": "1.2.0",
            "_model_name": "LayoutModel",
            "_view_count": null,
            "_view_module": "@jupyter-widgets/base",
            "_view_module_version": "1.2.0",
            "_view_name": "LayoutView",
            "align_content": null,
            "align_items": null,
            "align_self": null,
            "border": null,
            "bottom": null,
            "display": null,
            "flex": null,
            "flex_flow": null,
            "grid_area": null,
            "grid_auto_columns": null,
            "grid_auto_flow": null,
            "grid_auto_rows": null,
            "grid_column": null,
            "grid_gap": null,
            "grid_row": null,
            "grid_template_areas": null,
            "grid_template_columns": null,
            "grid_template_rows": null,
            "height": null,
            "justify_content": null,
            "justify_items": null,
            "left": null,
            "margin": null,
            "max_height": null,
            "max_width": null,
            "min_height": null,
            "min_width": null,
            "object_fit": null,
            "object_position": null,
            "order": null,
            "overflow": null,
            "overflow_x": null,
            "overflow_y": null,
            "padding": null,
            "right": null,
            "top": null,
            "visibility": null,
            "width": null
          }
        },
        "37c1be6e67fa4f19b884b1ff95f5f94b": {
          "model_module": "@jupyter-widgets/controls",
          "model_module_version": "1.5.0",
          "model_name": "DescriptionStyleModel",
          "state": {
            "_model_module": "@jupyter-widgets/controls",
            "_model_module_version": "1.5.0",
            "_model_name": "DescriptionStyleModel",
            "_view_count": null,
            "_view_module": "@jupyter-widgets/base",
            "_view_module_version": "1.2.0",
            "_view_name": "StyleView",
            "description_width": ""
          }
        },
        "4eb5e660847345978f558ee05a9b8555": {
          "model_module": "@jupyter-widgets/controls",
          "model_module_version": "1.5.0",
          "model_name": "HTMLModel",
          "state": {
            "_dom_classes": [],
            "_model_module": "@jupyter-widgets/controls",
            "_model_module_version": "1.5.0",
            "_model_name": "HTMLModel",
            "_view_count": null,
            "_view_module": "@jupyter-widgets/controls",
            "_view_module_version": "1.5.0",
            "_view_name": "HTMLView",
            "description": "",
            "description_tooltip": null,
            "layout": "IPY_MODEL_ab10f0dd33b847ffa01e912d77623940",
            "placeholder": "​",
            "style": "IPY_MODEL_fb74d51133854cb9bce062690ea43612",
            "value": " 156/156 [00:00&lt;00:00, 9.24kB/s]"
          }
        },
        "532677af3a6843349bdbe5b019386279": {
          "model_module": "@jupyter-widgets/base",
          "model_module_version": "1.2.0",
          "model_name": "LayoutModel",
          "state": {
            "_model_module": "@jupyter-widgets/base",
            "_model_module_version": "1.2.0",
            "_model_name": "LayoutModel",
            "_view_count": null,
            "_view_module": "@jupyter-widgets/base",
            "_view_module_version": "1.2.0",
            "_view_name": "LayoutView",
            "align_content": null,
            "align_items": null,
            "align_self": null,
            "border": null,
            "bottom": null,
            "display": null,
            "flex": null,
            "flex_flow": null,
            "grid_area": null,
            "grid_auto_columns": null,
            "grid_auto_flow": null,
            "grid_auto_rows": null,
            "grid_column": null,
            "grid_gap": null,
            "grid_row": null,
            "grid_template_areas": null,
            "grid_template_columns": null,
            "grid_template_rows": null,
            "height": null,
            "justify_content": null,
            "justify_items": null,
            "left": null,
            "margin": null,
            "max_height": null,
            "max_width": null,
            "min_height": null,
            "min_width": null,
            "object_fit": null,
            "object_position": null,
            "order": null,
            "overflow": null,
            "overflow_x": null,
            "overflow_y": null,
            "padding": null,
            "right": null,
            "top": null,
            "visibility": null,
            "width": null
          }
        },
        "59a026b6a8e04931b1884e30ac9f8440": {
          "model_module": "@jupyter-widgets/controls",
          "model_module_version": "1.5.0",
          "model_name": "DescriptionStyleModel",
          "state": {
            "_model_module": "@jupyter-widgets/controls",
            "_model_module_version": "1.5.0",
            "_model_name": "DescriptionStyleModel",
            "_view_count": null,
            "_view_module": "@jupyter-widgets/base",
            "_view_module_version": "1.2.0",
            "_view_name": "StyleView",
            "description_width": ""
          }
        },
        "5cd62bdefeab4ce899812ec984a9bf9f": {
          "model_module": "@jupyter-widgets/controls",
          "model_module_version": "1.5.0",
          "model_name": "HBoxModel",
          "state": {
            "_dom_classes": [],
            "_model_module": "@jupyter-widgets/controls",
            "_model_module_version": "1.5.0",
            "_model_name": "HBoxModel",
            "_view_count": null,
            "_view_module": "@jupyter-widgets/controls",
            "_view_module_version": "1.5.0",
            "_view_name": "HBoxView",
            "box_style": "",
            "children": [
              "IPY_MODEL_0aa75af1fb9645eba11c86538d6361d2",
              "IPY_MODEL_7d9bbd8965d34c85ac9133a1ed11ac57",
              "IPY_MODEL_08e93b2a4f55467b91c6916a0f17fecc"
            ],
            "layout": "IPY_MODEL_d36b066c08074c20bd564e6e7af5370b"
          }
        },
        "63542c2b73694569a7d274b4a3519737": {
          "model_module": "@jupyter-widgets/controls",
          "model_module_version": "1.5.0",
          "model_name": "ProgressStyleModel",
          "state": {
            "_model_module": "@jupyter-widgets/controls",
            "_model_module_version": "1.5.0",
            "_model_name": "ProgressStyleModel",
            "_view_count": null,
            "_view_module": "@jupyter-widgets/base",
            "_view_module_version": "1.2.0",
            "_view_name": "StyleView",
            "bar_color": null,
            "description_width": ""
          }
        },
        "667bbd8ad3694ca7b52fd3bb71c0f794": {
          "model_module": "@jupyter-widgets/controls",
          "model_module_version": "1.5.0",
          "model_name": "HBoxModel",
          "state": {
            "_dom_classes": [],
            "_model_module": "@jupyter-widgets/controls",
            "_model_module_version": "1.5.0",
            "_model_name": "HBoxModel",
            "_view_count": null,
            "_view_module": "@jupyter-widgets/controls",
            "_view_module_version": "1.5.0",
            "_view_name": "HBoxView",
            "box_style": "",
            "children": [
              "IPY_MODEL_86115aa38cf44829b5c3fe1fb33824d3",
              "IPY_MODEL_acdc9feeac2a497cb9881b51e4898b63",
              "IPY_MODEL_cdee3f34068e40eebb5b7f3e3088e5e8"
            ],
            "layout": "IPY_MODEL_c13dca82d72c4c11804c72b766c5748d"
          }
        },
        "694b157872064edaa50bab7d77bdc81e": {
          "model_module": "@jupyter-widgets/base",
          "model_module_version": "1.2.0",
          "model_name": "LayoutModel",
          "state": {
            "_model_module": "@jupyter-widgets/base",
            "_model_module_version": "1.2.0",
            "_model_name": "LayoutModel",
            "_view_count": null,
            "_view_module": "@jupyter-widgets/base",
            "_view_module_version": "1.2.0",
            "_view_name": "LayoutView",
            "align_content": null,
            "align_items": null,
            "align_self": null,
            "border": null,
            "bottom": null,
            "display": null,
            "flex": null,
            "flex_flow": null,
            "grid_area": null,
            "grid_auto_columns": null,
            "grid_auto_flow": null,
            "grid_auto_rows": null,
            "grid_column": null,
            "grid_gap": null,
            "grid_row": null,
            "grid_template_areas": null,
            "grid_template_columns": null,
            "grid_template_rows": null,
            "height": null,
            "justify_content": null,
            "justify_items": null,
            "left": null,
            "margin": null,
            "max_height": null,
            "max_width": null,
            "min_height": null,
            "min_width": null,
            "object_fit": null,
            "object_position": null,
            "order": null,
            "overflow": null,
            "overflow_x": null,
            "overflow_y": null,
            "padding": null,
            "right": null,
            "top": null,
            "visibility": null,
            "width": null
          }
        },
        "6d256fbbd9a14cbda19582582cd474e2": {
          "model_module": "@jupyter-widgets/controls",
          "model_module_version": "1.5.0",
          "model_name": "HBoxModel",
          "state": {
            "_dom_classes": [],
            "_model_module": "@jupyter-widgets/controls",
            "_model_module_version": "1.5.0",
            "_model_name": "HBoxModel",
            "_view_count": null,
            "_view_module": "@jupyter-widgets/controls",
            "_view_module_version": "1.5.0",
            "_view_name": "HBoxView",
            "box_style": "",
            "children": [
              "IPY_MODEL_9d1d28506f0c4935a715ca0853483845",
              "IPY_MODEL_c8d34200cb14410cbf0183eb9039a91f",
              "IPY_MODEL_4eb5e660847345978f558ee05a9b8555"
            ],
            "layout": "IPY_MODEL_bde10655d7884963b5c6c3e46b8d152b"
          }
        },
        "727dfa15cd2a44089ccc55857716c695": {
          "model_module": "@jupyter-widgets/base",
          "model_module_version": "1.2.0",
          "model_name": "LayoutModel",
          "state": {
            "_model_module": "@jupyter-widgets/base",
            "_model_module_version": "1.2.0",
            "_model_name": "LayoutModel",
            "_view_count": null,
            "_view_module": "@jupyter-widgets/base",
            "_view_module_version": "1.2.0",
            "_view_name": "LayoutView",
            "align_content": null,
            "align_items": null,
            "align_self": null,
            "border": null,
            "bottom": null,
            "display": null,
            "flex": null,
            "flex_flow": null,
            "grid_area": null,
            "grid_auto_columns": null,
            "grid_auto_flow": null,
            "grid_auto_rows": null,
            "grid_column": null,
            "grid_gap": null,
            "grid_row": null,
            "grid_template_areas": null,
            "grid_template_columns": null,
            "grid_template_rows": null,
            "height": null,
            "justify_content": null,
            "justify_items": null,
            "left": null,
            "margin": null,
            "max_height": null,
            "max_width": null,
            "min_height": null,
            "min_width": null,
            "object_fit": null,
            "object_position": null,
            "order": null,
            "overflow": null,
            "overflow_x": null,
            "overflow_y": null,
            "padding": null,
            "right": null,
            "top": null,
            "visibility": null,
            "width": null
          }
        },
        "739b53e61e214656a6a761cd9a423b8c": {
          "model_module": "@jupyter-widgets/controls",
          "model_module_version": "1.5.0",
          "model_name": "DescriptionStyleModel",
          "state": {
            "_model_module": "@jupyter-widgets/controls",
            "_model_module_version": "1.5.0",
            "_model_name": "DescriptionStyleModel",
            "_view_count": null,
            "_view_module": "@jupyter-widgets/base",
            "_view_module_version": "1.2.0",
            "_view_name": "StyleView",
            "description_width": ""
          }
        },
        "7d1458fa7bba41dd9fa9e11dd8185e74": {
          "model_module": "@jupyter-widgets/controls",
          "model_module_version": "1.5.0",
          "model_name": "ProgressStyleModel",
          "state": {
            "_model_module": "@jupyter-widgets/controls",
            "_model_module_version": "1.5.0",
            "_model_name": "ProgressStyleModel",
            "_view_count": null,
            "_view_module": "@jupyter-widgets/base",
            "_view_module_version": "1.2.0",
            "_view_name": "StyleView",
            "bar_color": null,
            "description_width": ""
          }
        },
        "7d85b038f77f4d8bad915e96ed700ab7": {
          "model_module": "@jupyter-widgets/controls",
          "model_module_version": "1.5.0",
          "model_name": "ProgressStyleModel",
          "state": {
            "_model_module": "@jupyter-widgets/controls",
            "_model_module_version": "1.5.0",
            "_model_name": "ProgressStyleModel",
            "_view_count": null,
            "_view_module": "@jupyter-widgets/base",
            "_view_module_version": "1.2.0",
            "_view_name": "StyleView",
            "bar_color": null,
            "description_width": ""
          }
        },
        "7d9bbd8965d34c85ac9133a1ed11ac57": {
          "model_module": "@jupyter-widgets/controls",
          "model_module_version": "1.5.0",
          "model_name": "FloatProgressModel",
          "state": {
            "_dom_classes": [],
            "_model_module": "@jupyter-widgets/controls",
            "_model_module_version": "1.5.0",
            "_model_name": "FloatProgressModel",
            "_view_count": null,
            "_view_module": "@jupyter-widgets/controls",
            "_view_module_version": "1.5.0",
            "_view_name": "ProgressView",
            "bar_style": "success",
            "description": "",
            "description_tooltip": null,
            "layout": "IPY_MODEL_373ce6f7aa844bf885fa15d34db14fb0",
            "max": 217,
            "min": 0,
            "orientation": "horizontal",
            "style": "IPY_MODEL_63542c2b73694569a7d274b4a3519737",
            "value": 217
          }
        },
        "86115aa38cf44829b5c3fe1fb33824d3": {
          "model_module": "@jupyter-widgets/controls",
          "model_module_version": "1.5.0",
          "model_name": "HTMLModel",
          "state": {
            "_dom_classes": [],
            "_model_module": "@jupyter-widgets/controls",
            "_model_module_version": "1.5.0",
            "_model_name": "HTMLModel",
            "_view_count": null,
            "_view_module": "@jupyter-widgets/controls",
            "_view_module_version": "1.5.0",
            "_view_name": "HTMLView",
            "description": "",
            "description_tooltip": null,
            "layout": "IPY_MODEL_727dfa15cd2a44089ccc55857716c695",
            "placeholder": "​",
            "style": "IPY_MODEL_932fbe4eca54460f8b5daeabb34dcee3",
            "value": "Downloading spiece.model: 100%"
          }
        },
        "87e4a5f1e69c46968d999141f7cde4c2": {
          "model_module": "@jupyter-widgets/base",
          "model_module_version": "1.2.0",
          "model_name": "LayoutModel",
          "state": {
            "_model_module": "@jupyter-widgets/base",
            "_model_module_version": "1.2.0",
            "_model_name": "LayoutModel",
            "_view_count": null,
            "_view_module": "@jupyter-widgets/base",
            "_view_module_version": "1.2.0",
            "_view_name": "LayoutView",
            "align_content": null,
            "align_items": null,
            "align_self": null,
            "border": null,
            "bottom": null,
            "display": null,
            "flex": null,
            "flex_flow": null,
            "grid_area": null,
            "grid_auto_columns": null,
            "grid_auto_flow": null,
            "grid_auto_rows": null,
            "grid_column": null,
            "grid_gap": null,
            "grid_row": null,
            "grid_template_areas": null,
            "grid_template_columns": null,
            "grid_template_rows": null,
            "height": null,
            "justify_content": null,
            "justify_items": null,
            "left": null,
            "margin": null,
            "max_height": null,
            "max_width": null,
            "min_height": null,
            "min_width": null,
            "object_fit": null,
            "object_position": null,
            "order": null,
            "overflow": null,
            "overflow_x": null,
            "overflow_y": null,
            "padding": null,
            "right": null,
            "top": null,
            "visibility": null,
            "width": null
          }
        },
        "932fbe4eca54460f8b5daeabb34dcee3": {
          "model_module": "@jupyter-widgets/controls",
          "model_module_version": "1.5.0",
          "model_name": "DescriptionStyleModel",
          "state": {
            "_model_module": "@jupyter-widgets/controls",
            "_model_module_version": "1.5.0",
            "_model_name": "DescriptionStyleModel",
            "_view_count": null,
            "_view_module": "@jupyter-widgets/base",
            "_view_module_version": "1.2.0",
            "_view_name": "StyleView",
            "description_width": ""
          }
        },
        "9d1d28506f0c4935a715ca0853483845": {
          "model_module": "@jupyter-widgets/controls",
          "model_module_version": "1.5.0",
          "model_name": "HTMLModel",
          "state": {
            "_dom_classes": [],
            "_model_module": "@jupyter-widgets/controls",
            "_model_module_version": "1.5.0",
            "_model_name": "HTMLModel",
            "_view_count": null,
            "_view_module": "@jupyter-widgets/controls",
            "_view_module_version": "1.5.0",
            "_view_name": "HTMLView",
            "description": "",
            "description_tooltip": null,
            "layout": "IPY_MODEL_ea3f19f46d7b4103bfaa1f05781282de",
            "placeholder": "​",
            "style": "IPY_MODEL_9f3bceb5b82546598dfd05e7bb05a252",
            "value": "Downloading (…)cial_tokens_map.json: 100%"
          }
        },
        "9e05a8e90ce64872803af8a1e5ba7213": {
          "model_module": "@jupyter-widgets/controls",
          "model_module_version": "1.5.0",
          "model_name": "DescriptionStyleModel",
          "state": {
            "_model_module": "@jupyter-widgets/controls",
            "_model_module_version": "1.5.0",
            "_model_name": "DescriptionStyleModel",
            "_view_count": null,
            "_view_module": "@jupyter-widgets/base",
            "_view_module_version": "1.2.0",
            "_view_name": "StyleView",
            "description_width": ""
          }
        },
        "9f3bceb5b82546598dfd05e7bb05a252": {
          "model_module": "@jupyter-widgets/controls",
          "model_module_version": "1.5.0",
          "model_name": "DescriptionStyleModel",
          "state": {
            "_model_module": "@jupyter-widgets/controls",
            "_model_module_version": "1.5.0",
            "_model_name": "DescriptionStyleModel",
            "_view_count": null,
            "_view_module": "@jupyter-widgets/base",
            "_view_module_version": "1.2.0",
            "_view_name": "StyleView",
            "description_width": ""
          }
        },
        "a29b61be888540dabc85cc47581530ea": {
          "model_module": "@jupyter-widgets/base",
          "model_module_version": "1.2.0",
          "model_name": "LayoutModel",
          "state": {
            "_model_module": "@jupyter-widgets/base",
            "_model_module_version": "1.2.0",
            "_model_name": "LayoutModel",
            "_view_count": null,
            "_view_module": "@jupyter-widgets/base",
            "_view_module_version": "1.2.0",
            "_view_name": "LayoutView",
            "align_content": null,
            "align_items": null,
            "align_self": null,
            "border": null,
            "bottom": null,
            "display": null,
            "flex": null,
            "flex_flow": null,
            "grid_area": null,
            "grid_auto_columns": null,
            "grid_auto_flow": null,
            "grid_auto_rows": null,
            "grid_column": null,
            "grid_gap": null,
            "grid_row": null,
            "grid_template_areas": null,
            "grid_template_columns": null,
            "grid_template_rows": null,
            "height": null,
            "justify_content": null,
            "justify_items": null,
            "left": null,
            "margin": null,
            "max_height": null,
            "max_width": null,
            "min_height": null,
            "min_width": null,
            "object_fit": null,
            "object_position": null,
            "order": null,
            "overflow": null,
            "overflow_x": null,
            "overflow_y": null,
            "padding": null,
            "right": null,
            "top": null,
            "visibility": null,
            "width": null
          }
        },
        "ab10f0dd33b847ffa01e912d77623940": {
          "model_module": "@jupyter-widgets/base",
          "model_module_version": "1.2.0",
          "model_name": "LayoutModel",
          "state": {
            "_model_module": "@jupyter-widgets/base",
            "_model_module_version": "1.2.0",
            "_model_name": "LayoutModel",
            "_view_count": null,
            "_view_module": "@jupyter-widgets/base",
            "_view_module_version": "1.2.0",
            "_view_name": "LayoutView",
            "align_content": null,
            "align_items": null,
            "align_self": null,
            "border": null,
            "bottom": null,
            "display": null,
            "flex": null,
            "flex_flow": null,
            "grid_area": null,
            "grid_auto_columns": null,
            "grid_auto_flow": null,
            "grid_auto_rows": null,
            "grid_column": null,
            "grid_gap": null,
            "grid_row": null,
            "grid_template_areas": null,
            "grid_template_columns": null,
            "grid_template_rows": null,
            "height": null,
            "justify_content": null,
            "justify_items": null,
            "left": null,
            "margin": null,
            "max_height": null,
            "max_width": null,
            "min_height": null,
            "min_width": null,
            "object_fit": null,
            "object_position": null,
            "order": null,
            "overflow": null,
            "overflow_x": null,
            "overflow_y": null,
            "padding": null,
            "right": null,
            "top": null,
            "visibility": null,
            "width": null
          }
        },
        "ac629d778e574dd3af95f63abd0e4e3b": {
          "model_module": "@jupyter-widgets/base",
          "model_module_version": "1.2.0",
          "model_name": "LayoutModel",
          "state": {
            "_model_module": "@jupyter-widgets/base",
            "_model_module_version": "1.2.0",
            "_model_name": "LayoutModel",
            "_view_count": null,
            "_view_module": "@jupyter-widgets/base",
            "_view_module_version": "1.2.0",
            "_view_name": "LayoutView",
            "align_content": null,
            "align_items": null,
            "align_self": null,
            "border": null,
            "bottom": null,
            "display": null,
            "flex": null,
            "flex_flow": null,
            "grid_area": null,
            "grid_auto_columns": null,
            "grid_auto_flow": null,
            "grid_auto_rows": null,
            "grid_column": null,
            "grid_gap": null,
            "grid_row": null,
            "grid_template_areas": null,
            "grid_template_columns": null,
            "grid_template_rows": null,
            "height": null,
            "justify_content": null,
            "justify_items": null,
            "left": null,
            "margin": null,
            "max_height": null,
            "max_width": null,
            "min_height": null,
            "min_width": null,
            "object_fit": null,
            "object_position": null,
            "order": null,
            "overflow": null,
            "overflow_x": null,
            "overflow_y": null,
            "padding": null,
            "right": null,
            "top": null,
            "visibility": null,
            "width": null
          }
        },
        "acb95d35345f4d839af814dce47267e1": {
          "model_module": "@jupyter-widgets/controls",
          "model_module_version": "1.5.0",
          "model_name": "DescriptionStyleModel",
          "state": {
            "_model_module": "@jupyter-widgets/controls",
            "_model_module_version": "1.5.0",
            "_model_name": "DescriptionStyleModel",
            "_view_count": null,
            "_view_module": "@jupyter-widgets/base",
            "_view_module_version": "1.2.0",
            "_view_name": "StyleView",
            "description_width": ""
          }
        },
        "acdc9feeac2a497cb9881b51e4898b63": {
          "model_module": "@jupyter-widgets/controls",
          "model_module_version": "1.5.0",
          "model_name": "FloatProgressModel",
          "state": {
            "_dom_classes": [],
            "_model_module": "@jupyter-widgets/controls",
            "_model_module_version": "1.5.0",
            "_model_name": "FloatProgressModel",
            "_view_count": null,
            "_view_module": "@jupyter-widgets/controls",
            "_view_module_version": "1.5.0",
            "_view_name": "ProgressView",
            "bar_style": "success",
            "description": "",
            "description_tooltip": null,
            "layout": "IPY_MODEL_2aebb2cfd07641f7932e134e4f61b6ec",
            "max": 760289,
            "min": 0,
            "orientation": "horizontal",
            "style": "IPY_MODEL_7d85b038f77f4d8bad915e96ed700ab7",
            "value": 760289
          }
        },
        "bde10655d7884963b5c6c3e46b8d152b": {
          "model_module": "@jupyter-widgets/base",
          "model_module_version": "1.2.0",
          "model_name": "LayoutModel",
          "state": {
            "_model_module": "@jupyter-widgets/base",
            "_model_module_version": "1.2.0",
            "_model_name": "LayoutModel",
            "_view_count": null,
            "_view_module": "@jupyter-widgets/base",
            "_view_module_version": "1.2.0",
            "_view_name": "LayoutView",
            "align_content": null,
            "align_items": null,
            "align_self": null,
            "border": null,
            "bottom": null,
            "display": null,
            "flex": null,
            "flex_flow": null,
            "grid_area": null,
            "grid_auto_columns": null,
            "grid_auto_flow": null,
            "grid_auto_rows": null,
            "grid_column": null,
            "grid_gap": null,
            "grid_row": null,
            "grid_template_areas": null,
            "grid_template_columns": null,
            "grid_template_rows": null,
            "height": null,
            "justify_content": null,
            "justify_items": null,
            "left": null,
            "margin": null,
            "max_height": null,
            "max_width": null,
            "min_height": null,
            "min_width": null,
            "object_fit": null,
            "object_position": null,
            "order": null,
            "overflow": null,
            "overflow_x": null,
            "overflow_y": null,
            "padding": null,
            "right": null,
            "top": null,
            "visibility": null,
            "width": null
          }
        },
        "c097daf36b484a8bb6bf92483fa2eb77": {
          "model_module": "@jupyter-widgets/controls",
          "model_module_version": "1.5.0",
          "model_name": "HTMLModel",
          "state": {
            "_dom_classes": [],
            "_model_module": "@jupyter-widgets/controls",
            "_model_module_version": "1.5.0",
            "_model_name": "HTMLModel",
            "_view_count": null,
            "_view_module": "@jupyter-widgets/controls",
            "_view_module_version": "1.5.0",
            "_view_name": "HTMLView",
            "description": "",
            "description_tooltip": null,
            "layout": "IPY_MODEL_0a7a002257df47ad827ee107f07a09cd",
            "placeholder": "​",
            "style": "IPY_MODEL_739b53e61e214656a6a761cd9a423b8c",
            "value": " 1.09k/1.09k [00:00&lt;00:00, 63.0kB/s]"
          }
        },
        "c13dca82d72c4c11804c72b766c5748d": {
          "model_module": "@jupyter-widgets/base",
          "model_module_version": "1.2.0",
          "model_name": "LayoutModel",
          "state": {
            "_model_module": "@jupyter-widgets/base",
            "_model_module_version": "1.2.0",
            "_model_name": "LayoutModel",
            "_view_count": null,
            "_view_module": "@jupyter-widgets/base",
            "_view_module_version": "1.2.0",
            "_view_name": "LayoutView",
            "align_content": null,
            "align_items": null,
            "align_self": null,
            "border": null,
            "bottom": null,
            "display": null,
            "flex": null,
            "flex_flow": null,
            "grid_area": null,
            "grid_auto_columns": null,
            "grid_auto_flow": null,
            "grid_auto_rows": null,
            "grid_column": null,
            "grid_gap": null,
            "grid_row": null,
            "grid_template_areas": null,
            "grid_template_columns": null,
            "grid_template_rows": null,
            "height": null,
            "justify_content": null,
            "justify_items": null,
            "left": null,
            "margin": null,
            "max_height": null,
            "max_width": null,
            "min_height": null,
            "min_width": null,
            "object_fit": null,
            "object_position": null,
            "order": null,
            "overflow": null,
            "overflow_x": null,
            "overflow_y": null,
            "padding": null,
            "right": null,
            "top": null,
            "visibility": null,
            "width": null
          }
        },
        "c3881367881e4ecfa1a3963d4a2f4e68": {
          "model_module": "@jupyter-widgets/controls",
          "model_module_version": "1.5.0",
          "model_name": "FloatProgressModel",
          "state": {
            "_dom_classes": [],
            "_model_module": "@jupyter-widgets/controls",
            "_model_module_version": "1.5.0",
            "_model_name": "FloatProgressModel",
            "_view_count": null,
            "_view_module": "@jupyter-widgets/controls",
            "_view_module_version": "1.5.0",
            "_view_name": "ProgressView",
            "bar_style": "success",
            "description": "",
            "description_tooltip": null,
            "layout": "IPY_MODEL_daa55cd7224d4c4a8bf93a58dda6ba57",
            "max": 1090,
            "min": 0,
            "orientation": "horizontal",
            "style": "IPY_MODEL_32625591c6d0405892a3e747e6f0d22f",
            "value": 1090
          }
        },
        "c8d34200cb14410cbf0183eb9039a91f": {
          "model_module": "@jupyter-widgets/controls",
          "model_module_version": "1.5.0",
          "model_name": "FloatProgressModel",
          "state": {
            "_dom_classes": [],
            "_model_module": "@jupyter-widgets/controls",
            "_model_module_version": "1.5.0",
            "_model_name": "FloatProgressModel",
            "_view_count": null,
            "_view_module": "@jupyter-widgets/controls",
            "_view_module_version": "1.5.0",
            "_view_name": "ProgressView",
            "bar_style": "success",
            "description": "",
            "description_tooltip": null,
            "layout": "IPY_MODEL_694b157872064edaa50bab7d77bdc81e",
            "max": 156,
            "min": 0,
            "orientation": "horizontal",
            "style": "IPY_MODEL_dc57c7641b704bd19a8928364d5f0180",
            "value": 156
          }
        },
        "cdee3f34068e40eebb5b7f3e3088e5e8": {
          "model_module": "@jupyter-widgets/controls",
          "model_module_version": "1.5.0",
          "model_name": "HTMLModel",
          "state": {
            "_dom_classes": [],
            "_model_module": "@jupyter-widgets/controls",
            "_model_module_version": "1.5.0",
            "_model_name": "HTMLModel",
            "_view_count": null,
            "_view_module": "@jupyter-widgets/controls",
            "_view_module_version": "1.5.0",
            "_view_name": "HTMLView",
            "description": "",
            "description_tooltip": null,
            "layout": "IPY_MODEL_ac629d778e574dd3af95f63abd0e4e3b",
            "placeholder": "​",
            "style": "IPY_MODEL_59a026b6a8e04931b1884e30ac9f8440",
            "value": " 760k/760k [00:00&lt;00:00, 15.1MB/s]"
          }
        },
        "d0d16b73dea7403882c4c19085cccb76": {
          "model_module": "@jupyter-widgets/controls",
          "model_module_version": "1.5.0",
          "model_name": "DescriptionStyleModel",
          "state": {
            "_model_module": "@jupyter-widgets/controls",
            "_model_module_version": "1.5.0",
            "_model_name": "DescriptionStyleModel",
            "_view_count": null,
            "_view_module": "@jupyter-widgets/base",
            "_view_module_version": "1.2.0",
            "_view_name": "StyleView",
            "description_width": ""
          }
        },
        "d36b066c08074c20bd564e6e7af5370b": {
          "model_module": "@jupyter-widgets/base",
          "model_module_version": "1.2.0",
          "model_name": "LayoutModel",
          "state": {
            "_model_module": "@jupyter-widgets/base",
            "_model_module_version": "1.2.0",
            "_model_name": "LayoutModel",
            "_view_count": null,
            "_view_module": "@jupyter-widgets/base",
            "_view_module_version": "1.2.0",
            "_view_name": "LayoutView",
            "align_content": null,
            "align_items": null,
            "align_self": null,
            "border": null,
            "bottom": null,
            "display": null,
            "flex": null,
            "flex_flow": null,
            "grid_area": null,
            "grid_auto_columns": null,
            "grid_auto_flow": null,
            "grid_auto_rows": null,
            "grid_column": null,
            "grid_gap": null,
            "grid_row": null,
            "grid_template_areas": null,
            "grid_template_columns": null,
            "grid_template_rows": null,
            "height": null,
            "justify_content": null,
            "justify_items": null,
            "left": null,
            "margin": null,
            "max_height": null,
            "max_width": null,
            "min_height": null,
            "min_width": null,
            "object_fit": null,
            "object_position": null,
            "order": null,
            "overflow": null,
            "overflow_x": null,
            "overflow_y": null,
            "padding": null,
            "right": null,
            "top": null,
            "visibility": null,
            "width": null
          }
        },
        "d642ca56d035445083eceb8b375e03f8": {
          "model_module": "@jupyter-widgets/controls",
          "model_module_version": "1.5.0",
          "model_name": "HTMLModel",
          "state": {
            "_dom_classes": [],
            "_model_module": "@jupyter-widgets/controls",
            "_model_module_version": "1.5.0",
            "_model_name": "HTMLModel",
            "_view_count": null,
            "_view_module": "@jupyter-widgets/controls",
            "_view_module_version": "1.5.0",
            "_view_name": "HTMLView",
            "description": "",
            "description_tooltip": null,
            "layout": "IPY_MODEL_a29b61be888540dabc85cc47581530ea",
            "placeholder": "​",
            "style": "IPY_MODEL_37c1be6e67fa4f19b884b1ff95f5f94b",
            "value": "Downloading config.json: 100%"
          }
        },
        "d940669101da43428d520c802e5641b6": {
          "model_module": "@jupyter-widgets/controls",
          "model_module_version": "1.5.0",
          "model_name": "FloatProgressModel",
          "state": {
            "_dom_classes": [],
            "_model_module": "@jupyter-widgets/controls",
            "_model_module_version": "1.5.0",
            "_model_name": "FloatProgressModel",
            "_view_count": null,
            "_view_module": "@jupyter-widgets/controls",
            "_view_module_version": "1.5.0",
            "_view_name": "ProgressView",
            "bar_style": "success",
            "description": "",
            "description_tooltip": null,
            "layout": "IPY_MODEL_30231c329c364dcbb0b52127db5fb75f",
            "max": 234931704,
            "min": 0,
            "orientation": "horizontal",
            "style": "IPY_MODEL_7d1458fa7bba41dd9fa9e11dd8185e74",
            "value": 234931704
          }
        },
        "daa55cd7224d4c4a8bf93a58dda6ba57": {
          "model_module": "@jupyter-widgets/base",
          "model_module_version": "1.2.0",
          "model_name": "LayoutModel",
          "state": {
            "_model_module": "@jupyter-widgets/base",
            "_model_module_version": "1.2.0",
            "_model_name": "LayoutModel",
            "_view_count": null,
            "_view_module": "@jupyter-widgets/base",
            "_view_module_version": "1.2.0",
            "_view_name": "LayoutView",
            "align_content": null,
            "align_items": null,
            "align_self": null,
            "border": null,
            "bottom": null,
            "display": null,
            "flex": null,
            "flex_flow": null,
            "grid_area": null,
            "grid_auto_columns": null,
            "grid_auto_flow": null,
            "grid_auto_rows": null,
            "grid_column": null,
            "grid_gap": null,
            "grid_row": null,
            "grid_template_areas": null,
            "grid_template_columns": null,
            "grid_template_rows": null,
            "height": null,
            "justify_content": null,
            "justify_items": null,
            "left": null,
            "margin": null,
            "max_height": null,
            "max_width": null,
            "min_height": null,
            "min_width": null,
            "object_fit": null,
            "object_position": null,
            "order": null,
            "overflow": null,
            "overflow_x": null,
            "overflow_y": null,
            "padding": null,
            "right": null,
            "top": null,
            "visibility": null,
            "width": null
          }
        },
        "dc57c7641b704bd19a8928364d5f0180": {
          "model_module": "@jupyter-widgets/controls",
          "model_module_version": "1.5.0",
          "model_name": "ProgressStyleModel",
          "state": {
            "_model_module": "@jupyter-widgets/controls",
            "_model_module_version": "1.5.0",
            "_model_name": "ProgressStyleModel",
            "_view_count": null,
            "_view_module": "@jupyter-widgets/base",
            "_view_module_version": "1.2.0",
            "_view_name": "StyleView",
            "bar_color": null,
            "description_width": ""
          }
        },
        "dd93c0cead064ae68c6b0f6189cc12d8": {
          "model_module": "@jupyter-widgets/controls",
          "model_module_version": "1.5.0",
          "model_name": "HTMLModel",
          "state": {
            "_dom_classes": [],
            "_model_module": "@jupyter-widgets/controls",
            "_model_module_version": "1.5.0",
            "_model_name": "HTMLModel",
            "_view_count": null,
            "_view_module": "@jupyter-widgets/controls",
            "_view_module_version": "1.5.0",
            "_view_name": "HTMLView",
            "description": "",
            "description_tooltip": null,
            "layout": "IPY_MODEL_f3baceab28594228898075b15d805865",
            "placeholder": "​",
            "style": "IPY_MODEL_d0d16b73dea7403882c4c19085cccb76",
            "value": "Downloading model.safetensors: 100%"
          }
        },
        "df8494f00cbf46cf860a938a2fc18d05": {
          "model_module": "@jupyter-widgets/controls",
          "model_module_version": "1.5.0",
          "model_name": "HBoxModel",
          "state": {
            "_dom_classes": [],
            "_model_module": "@jupyter-widgets/controls",
            "_model_module_version": "1.5.0",
            "_model_name": "HBoxModel",
            "_view_count": null,
            "_view_module": "@jupyter-widgets/controls",
            "_view_module_version": "1.5.0",
            "_view_name": "HBoxView",
            "box_style": "",
            "children": [
              "IPY_MODEL_dd93c0cead064ae68c6b0f6189cc12d8",
              "IPY_MODEL_d940669101da43428d520c802e5641b6",
              "IPY_MODEL_f81a43d515a24a15aa60038137b3e839"
            ],
            "layout": "IPY_MODEL_04c2f1f316c241b883ecc16043a58018"
          }
        },
        "ea3f19f46d7b4103bfaa1f05781282de": {
          "model_module": "@jupyter-widgets/base",
          "model_module_version": "1.2.0",
          "model_name": "LayoutModel",
          "state": {
            "_model_module": "@jupyter-widgets/base",
            "_model_module_version": "1.2.0",
            "_model_name": "LayoutModel",
            "_view_count": null,
            "_view_module": "@jupyter-widgets/base",
            "_view_module_version": "1.2.0",
            "_view_name": "LayoutView",
            "align_content": null,
            "align_items": null,
            "align_self": null,
            "border": null,
            "bottom": null,
            "display": null,
            "flex": null,
            "flex_flow": null,
            "grid_area": null,
            "grid_auto_columns": null,
            "grid_auto_flow": null,
            "grid_auto_rows": null,
            "grid_column": null,
            "grid_gap": null,
            "grid_row": null,
            "grid_template_areas": null,
            "grid_template_columns": null,
            "grid_template_rows": null,
            "height": null,
            "justify_content": null,
            "justify_items": null,
            "left": null,
            "margin": null,
            "max_height": null,
            "max_width": null,
            "min_height": null,
            "min_width": null,
            "object_fit": null,
            "object_position": null,
            "order": null,
            "overflow": null,
            "overflow_x": null,
            "overflow_y": null,
            "padding": null,
            "right": null,
            "top": null,
            "visibility": null,
            "width": null
          }
        },
        "f3baceab28594228898075b15d805865": {
          "model_module": "@jupyter-widgets/base",
          "model_module_version": "1.2.0",
          "model_name": "LayoutModel",
          "state": {
            "_model_module": "@jupyter-widgets/base",
            "_model_module_version": "1.2.0",
            "_model_name": "LayoutModel",
            "_view_count": null,
            "_view_module": "@jupyter-widgets/base",
            "_view_module_version": "1.2.0",
            "_view_name": "LayoutView",
            "align_content": null,
            "align_items": null,
            "align_self": null,
            "border": null,
            "bottom": null,
            "display": null,
            "flex": null,
            "flex_flow": null,
            "grid_area": null,
            "grid_auto_columns": null,
            "grid_auto_flow": null,
            "grid_auto_rows": null,
            "grid_column": null,
            "grid_gap": null,
            "grid_row": null,
            "grid_template_areas": null,
            "grid_template_columns": null,
            "grid_template_rows": null,
            "height": null,
            "justify_content": null,
            "justify_items": null,
            "left": null,
            "margin": null,
            "max_height": null,
            "max_width": null,
            "min_height": null,
            "min_width": null,
            "object_fit": null,
            "object_position": null,
            "order": null,
            "overflow": null,
            "overflow_x": null,
            "overflow_y": null,
            "padding": null,
            "right": null,
            "top": null,
            "visibility": null,
            "width": null
          }
        },
        "f6c24e2ce8284c289502169b2934ba1e": {
          "model_module": "@jupyter-widgets/controls",
          "model_module_version": "1.5.0",
          "model_name": "HBoxModel",
          "state": {
            "_dom_classes": [],
            "_model_module": "@jupyter-widgets/controls",
            "_model_module_version": "1.5.0",
            "_model_name": "HBoxModel",
            "_view_count": null,
            "_view_module": "@jupyter-widgets/controls",
            "_view_module_version": "1.5.0",
            "_view_name": "HBoxView",
            "box_style": "",
            "children": [
              "IPY_MODEL_d642ca56d035445083eceb8b375e03f8",
              "IPY_MODEL_c3881367881e4ecfa1a3963d4a2f4e68",
              "IPY_MODEL_c097daf36b484a8bb6bf92483fa2eb77"
            ],
            "layout": "IPY_MODEL_fa1bda7631fd46dcb2ed465c6da2e49e"
          }
        },
        "f81a43d515a24a15aa60038137b3e839": {
          "model_module": "@jupyter-widgets/controls",
          "model_module_version": "1.5.0",
          "model_name": "HTMLModel",
          "state": {
            "_dom_classes": [],
            "_model_module": "@jupyter-widgets/controls",
            "_model_module_version": "1.5.0",
            "_model_name": "HTMLModel",
            "_view_count": null,
            "_view_module": "@jupyter-widgets/controls",
            "_view_module_version": "1.5.0",
            "_view_name": "HTMLView",
            "description": "",
            "description_tooltip": null,
            "layout": "IPY_MODEL_87e4a5f1e69c46968d999141f7cde4c2",
            "placeholder": "​",
            "style": "IPY_MODEL_acb95d35345f4d839af814dce47267e1",
            "value": " 235M/235M [00:01&lt;00:00, 165MB/s]"
          }
        },
        "fa1bda7631fd46dcb2ed465c6da2e49e": {
          "model_module": "@jupyter-widgets/base",
          "model_module_version": "1.2.0",
          "model_name": "LayoutModel",
          "state": {
            "_model_module": "@jupyter-widgets/base",
            "_model_module_version": "1.2.0",
            "_model_name": "LayoutModel",
            "_view_count": null,
            "_view_module": "@jupyter-widgets/base",
            "_view_module_version": "1.2.0",
            "_view_name": "LayoutView",
            "align_content": null,
            "align_items": null,
            "align_self": null,
            "border": null,
            "bottom": null,
            "display": null,
            "flex": null,
            "flex_flow": null,
            "grid_area": null,
            "grid_auto_columns": null,
            "grid_auto_flow": null,
            "grid_auto_rows": null,
            "grid_column": null,
            "grid_gap": null,
            "grid_row": null,
            "grid_template_areas": null,
            "grid_template_columns": null,
            "grid_template_rows": null,
            "height": null,
            "justify_content": null,
            "justify_items": null,
            "left": null,
            "margin": null,
            "max_height": null,
            "max_width": null,
            "min_height": null,
            "min_width": null,
            "object_fit": null,
            "object_position": null,
            "order": null,
            "overflow": null,
            "overflow_x": null,
            "overflow_y": null,
            "padding": null,
            "right": null,
            "top": null,
            "visibility": null,
            "width": null
          }
        },
        "fb74d51133854cb9bce062690ea43612": {
          "model_module": "@jupyter-widgets/controls",
          "model_module_version": "1.5.0",
          "model_name": "DescriptionStyleModel",
          "state": {
            "_model_module": "@jupyter-widgets/controls",
            "_model_module_version": "1.5.0",
            "_model_name": "DescriptionStyleModel",
            "_view_count": null,
            "_view_module": "@jupyter-widgets/base",
            "_view_module_version": "1.2.0",
            "_view_name": "StyleView",
            "description_width": ""
          }
        }
      }
    }
  },
  "nbformat": 4,
  "nbformat_minor": 0
}