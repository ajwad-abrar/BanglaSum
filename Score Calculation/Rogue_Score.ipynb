{
  "nbformat": 4,
  "nbformat_minor": 0,
  "metadata": {
    "colab": {
      "provenance": [],
      "gpuType": "T4"
    },
    "kernelspec": {
      "name": "python3",
      "display_name": "Python 3"
    },
    "language_info": {
      "name": "python"
    },
    "accelerator": "GPU"
  },
  "cells": [
    {
      "cell_type": "code",
      "execution_count": null,
      "metadata": {
        "colab": {
          "base_uri": "https://localhost:8080/"
        },
        "id": "O-_YMUegXR8d",
        "outputId": "8137a7a6-5859-4d25-b6ac-3004bd9bdc3f"
      },
      "outputs": [
        {
          "output_type": "stream",
          "name": "stdout",
          "text": [
            "Collecting rouge\n",
            "  Downloading rouge-1.0.1-py3-none-any.whl (13 kB)\n",
            "Requirement already satisfied: six in /usr/local/lib/python3.10/dist-packages (from rouge) (1.16.0)\n",
            "Installing collected packages: rouge\n",
            "Successfully installed rouge-1.0.1\n"
          ]
        }
      ],
      "source": [
        "!pip install rouge"
      ]
    },
    {
      "cell_type": "code",
      "source": [
        "import pandas as pd\n",
        "from rouge import Rouge\n",
        "\n",
        "# Load the CSV file\n",
        "df = pd.read_csv(\"output.csv\")\n",
        "\n",
        "# Extract the predictions and references columns\n",
        "predictions = df[\"ExtractedText\"].tolist()\n",
        "references = df[\"Summary\"].tolist()\n",
        "\n",
        "# Initialize the Rouge evaluator\n",
        "rouge = Rouge()\n",
        "\n",
        "# Compute the Rouge scores\n",
        "scores = rouge.get_scores(predictions, references, avg=True)\n",
        "\n",
        "# Print the scores\n",
        "print(scores)"
      ],
      "metadata": {
        "colab": {
          "base_uri": "https://localhost:8080/"
        },
        "id": "dAlZTqaSh-n9",
        "outputId": "6215182e-d8fb-44a3-ed23-e1901e5f421b"
      },
      "execution_count": null,
      "outputs": [
        {
          "output_type": "stream",
          "name": "stdout",
          "text": [
            "{'rouge-1': {'r': 0.3110780624308595, 'p': 0.18817669594914327, 'f': 0.21974710712808732}, 'rouge-2': {'r': 0.09343074443070633, 'p': 0.05535338460947738, 'f': 0.06476468105007886}, 'rouge-l': {'r': 0.2799927285278948, 'p': 0.1716708787691949, 'f': 0.19975702711504598}}\n"
          ]
        }
      ]
    },
    {
      "cell_type": "code",
      "source": [
        "import pandas as pd\n",
        "from rouge import Rouge\n",
        "\n",
        "# Load the CSV file\n",
        "df = pd.read_csv(\"output.csv\")\n",
        "\n",
        "# Extract the predictions and references columns\n",
        "predictions = df[\"ExtractedText\"].tolist()\n",
        "references = df[\"Summary\"].tolist()\n",
        "\n",
        "# Initialize the Rouge evaluator\n",
        "rouge = Rouge()\n",
        "\n",
        "# Compute the Rouge scores\n",
        "scores = rouge.get_scores(predictions, references, avg=True)\n",
        "\n",
        "# Extract only the F1-score from the scores dictionary\n",
        "f1_scores = {\n",
        "    'rouge-1': scores['rouge-1']['f'],\n",
        "    'rouge-2': scores['rouge-2']['f'],\n",
        "    'rouge-l': scores['rouge-l']['f']\n",
        "}\n",
        "\n",
        "# Print the F1-scores\n",
        "print(f1_scores)\n"
      ],
      "metadata": {
        "id": "4J8fNgn7Xo00",
        "colab": {
          "base_uri": "https://localhost:8080/"
        },
        "outputId": "cf89beb0-6863-4053-dc4a-aebb63bd398a"
      },
      "execution_count": null,
      "outputs": [
        {
          "output_type": "stream",
          "name": "stdout",
          "text": [
            "{'rouge-1': 0.21974710712808732, 'rouge-2': 0.06476468105007886, 'rouge-l': 0.19975702711504598}\n"
          ]
        }
      ]
    },
    {
      "cell_type": "code",
      "source": [
        "import pandas as pd\n",
        "from rouge import Rouge\n",
        "\n",
        "# Load the CSV file\n",
        "df = pd.read_csv(\"Bangla1.csv\")\n",
        "\n",
        "# Extract the predictions and references columns\n",
        "predictions = df[\"New\"].tolist()\n",
        "references = df[\"summary\"].tolist()\n",
        "\n",
        "# Initialize the Rouge evaluator\n",
        "rouge = Rouge()\n",
        "\n",
        "# Compute the Rouge scores\n",
        "scores = rouge.get_scores(predictions, references, avg=True)\n",
        "\n",
        "# Print the scores\n",
        "print(scores)"
      ],
      "metadata": {
        "id": "ypaVHqs0mfOY",
        "colab": {
          "base_uri": "https://localhost:8080/"
        },
        "outputId": "2f5154e7-fe79-4892-c2d0-6fe854809ee0"
      },
      "execution_count": null,
      "outputs": [
        {
          "output_type": "stream",
          "name": "stdout",
          "text": [
            "{'rouge-1': {'r': 0.14333333333333334, 'p': 0.3006854256854257, 'f': 0.19104387444137158}, 'rouge-2': {'r': 0.054334554334554336, 'p': 0.1761904761904762, 'f': 0.08211143437915891}, 'rouge-l': {'r': 0.14333333333333334, 'p': 0.3006854256854257, 'f': 0.19104387444137158}}\n"
          ]
        }
      ]
    }
  ]
}