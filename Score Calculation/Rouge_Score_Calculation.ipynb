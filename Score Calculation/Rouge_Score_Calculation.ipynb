{
  "nbformat": 4,
  "nbformat_minor": 0,
  "metadata": {
    "colab": {
      "provenance": []
    },
    "kernelspec": {
      "name": "python3",
      "display_name": "Python 3"
    },
    "language_info": {
      "name": "python"
    }
  },
  "cells": [
    {
      "cell_type": "code",
      "execution_count": 1,
      "metadata": {
        "colab": {
          "base_uri": "https://localhost:8080/"
        },
        "id": "dvMgY0CIniLD",
        "outputId": "c2e5e775-d7f9-4151-e846-b89723febe42"
      },
      "outputs": [
        {
          "output_type": "stream",
          "name": "stdout",
          "text": [
            "Collecting rouge-score\n",
            "  Downloading rouge_score-0.1.2.tar.gz (17 kB)\n",
            "  Preparing metadata (setup.py) ... \u001b[?25l\u001b[?25hdone\n",
            "Requirement already satisfied: absl-py in /usr/local/lib/python3.10/dist-packages (from rouge-score) (1.4.0)\n",
            "Requirement already satisfied: nltk in /usr/local/lib/python3.10/dist-packages (from rouge-score) (3.8.1)\n",
            "Requirement already satisfied: numpy in /usr/local/lib/python3.10/dist-packages (from rouge-score) (1.25.2)\n",
            "Requirement already satisfied: six>=1.14.0 in /usr/local/lib/python3.10/dist-packages (from rouge-score) (1.16.0)\n",
            "Requirement already satisfied: click in /usr/local/lib/python3.10/dist-packages (from nltk->rouge-score) (8.1.7)\n",
            "Requirement already satisfied: joblib in /usr/local/lib/python3.10/dist-packages (from nltk->rouge-score) (1.3.2)\n",
            "Requirement already satisfied: regex>=2021.8.3 in /usr/local/lib/python3.10/dist-packages (from nltk->rouge-score) (2023.12.25)\n",
            "Requirement already satisfied: tqdm in /usr/local/lib/python3.10/dist-packages (from nltk->rouge-score) (4.66.2)\n",
            "Building wheels for collected packages: rouge-score\n",
            "  Building wheel for rouge-score (setup.py) ... \u001b[?25l\u001b[?25hdone\n",
            "  Created wheel for rouge-score: filename=rouge_score-0.1.2-py3-none-any.whl size=24933 sha256=90a0cb512e8aab170cac039898dd1f704db787733a270bc79f2bffadf39976e5\n",
            "  Stored in directory: /root/.cache/pip/wheels/5f/dd/89/461065a73be61a532ff8599a28e9beef17985c9e9c31e541b4\n",
            "Successfully built rouge-score\n",
            "Installing collected packages: rouge-score\n",
            "Successfully installed rouge-score-0.1.2\n"
          ]
        }
      ],
      "source": [
        "!pip install rouge-score"
      ]
    },
    {
      "cell_type": "code",
      "source": [
        "from rouge_score import rouge_scorer"
      ],
      "metadata": {
        "id": "ofqfWgYenw_W"
      },
      "execution_count": 2,
      "outputs": []
    },
    {
      "cell_type": "code",
      "source": [
        "scorer = rouge_scorer.RougeScorer(['rouge1', 'rouge2', 'rougeL'], use_stemmer=True)"
      ],
      "metadata": {
        "id": "m5NDEkPrnz_G"
      },
      "execution_count": 3,
      "outputs": []
    },
    {
      "cell_type": "code",
      "source": [
        "candidate_summary = \"the cat was found under the bed\"\n",
        "reference_summary = \"the cat was under the bed\"\n",
        "scores = scorer.score(reference_summary, candidate_summary)\n",
        "for key in scores:\n",
        "    print(f'{key}: {scores[key]}')"
      ],
      "metadata": {
        "colab": {
          "base_uri": "https://localhost:8080/"
        },
        "id": "iaSQSRbNn9Bi",
        "outputId": "1041942e-0b55-4b8d-d2c9-5bb94d60baa7"
      },
      "execution_count": 4,
      "outputs": [
        {
          "output_type": "stream",
          "name": "stdout",
          "text": [
            "rouge1: Score(precision=0.8571428571428571, recall=1.0, fmeasure=0.923076923076923)\n",
            "rouge2: Score(precision=0.6666666666666666, recall=0.8, fmeasure=0.7272727272727272)\n",
            "rougeL: Score(precision=0.8571428571428571, recall=1.0, fmeasure=0.923076923076923)\n"
          ]
        }
      ]
    },
    {
      "cell_type": "markdown",
      "source": [
        "# After finetuning"
      ],
      "metadata": {
        "id": "A3sfhnfzM4iT"
      }
    },
    {
      "cell_type": "code",
      "source": [
        "import pandas as pd\n",
        "from rouge_score import rouge_scorer\n",
        "\n",
        "# Load the dataset\n",
        "df = pd.read_csv('finetuned-summaries-1.csv')\n",
        "\n",
        "# Initialize ROUGE scorer\n",
        "scorer = rouge_scorer.RougeScorer(['rouge1', 'rouge2', 'rougeL'], use_stemmer=True)\n",
        "\n",
        "# Lists to store ROUGE scores\n",
        "rouge1_scores = []\n",
        "rouge2_scores = []\n",
        "rougeL_scores = []\n",
        "\n",
        "# Compute ROUGE scores for each pair of reference and candidate summaries\n",
        "for index, row in df.iterrows():\n",
        "    reference_summary = row['Ground_Truth']\n",
        "    candidate_summary = row['Predicted_Summary']\n",
        "\n",
        "    scores = scorer.score(reference_summary, candidate_summary)\n",
        "\n",
        "    rouge1_scores.append(scores['rouge1'].fmeasure)\n",
        "    rouge2_scores.append(scores['rouge2'].fmeasure)\n",
        "    rougeL_scores.append(scores['rougeL'].fmeasure)\n",
        "\n",
        "# Calculate mean and standard deviation\n",
        "rouge1_mean = sum(rouge1_scores) / len(rouge1_scores)\n",
        "rouge2_mean = sum(rouge2_scores) / len(rouge2_scores)\n",
        "rougeL_mean = sum(rougeL_scores) / len(rougeL_scores)\n",
        "\n",
        "rouge1_stddev = (sum((x - rouge1_mean) ** 2 for x in rouge1_scores) / len(rouge1_scores)) ** 0.5\n",
        "rouge2_stddev = (sum((x - rouge2_mean) ** 2 for x in rouge2_scores) / len(rouge2_scores)) ** 0.5\n",
        "rougeL_stddev = (sum((x - rougeL_mean) ** 2 for x in rougeL_scores) / len(rougeL_scores)) ** 0.5\n",
        "\n",
        "# Print the results\n",
        "print(\"ROUGE-1:\")\n",
        "print(f\"Mean: {rouge1_mean}\")\n",
        "print(f\"Standard Deviation: {rouge1_stddev}\\n\")\n",
        "\n",
        "print(\"ROUGE-2:\")\n",
        "print(f\"Mean: {rouge2_mean}\")\n",
        "print(f\"Standard Deviation: {rouge2_stddev}\\n\")\n",
        "\n",
        "print(\"ROUGE-L:\")\n",
        "print(f\"Mean: {rougeL_mean}\")\n",
        "print(f\"Standard Deviation: {rougeL_stddev}\\n\")\n"
      ],
      "metadata": {
        "id": "s9LNbAJBpQRs",
        "colab": {
          "base_uri": "https://localhost:8080/"
        },
        "outputId": "4deda47b-8760-4100-9315-c04d13935ad9"
      },
      "execution_count": 5,
      "outputs": [
        {
          "output_type": "stream",
          "name": "stdout",
          "text": [
            "ROUGE-1:\n",
            "Mean: 0.4707764798272591\n",
            "Standard Deviation: 0.2709681156861192\n",
            "\n",
            "ROUGE-2:\n",
            "Mean: 0.29445298834031414\n",
            "Standard Deviation: 0.2847002323914824\n",
            "\n",
            "ROUGE-L:\n",
            "Mean: 0.44088446398783226\n",
            "Standard Deviation: 0.2736027004423736\n",
            "\n"
          ]
        }
      ]
    },
    {
      "cell_type": "code",
      "source": [
        "import pandas as pd\n",
        "from rouge_score import rouge_scorer\n",
        "\n",
        "# Load the dataset\n",
        "df = pd.read_csv('zero-shot-summaries-1.csv')\n",
        "\n",
        "# Initialize ROUGE scorer\n",
        "scorer = rouge_scorer.RougeScorer(['rouge1', 'rouge2', 'rougeL'], use_stemmer=True)\n",
        "\n",
        "# Lists to store ROUGE scores\n",
        "rouge1_scores = []\n",
        "rouge2_scores = []\n",
        "rougeL_scores = []\n",
        "\n",
        "# Compute ROUGE scores for each pair of reference and candidate summaries\n",
        "for index, row in df.iterrows():\n",
        "    reference_summary = row['Summary']\n",
        "    candidate_summary = row['ExtractedSummary']\n",
        "\n",
        "    scores = scorer.score(reference_summary, candidate_summary)\n",
        "\n",
        "    rouge1_scores.append(scores['rouge1'].fmeasure)\n",
        "    rouge2_scores.append(scores['rouge2'].fmeasure)\n",
        "    rougeL_scores.append(scores['rougeL'].fmeasure)\n",
        "\n",
        "# Calculate mean and standard deviation\n",
        "rouge1_mean = sum(rouge1_scores) / len(rouge1_scores)\n",
        "rouge2_mean = sum(rouge2_scores) / len(rouge2_scores)\n",
        "rougeL_mean = sum(rougeL_scores) / len(rougeL_scores)\n",
        "\n",
        "rouge1_stddev = (sum((x - rouge1_mean) ** 2 for x in rouge1_scores) / len(rouge1_scores)) ** 0.5\n",
        "rouge2_stddev = (sum((x - rouge2_mean) ** 2 for x in rouge2_scores) / len(rouge2_scores)) ** 0.5\n",
        "rougeL_stddev = (sum((x - rougeL_mean) ** 2 for x in rougeL_scores) / len(rougeL_scores)) ** 0.5\n",
        "\n",
        "# Print the results\n",
        "print(\"ROUGE-1:\")\n",
        "print(f\"Mean: {rouge1_mean}\")\n",
        "print(f\"Standard Deviation: {rouge1_stddev}\\n\")\n",
        "\n",
        "print(\"ROUGE-2:\")\n",
        "print(f\"Mean: {rouge2_mean}\")\n",
        "print(f\"Standard Deviation: {rouge2_stddev}\\n\")\n",
        "\n",
        "print(\"ROUGE-L:\")\n",
        "print(f\"Mean: {rougeL_mean}\")\n",
        "print(f\"Standard Deviation: {rougeL_stddev}\\n\")\n"
      ],
      "metadata": {
        "colab": {
          "base_uri": "https://localhost:8080/"
        },
        "id": "s71PsRhaM7fk",
        "outputId": "f2ab2f0a-6e88-4da0-faa4-c73d1431ab16"
      },
      "execution_count": 7,
      "outputs": [
        {
          "output_type": "stream",
          "name": "stdout",
          "text": [
            "ROUGE-1:\n",
            "Mean: 0.2945120223357154\n",
            "Standard Deviation: 0.16896329158638548\n",
            "\n",
            "ROUGE-2:\n",
            "Mean: 0.1085033862575723\n",
            "Standard Deviation: 0.12796306892280102\n",
            "\n",
            "ROUGE-L:\n",
            "Mean: 0.255755703156373\n",
            "Standard Deviation: 0.1597617451682135\n",
            "\n"
          ]
        }
      ]
    }
  ]
}