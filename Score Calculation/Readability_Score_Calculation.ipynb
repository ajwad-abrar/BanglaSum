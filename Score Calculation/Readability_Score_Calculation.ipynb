{
  "nbformat": 4,
  "nbformat_minor": 0,
  "metadata": {
    "colab": {
      "provenance": []
    },
    "kernelspec": {
      "name": "python3",
      "display_name": "Python 3"
    },
    "language_info": {
      "name": "python"
    }
  },
  "cells": [
    {
      "cell_type": "code",
      "source": [
        "!pip install textstat\n"
      ],
      "metadata": {
        "colab": {
          "base_uri": "https://localhost:8080/"
        },
        "id": "qhmSDvTfCTUi",
        "outputId": "149f35f7-d50a-4fee-849e-200e79008505"
      },
      "execution_count": null,
      "outputs": [
        {
          "output_type": "stream",
          "name": "stdout",
          "text": [
            "Collecting textstat\n",
            "  Downloading textstat-0.7.3-py3-none-any.whl (105 kB)\n",
            "\u001b[2K     \u001b[90m━━━━━━━━━━━━━━━━━━━━━━━━━━━━━━━━━━━━━━━━\u001b[0m \u001b[32m105.1/105.1 kB\u001b[0m \u001b[31m1.9 MB/s\u001b[0m eta \u001b[36m0:00:00\u001b[0m\n",
            "\u001b[?25hCollecting pyphen (from textstat)\n",
            "  Downloading pyphen-0.14.0-py3-none-any.whl (2.0 MB)\n",
            "\u001b[2K     \u001b[90m━━━━━━━━━━━━━━━━━━━━━━━━━━━━━━━━━━━━━━━━\u001b[0m \u001b[32m2.0/2.0 MB\u001b[0m \u001b[31m25.0 MB/s\u001b[0m eta \u001b[36m0:00:00\u001b[0m\n",
            "\u001b[?25hInstalling collected packages: pyphen, textstat\n",
            "Successfully installed pyphen-0.14.0 textstat-0.7.3\n"
          ]
        }
      ]
    },
    {
      "cell_type": "markdown",
      "source": [
        "**Readability score before finetuning**"
      ],
      "metadata": {
        "id": "kkMBD3DKpHgE"
      }
    },
    {
      "cell_type": "code",
      "execution_count": null,
      "metadata": {
        "colab": {
          "base_uri": "https://localhost:8080/"
        },
        "id": "2xwbYF28CRKG",
        "outputId": "bf7f4fd2-746c-413d-ccf7-f877475bbfbb"
      },
      "outputs": [
        {
          "output_type": "stream",
          "name": "stdout",
          "text": [
            "                                      ExtractedSummary  Readability_Score\n",
            "0                     Who and where to get cetirizine?              73.85\n",
            "1                                        bromocriptine              36.62\n",
            "2    Where can I order the nulytely and what is the...              58.28\n",
            "3    Should I be tested for multiple myeloma geneti...              36.96\n",
            "4    Is there a commercial genetic test for the IHH...              68.77\n",
            "..                                                 ...                ...\n",
            "338  Should I take the shingles vaccine despite bei...              53.21\n",
            "339  What might kill the friendly gut bacteria, Chr...              43.06\n",
            "340  Is it possible to obtain fluocinolone acetonid...              47.79\n",
            "341  What should I do to conceive a baby after bein...              52.87\n",
            "342  What are the best stem cell replacement option...              55.58\n",
            "\n",
            "[343 rows x 2 columns]\n",
            "Average Readability Score: 65.1632361516035\n"
          ]
        }
      ],
      "source": [
        "import pandas as pd\n",
        "from textstat import flesch_reading_ease\n",
        "\n",
        "# Load the data from the CSV file\n",
        "data = pd.read_csv(\"Final.csv\")\n",
        "\n",
        "# Function to calculate readability score\n",
        "def calculate_readability_score(summary):\n",
        "    # Compute the Flesch Reading Ease score\n",
        "    return flesch_reading_ease(summary)\n",
        "\n",
        "# Apply the function to the generated_summary column\n",
        "data['Readability_Score'] = data['ExtractedSummary'].apply(calculate_readability_score)\n",
        "\n",
        "# Print the dataframe with the readability scores\n",
        "print(data[['ExtractedSummary', 'Readability_Score']])\n",
        "\n",
        "# Calculate the sum of readability scores\n",
        "total_readability_score = data['Readability_Score'].sum()\n",
        "\n",
        "# Get the number of rows in the dataframe\n",
        "num_rows = len(data)\n",
        "\n",
        "\n",
        "# Calculate the average readability score\n",
        "avg_readability_score = data['Readability_Score'].mean()\n",
        "\n",
        "print(\"Average Readability Score:\", avg_readability_score)\n",
        "\n"
      ]
    },
    {
      "cell_type": "markdown",
      "source": [
        "**Readability score after finetuning**"
      ],
      "metadata": {
        "id": "73qfnDCBpS7_"
      }
    },
    {
      "cell_type": "code",
      "source": [
        "import pandas as pd\n",
        "from textstat import flesch_reading_ease\n",
        "\n",
        "# Load the data from the CSV file\n",
        "data = pd.read_csv(\"finetuned-summaries-1.csv\")\n",
        "\n",
        "# Function to calculate readability score\n",
        "def calculate_readability_score(summary):\n",
        "    # Compute the Flesch Reading Ease score\n",
        "    return flesch_reading_ease(summary)\n",
        "\n",
        "# Apply the function to the generated_summary column\n",
        "data['Readability_Score'] = data['Predicted_Summary'].apply(calculate_readability_score)\n",
        "\n",
        "# Print the dataframe with the readability scores\n",
        "print(data[['Predicted_Summary', 'Readability_Score']])\n",
        "\n",
        "# Calculate the sum of readability scores\n",
        "total_readability_score = data['Readability_Score'].sum()\n",
        "\n",
        "# Get the number of rows in the dataframe\n",
        "num_rows = len(data)\n",
        "\n",
        "\n",
        "# Calculate the average readability score\n",
        "avg_readability_score = data['Readability_Score'].mean()\n",
        "\n",
        "print(\"Average Readability Score:\", avg_readability_score)\n",
        "\n"
      ],
      "metadata": {
        "colab": {
          "base_uri": "https://localhost:8080/"
        },
        "id": "dNz82lWqDD1x",
        "outputId": "0cd742d2-ddea-4f0d-9c62-1c2abd797178"
      },
      "execution_count": null,
      "outputs": [
        {
          "output_type": "stream",
          "name": "stdout",
          "text": [
            "                                     Predicted_Summary  Readability_Score\n",
            "0     What are the causes of trimethylaminuria and ...              85.69\n",
            "1                            Is Vistaril gluten-free?               34.59\n",
            "2       What are the treatments for pheochromocytoma?               56.93\n",
            "3            What are the treatment options for COPD?               89.75\n",
            "4     What treatments are available for demyelinati...              -4.33\n",
            "..                                                 ...                ...\n",
            "195        What are the best treatments for tinnitus?               81.29\n",
            "196   What are the treatment options for glycogen s...              62.34\n",
            "197   Where can I find a neurologist that specializ...              58.28\n",
            "198    What are the swelling symptoms of sleep apnea?               88.74\n",
            "199   Where can I find visual aids to assist a 85 y...              61.67\n",
            "\n",
            "[200 rows x 2 columns]\n",
            "Average Readability Score: 70.69945\n"
          ]
        }
      ]
    }
  ]
}